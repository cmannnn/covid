{
  "nbformat": 4,
  "nbformat_minor": 0,
  "metadata": {
    "accelerator": "GPU",
    "colab": {
      "name": "predict_future_sales.ipynb",
      "provenance": [],
      "collapsed_sections": [
        "U4SoFslGfRpJ",
        "uHVIBl7Xcv4E",
        "ZkxytbOZL-jn",
        "bOxMQcL9dMuu",
        "MchAi0wABchP",
        "O6TAj7fUryKg"
      ],
      "include_colab_link": true
    },
    "kernelspec": {
      "display_name": "Python 3",
      "language": "python",
      "name": "python3"
    },
    "language_info": {
      "codemirror_mode": {
        "name": "ipython",
        "version": 3
      },
      "file_extension": ".py",
      "mimetype": "text/x-python",
      "name": "python",
      "nbconvert_exporter": "python",
      "pygments_lexer": "ipython3",
      "version": "3.8.3"
    }
  },
  "cells": [
    {
      "cell_type": "markdown",
      "metadata": {
        "id": "view-in-github",
        "colab_type": "text"
      },
      "source": [
        "<a href=\"https://colab.research.google.com/github/cmannnn/predict_future_sales/blob/main/predict_future_sales.ipynb\" target=\"_parent\"><img src=\"https://colab.research.google.com/assets/colab-badge.svg\" alt=\"Open In Colab\"/></a>"
      ]
    },
    {
      "cell_type": "markdown",
      "metadata": {
        "id": "U4SoFslGfRpJ"
      },
      "source": [
        "# Predict Future Sales"
      ]
    },
    {
      "cell_type": "markdown",
      "metadata": {
        "id": "DJaaDvndfbOO"
      },
      "source": [
        "You are provided with daily historical sales data. The task is to forecast the total amount of products sold in every shop for the test set. Note that the list of shops and products slightly changes every month. Creating a robust model that can handle such situations is part of the challenge."
      ]
    },
    {
      "cell_type": "markdown",
      "metadata": {
        "id": "7GwxSxIkblYe"
      },
      "source": [
        "# File descriptions"
      ]
    },
    {
      "cell_type": "code",
      "metadata": {
        "id": "PpAc3j6Eb2hI",
        "colab": {
          "base_uri": "https://localhost:8080/"
        },
        "outputId": "cef91f96-6b22-4308-9118-4ddf6d92bc7e"
      },
      "source": [
        "from google.colab import drive\n",
        "drive.mount('/content/drive')"
      ],
      "execution_count": 2,
      "outputs": [
        {
          "output_type": "stream",
          "text": [
            "Drive already mounted at /content/drive; to attempt to forcibly remount, call drive.mount(\"/content/drive\", force_remount=True).\n"
          ],
          "name": "stdout"
        }
      ]
    },
    {
      "cell_type": "markdown",
      "metadata": {
        "id": "pj9IqueibjQL"
      },
      "source": [
        "itemcats_df - supplemental information about the items categories.\n",
        "\n",
        "items_df - supplemental information about the items/products.\n",
        "\n",
        "salestrain_df - the training set. Daily historical data from January 2013 to October 2015.\n",
        "\n",
        "shops_df - supplemental information about the shops.\n",
        "\n",
        "test.csv - the test set. You need to forecast the sales for these shops and products for November 2015.\n",
        "\n",
        "sample_submission.csv - a sample submission file in the correct format."
      ]
    },
    {
      "cell_type": "markdown",
      "metadata": {
        "id": "j-UxcjnUffCN"
      },
      "source": [
        "# Imports and uploads"
      ]
    },
    {
      "cell_type": "code",
      "metadata": {
        "id": "XTSLNlmdd5lX"
      },
      "source": [
        "# imports\n",
        "import os\n",
        "\n",
        "import pandas as pd\n",
        "import matplotlib.pyplot as plt\n",
        "import numpy as np\n",
        "import seaborn as sns\n",
        "\n",
        "import datetime as dt\n",
        "\n",
        "#import specific sklearn packages\n",
        "from sklearn.model_selection import train_test_split\n",
        "from sklearn.model_selection import TimeSeriesSplit\n",
        "from sklearn.model_selection import StratifiedKFold\n",
        "\n",
        "#encoders, tested several of them\n",
        "from sklearn.preprocessing import OrdinalEncoder # remove later, don't use this\n",
        "from sklearn.preprocessing import LabelEncoder # remove later, don't use this\n",
        "from sklearn.preprocessing import OneHotEncoder # probably don't use this, instead use pd.get_dummies\n",
        "from sklearn.feature_extraction import FeatureHasher\n",
        "\n",
        "from sklearn.preprocessing import MinMaxScaler\n",
        "from sklearn.preprocessing import StandardScaler\n",
        "\n",
        "from sklearn.feature_selection import VarianceThreshold\n",
        "\n",
        "from sklearn.metrics import classification_report\n",
        "from sklearn.metrics import confusion_matrix\n",
        "\n",
        "from sklearn.pipeline import make_pipeline\n",
        "\n",
        "from sklearn.cluster import KMeans\n",
        "\n",
        "from sklearn.linear_model import LogisticRegression\n",
        "\n",
        "from sklearn import linear_model"
      ],
      "execution_count": 3,
      "outputs": []
    },
    {
      "cell_type": "markdown",
      "metadata": {
        "id": "CtvB6iC3P5pp"
      },
      "source": [
        "## Kaggle Imports "
      ]
    },
    {
      "cell_type": "code",
      "metadata": {
        "id": "PFj3ad_MNaoz"
      },
      "source": [
        "#!pip install kaggle"
      ],
      "execution_count": 4,
      "outputs": []
    },
    {
      "cell_type": "code",
      "metadata": {
        "id": "wezZf71jNjPJ"
      },
      "source": [
        "# UPLOAD YOUR kaggle.json KEY HERE\n",
        "\n",
        "# from google.colab import files\n",
        "\n",
        "# uploaded = files.upload()\n",
        "\n",
        "# for fn in uploaded.keys():\n",
        "#  print('User uploaded file \"{name}\" with length {length} bytes'.format(\n",
        "#      name=fn, length=len(uploaded[fn])))\n",
        "\n",
        "\n",
        "#!mkdir -p ~/.kaggle/ && mv kaggle.json ~/.kaggle/ && chmod 600 ~/.kaggle/kaggle.json"
      ],
      "execution_count": 5,
      "outputs": []
    },
    {
      "cell_type": "code",
      "metadata": {
        "id": "j5MjpqkNOGj8"
      },
      "source": [
        "# !kaggle competitions list"
      ],
      "execution_count": 6,
      "outputs": []
    },
    {
      "cell_type": "code",
      "metadata": {
        "id": "UDUtQqcJYNLt"
      },
      "source": [
        "# !mkdir -p predict_future_sales"
      ],
      "execution_count": 7,
      "outputs": []
    },
    {
      "cell_type": "code",
      "metadata": {
        "id": "Wgoyloq3NmIX"
      },
      "source": [
        "# UPLOAD 6 FILES HERE\n",
        "# uploaded2 = files.upload()"
      ],
      "execution_count": 8,
      "outputs": []
    },
    {
      "cell_type": "code",
      "metadata": {
        "id": "0o_BHflNj8B0"
      },
      "source": [
        "#!cp test.csv predict_future_sales/\n",
        "#!cp item_categories.csv predict_future_sales/\n",
        "#!cp items.csv predict_future_sales/\n",
        "#!cp sales_train.csv predict_future_sales/\n",
        "#!cp sample_submission.csv predict_future_sales/\n",
        "#!cp shops.csv predict_future_sales/\n",
        "#!cp test.csv predict_future_sales/"
      ],
      "execution_count": 9,
      "outputs": []
    },
    {
      "cell_type": "markdown",
      "metadata": {
        "id": "4mY4s3UubFhz"
      },
      "source": [
        "# Importing All Predict Sales Data"
      ]
    },
    {
      "cell_type": "code",
      "metadata": {
        "id": "CwqnebRuocPf"
      },
      "source": [
        "#importing all the data frames\n",
        "root_path='drive/MyDrive/Camp Jupyter/predict_future_sales_data/'\n",
        "itemcats_df = pd.read_csv(root_path+\"item_categories.csv\", encoding= 'unicode_escape') #Item Categories\n",
        "items_df = pd.read_csv(root_path+\"items.csv\", encoding= 'unicode_escape') # Items\n",
        "salestrain_df = pd.read_csv(root_path+\"sales_train.csv\", encoding= 'unicode_escape') #Sales Data - Training\n",
        "shops_df = pd.read_csv(root_path+\"shops.csv\", encoding= 'unicode_escape') # Shops\n",
        "usd_rus_df=pd.read_csv(root_path+'USD-RUS.csv')"
      ],
      "execution_count": 10,
      "outputs": []
    },
    {
      "cell_type": "code",
      "metadata": {
        "id": "zkKM_5O-LcE5"
      },
      "source": [
        "# sample submission dataframe\n",
        "sample_df = pd.read_csv(root_path+'sample_submission.csv')\n",
        "\n",
        "# test data frame\n",
        "test_df = pd.read_csv(root_path+'test.csv')"
      ],
      "execution_count": 11,
      "outputs": []
    },
    {
      "cell_type": "markdown",
      "metadata": {
        "id": "2JVZ-b2LbqjR"
      },
      "source": [
        "# Data EDA"
      ]
    },
    {
      "cell_type": "code",
      "metadata": {
        "id": "lg8_zM9rbRsN"
      },
      "source": [
        "# creating a master list of all dataframes\n",
        "df_list = [itemcats_df, items_df, salestrain_df, shops_df]"
      ],
      "execution_count": 12,
      "outputs": []
    },
    {
      "cell_type": "code",
      "metadata": {
        "id": "kFrFewFkbvdB",
        "colab": {
          "base_uri": "https://localhost:8080/"
        },
        "outputId": "edf70d37-6be1-4570-f525-b0049923beb7"
      },
      "source": [
        "# creating a loop to print head, description, info, and null sum for each datafram in master list \n",
        "for df in df_list:\n",
        "    print(f'DATAFRAME HEAD: {df.head()}')\n",
        "    print('-----------------------')\n",
        "    print(f'DATAFRAME DESCRIPTION: {df.describe()}')\n",
        "    print('-----------------------')\n",
        "    print(f'DATAFAME INFO: {df.info()}')\n",
        "    print('-----------------------')\n",
        "    print(f'DATAFRAME NULL SUM: {df.isnull().sum()}')\n",
        "    print('------------------------------------------------------------------------------')"
      ],
      "execution_count": 13,
      "outputs": [
        {
          "output_type": "stream",
          "text": [
            "DATAFRAME HEAD:            item_category_name  item_category_id\n",
            "0  PC - Headsets / Headphones                 0\n",
            "1           Accessories - PS2                 1\n",
            "2           Accessories - PS3                 2\n",
            "3           Accessories - PS4                 3\n",
            "4           Accessories - PSP                 4\n",
            "-----------------------\n",
            "DATAFRAME DESCRIPTION:        item_category_id\n",
            "count         84.000000\n",
            "mean          41.500000\n",
            "std           24.392622\n",
            "min            0.000000\n",
            "25%           20.750000\n",
            "50%           41.500000\n",
            "75%           62.250000\n",
            "max           83.000000\n",
            "-----------------------\n",
            "<class 'pandas.core.frame.DataFrame'>\n",
            "RangeIndex: 84 entries, 0 to 83\n",
            "Data columns (total 2 columns):\n",
            " #   Column              Non-Null Count  Dtype \n",
            "---  ------              --------------  ----- \n",
            " 0   item_category_name  84 non-null     object\n",
            " 1   item_category_id    84 non-null     int64 \n",
            "dtypes: int64(1), object(1)\n",
            "memory usage: 1.4+ KB\n",
            "DATAFAME INFO: None\n",
            "-----------------------\n",
            "DATAFRAME NULL SUM: item_category_name    0\n",
            "item_category_id      0\n",
            "dtype: int64\n",
            "------------------------------------------------------------------------------\n",
            "DATAFRAME HEAD:                                            item_name  item_id  item_category_id\n",
            "0                       ! POWER IN glamor (PLAST.) D        0                40\n",
            "1  ! ABBYY FineReader 12 Professional Edition Ful...        1                76\n",
            "2                           *** In the glory (UNV) D        2                40\n",
            "3                             *** BLUE WAVE (Univ) D        3                40\n",
            "4                                  *** BOX (GLASS) D        4                40\n",
            "-----------------------\n",
            "DATAFRAME DESCRIPTION:            item_id  item_category_id\n",
            "count  22170.00000      22170.000000\n",
            "mean   11084.50000         46.290753\n",
            "std     6400.07207         15.941486\n",
            "min        0.00000          0.000000\n",
            "25%     5542.25000         37.000000\n",
            "50%    11084.50000         40.000000\n",
            "75%    16626.75000         58.000000\n",
            "max    22169.00000         83.000000\n",
            "-----------------------\n",
            "<class 'pandas.core.frame.DataFrame'>\n",
            "RangeIndex: 22170 entries, 0 to 22169\n",
            "Data columns (total 3 columns):\n",
            " #   Column            Non-Null Count  Dtype \n",
            "---  ------            --------------  ----- \n",
            " 0   item_name         22170 non-null  object\n",
            " 1   item_id           22170 non-null  int64 \n",
            " 2   item_category_id  22170 non-null  int64 \n",
            "dtypes: int64(2), object(1)\n",
            "memory usage: 519.7+ KB\n",
            "DATAFAME INFO: None\n",
            "-----------------------\n",
            "DATAFRAME NULL SUM: item_name           0\n",
            "item_id             0\n",
            "item_category_id    0\n",
            "dtype: int64\n",
            "------------------------------------------------------------------------------\n",
            "DATAFRAME HEAD:          date  date_block_num  shop_id  item_id  item_price  item_cnt_day\n",
            "0  02.01.2013               0       59    22154      999.00           1.0\n",
            "1  03.01.2013               0       25     2552      899.00           1.0\n",
            "2  05.01.2013               0       25     2552      899.00          -1.0\n",
            "3  06.01.2013               0       25     2554     1709.05           1.0\n",
            "4  15.01.2013               0       25     2555     1099.00           1.0\n",
            "-----------------------\n",
            "DATAFRAME DESCRIPTION:        date_block_num       shop_id       item_id    item_price  item_cnt_day\n",
            "count    2.935849e+06  2.935849e+06  2.935849e+06  2.935849e+06  2.935849e+06\n",
            "mean     1.456991e+01  3.300173e+01  1.019723e+04  8.908532e+02  1.242641e+00\n",
            "std      9.422988e+00  1.622697e+01  6.324297e+03  1.729800e+03  2.618834e+00\n",
            "min      0.000000e+00  0.000000e+00  0.000000e+00 -1.000000e+00 -2.200000e+01\n",
            "25%      7.000000e+00  2.200000e+01  4.476000e+03  2.490000e+02  1.000000e+00\n",
            "50%      1.400000e+01  3.100000e+01  9.343000e+03  3.990000e+02  1.000000e+00\n",
            "75%      2.300000e+01  4.700000e+01  1.568400e+04  9.990000e+02  1.000000e+00\n",
            "max      3.300000e+01  5.900000e+01  2.216900e+04  3.079800e+05  2.169000e+03\n",
            "-----------------------\n",
            "<class 'pandas.core.frame.DataFrame'>\n",
            "RangeIndex: 2935849 entries, 0 to 2935848\n",
            "Data columns (total 6 columns):\n",
            " #   Column          Dtype  \n",
            "---  ------          -----  \n",
            " 0   date            object \n",
            " 1   date_block_num  int64  \n",
            " 2   shop_id         int64  \n",
            " 3   item_id         int64  \n",
            " 4   item_price      float64\n",
            " 5   item_cnt_day    float64\n",
            "dtypes: float64(2), int64(3), object(1)\n",
            "memory usage: 134.4+ MB\n",
            "DATAFAME INFO: None\n",
            "-----------------------\n",
            "DATAFRAME NULL SUM: date              0\n",
            "date_block_num    0\n",
            "shop_id           0\n",
            "item_id           0\n",
            "item_price        0\n",
            "item_cnt_day      0\n",
            "dtype: int64\n",
            "------------------------------------------------------------------------------\n",
            "DATAFRAME HEAD:                            shop_name  shop_id\n",
            "0  ! Yakutsk Ordzhonikidze, 56 Franc        0\n",
            "1       ! Yakutsk TC \"Central\" Franc        1\n",
            "2                   Adygea TC \"Mega\"        2\n",
            "3   Balashikha TRC \"October-Kinomir\"        3\n",
            "4         Volzhsky mall \"Volga Mall\"        4\n",
            "-----------------------\n",
            "DATAFRAME DESCRIPTION:          shop_id\n",
            "count  60.000000\n",
            "mean   29.500000\n",
            "std    17.464249\n",
            "min     0.000000\n",
            "25%    14.750000\n",
            "50%    29.500000\n",
            "75%    44.250000\n",
            "max    59.000000\n",
            "-----------------------\n",
            "<class 'pandas.core.frame.DataFrame'>\n",
            "RangeIndex: 60 entries, 0 to 59\n",
            "Data columns (total 2 columns):\n",
            " #   Column     Non-Null Count  Dtype \n",
            "---  ------     --------------  ----- \n",
            " 0   shop_name  60 non-null     object\n",
            " 1   shop_id    60 non-null     int64 \n",
            "dtypes: int64(1), object(1)\n",
            "memory usage: 1.1+ KB\n",
            "DATAFAME INFO: None\n",
            "-----------------------\n",
            "DATAFRAME NULL SUM: shop_name    0\n",
            "shop_id      0\n",
            "dtype: int64\n",
            "------------------------------------------------------------------------------\n"
          ],
          "name": "stdout"
        }
      ]
    },
    {
      "cell_type": "code",
      "metadata": {
        "id": "cuuZBZ42ZsYM",
        "colab": {
          "base_uri": "https://localhost:8080/"
        },
        "outputId": "68f1e6d8-3ffc-4903-bbe7-dcbdcdeb0e9d"
      },
      "source": [
        "for df in df_list:\n",
        "    for col in df:\n",
        "        print('-----------------------------------------------------------')\n",
        "        print(f'The {col} column has the following number of unique values:')\n",
        "        print(df[col].nunique())\n",
        "        print(' ')"
      ],
      "execution_count": 14,
      "outputs": [
        {
          "output_type": "stream",
          "text": [
            "-----------------------------------------------------------\n",
            "The item_category_name column has the following number of unique values:\n",
            "84\n",
            " \n",
            "-----------------------------------------------------------\n",
            "The item_category_id column has the following number of unique values:\n",
            "84\n",
            " \n",
            "-----------------------------------------------------------\n",
            "The item_name column has the following number of unique values:\n",
            "22150\n",
            " \n",
            "-----------------------------------------------------------\n",
            "The item_id column has the following number of unique values:\n",
            "22170\n",
            " \n",
            "-----------------------------------------------------------\n",
            "The item_category_id column has the following number of unique values:\n",
            "84\n",
            " \n",
            "-----------------------------------------------------------\n",
            "The date column has the following number of unique values:\n",
            "1034\n",
            " \n",
            "-----------------------------------------------------------\n",
            "The date_block_num column has the following number of unique values:\n",
            "34\n",
            " \n",
            "-----------------------------------------------------------\n",
            "The shop_id column has the following number of unique values:\n",
            "60\n",
            " \n",
            "-----------------------------------------------------------\n",
            "The item_id column has the following number of unique values:\n",
            "21807\n",
            " \n",
            "-----------------------------------------------------------\n",
            "The item_price column has the following number of unique values:\n",
            "19993\n",
            " \n",
            "-----------------------------------------------------------\n",
            "The item_cnt_day column has the following number of unique values:\n",
            "198\n",
            " \n",
            "-----------------------------------------------------------\n",
            "The shop_name column has the following number of unique values:\n",
            "60\n",
            " \n",
            "-----------------------------------------------------------\n",
            "The shop_id column has the following number of unique values:\n",
            "60\n",
            " \n"
          ],
          "name": "stdout"
        }
      ]
    },
    {
      "cell_type": "code",
      "metadata": {
        "id": "gAaoFHoIcBDg",
        "colab": {
          "base_uri": "https://localhost:8080/"
        },
        "outputId": "664ac961-b015-4766-fd14-5698f0e70f81"
      },
      "source": [
        "# checking itemcats_df column data types\n",
        "itemcats_df.dtypes"
      ],
      "execution_count": 15,
      "outputs": [
        {
          "output_type": "execute_result",
          "data": {
            "text/plain": [
              "item_category_name    object\n",
              "item_category_id       int64\n",
              "dtype: object"
            ]
          },
          "metadata": {
            "tags": []
          },
          "execution_count": 15
        }
      ]
    },
    {
      "cell_type": "code",
      "metadata": {
        "id": "B-iFIwgBcC66",
        "colab": {
          "base_uri": "https://localhost:8080/"
        },
        "outputId": "e62cd116-eb23-4746-9449-01dce4d7cefa"
      },
      "source": [
        "# checking item_df column data types\n",
        "items_df.dtypes"
      ],
      "execution_count": 16,
      "outputs": [
        {
          "output_type": "execute_result",
          "data": {
            "text/plain": [
              "item_name           object\n",
              "item_id              int64\n",
              "item_category_id     int64\n",
              "dtype: object"
            ]
          },
          "metadata": {
            "tags": []
          },
          "execution_count": 16
        }
      ]
    },
    {
      "cell_type": "code",
      "metadata": {
        "id": "mtdzLWs9cF9B",
        "colab": {
          "base_uri": "https://localhost:8080/"
        },
        "outputId": "ceb2484a-badf-45b8-ab9a-154faffc1892"
      },
      "source": [
        "# checking salestrain_df data types\n",
        "salestrain_df.dtypes"
      ],
      "execution_count": 17,
      "outputs": [
        {
          "output_type": "execute_result",
          "data": {
            "text/plain": [
              "date               object\n",
              "date_block_num      int64\n",
              "shop_id             int64\n",
              "item_id             int64\n",
              "item_price        float64\n",
              "item_cnt_day      float64\n",
              "dtype: object"
            ]
          },
          "metadata": {
            "tags": []
          },
          "execution_count": 17
        }
      ]
    },
    {
      "cell_type": "code",
      "metadata": {
        "id": "BZfrZjc7cMde"
      },
      "source": [
        "# changing salestrain 'item_cnt_day' col from float64 -> int16\n",
        "salestrain_df['item_cnt_day'] = pd.to_numeric(salestrain_df['item_cnt_day'], downcast='signed')"
      ],
      "execution_count": 18,
      "outputs": []
    },
    {
      "cell_type": "code",
      "metadata": {
        "id": "u8_43wo0cole"
      },
      "source": [
        "# changing salestrain 'date' col from object -> datetime\n",
        "salestrain_df['date'] = pd.to_datetime(salestrain_df['date'])"
      ],
      "execution_count": 19,
      "outputs": []
    },
    {
      "cell_type": "code",
      "metadata": {
        "id": "mxdsCpTYcrRd",
        "colab": {
          "base_uri": "https://localhost:8080/"
        },
        "outputId": "53c08d23-8fd3-4ea0-828f-2c76eaeabc4b"
      },
      "source": [
        "shops_df.dtypes"
      ],
      "execution_count": 20,
      "outputs": [
        {
          "output_type": "execute_result",
          "data": {
            "text/plain": [
              "shop_name    object\n",
              "shop_id       int64\n",
              "dtype: object"
            ]
          },
          "metadata": {
            "tags": []
          },
          "execution_count": 20
        }
      ]
    },
    {
      "cell_type": "code",
      "metadata": {
        "id": "JnjZjLxSL-jl",
        "colab": {
          "base_uri": "https://localhost:8080/",
          "height": 80
        },
        "outputId": "808658a7-cd1f-4339-8278-5c7f66de1cc5"
      },
      "source": [
        "# the df info showed some items with negative price, check them here\n",
        "salestrain_df[salestrain_df['item_price'] < 0]"
      ],
      "execution_count": 21,
      "outputs": [
        {
          "output_type": "execute_result",
          "data": {
            "text/html": [
              "<div>\n",
              "<style scoped>\n",
              "    .dataframe tbody tr th:only-of-type {\n",
              "        vertical-align: middle;\n",
              "    }\n",
              "\n",
              "    .dataframe tbody tr th {\n",
              "        vertical-align: top;\n",
              "    }\n",
              "\n",
              "    .dataframe thead th {\n",
              "        text-align: right;\n",
              "    }\n",
              "</style>\n",
              "<table border=\"1\" class=\"dataframe\">\n",
              "  <thead>\n",
              "    <tr style=\"text-align: right;\">\n",
              "      <th></th>\n",
              "      <th>date</th>\n",
              "      <th>date_block_num</th>\n",
              "      <th>shop_id</th>\n",
              "      <th>item_id</th>\n",
              "      <th>item_price</th>\n",
              "      <th>item_cnt_day</th>\n",
              "    </tr>\n",
              "  </thead>\n",
              "  <tbody>\n",
              "    <tr>\n",
              "      <th>484683</th>\n",
              "      <td>2013-05-15</td>\n",
              "      <td>4</td>\n",
              "      <td>32</td>\n",
              "      <td>2973</td>\n",
              "      <td>-1.0</td>\n",
              "      <td>1</td>\n",
              "    </tr>\n",
              "  </tbody>\n",
              "</table>\n",
              "</div>"
            ],
            "text/plain": [
              "             date  date_block_num  shop_id  item_id  item_price  item_cnt_day\n",
              "484683 2013-05-15               4       32     2973        -1.0             1"
            ]
          },
          "metadata": {
            "tags": []
          },
          "execution_count": 21
        }
      ]
    },
    {
      "cell_type": "code",
      "metadata": {
        "id": "AGz0Jt1jL-jl"
      },
      "source": [
        "# this item is a game, released in 2013, so very unlikely that price is negative: change price to median price of this item in the same date_block_num\n",
        "salestrain_df.loc[salestrain_df['item_price'] < 0, 'item_price'] = salestrain_df[(salestrain_df['item_price'] > 0) & (salestrain_df['date_block_num'] == 4) & (salestrain_df['item_id'] == 2973)]['item_price'].median()"
      ],
      "execution_count": 22,
      "outputs": []
    },
    {
      "cell_type": "code",
      "metadata": {
        "colab": {
          "base_uri": "https://localhost:8080/",
          "height": 204
        },
        "id": "DAG2HRoxLq1h",
        "outputId": "d9eec81b-4183-4549-f042-f0c4c7d71ef7"
      },
      "source": [
        "salestrain_df.head()"
      ],
      "execution_count": 23,
      "outputs": [
        {
          "output_type": "execute_result",
          "data": {
            "text/html": [
              "<div>\n",
              "<style scoped>\n",
              "    .dataframe tbody tr th:only-of-type {\n",
              "        vertical-align: middle;\n",
              "    }\n",
              "\n",
              "    .dataframe tbody tr th {\n",
              "        vertical-align: top;\n",
              "    }\n",
              "\n",
              "    .dataframe thead th {\n",
              "        text-align: right;\n",
              "    }\n",
              "</style>\n",
              "<table border=\"1\" class=\"dataframe\">\n",
              "  <thead>\n",
              "    <tr style=\"text-align: right;\">\n",
              "      <th></th>\n",
              "      <th>date</th>\n",
              "      <th>date_block_num</th>\n",
              "      <th>shop_id</th>\n",
              "      <th>item_id</th>\n",
              "      <th>item_price</th>\n",
              "      <th>item_cnt_day</th>\n",
              "    </tr>\n",
              "  </thead>\n",
              "  <tbody>\n",
              "    <tr>\n",
              "      <th>0</th>\n",
              "      <td>2013-02-01</td>\n",
              "      <td>0</td>\n",
              "      <td>59</td>\n",
              "      <td>22154</td>\n",
              "      <td>999.00</td>\n",
              "      <td>1</td>\n",
              "    </tr>\n",
              "    <tr>\n",
              "      <th>1</th>\n",
              "      <td>2013-03-01</td>\n",
              "      <td>0</td>\n",
              "      <td>25</td>\n",
              "      <td>2552</td>\n",
              "      <td>899.00</td>\n",
              "      <td>1</td>\n",
              "    </tr>\n",
              "    <tr>\n",
              "      <th>2</th>\n",
              "      <td>2013-05-01</td>\n",
              "      <td>0</td>\n",
              "      <td>25</td>\n",
              "      <td>2552</td>\n",
              "      <td>899.00</td>\n",
              "      <td>-1</td>\n",
              "    </tr>\n",
              "    <tr>\n",
              "      <th>3</th>\n",
              "      <td>2013-06-01</td>\n",
              "      <td>0</td>\n",
              "      <td>25</td>\n",
              "      <td>2554</td>\n",
              "      <td>1709.05</td>\n",
              "      <td>1</td>\n",
              "    </tr>\n",
              "    <tr>\n",
              "      <th>4</th>\n",
              "      <td>2013-01-15</td>\n",
              "      <td>0</td>\n",
              "      <td>25</td>\n",
              "      <td>2555</td>\n",
              "      <td>1099.00</td>\n",
              "      <td>1</td>\n",
              "    </tr>\n",
              "  </tbody>\n",
              "</table>\n",
              "</div>"
            ],
            "text/plain": [
              "        date  date_block_num  shop_id  item_id  item_price  item_cnt_day\n",
              "0 2013-02-01               0       59    22154      999.00             1\n",
              "1 2013-03-01               0       25     2552      899.00             1\n",
              "2 2013-05-01               0       25     2552      899.00            -1\n",
              "3 2013-06-01               0       25     2554     1709.05             1\n",
              "4 2013-01-15               0       25     2555     1099.00             1"
            ]
          },
          "metadata": {
            "tags": []
          },
          "execution_count": 23
        }
      ]
    },
    {
      "cell_type": "markdown",
      "metadata": {
        "id": "2qYdcQFvL2yS"
      },
      "source": [
        "### Check Currency Conversion Data"
      ]
    },
    {
      "cell_type": "markdown",
      "metadata": {
        "id": "cvcDigZiB7Lw"
      },
      "source": [
        "Adding Sumeets idea of adding the RUS-USD conversion rate to the main dataframe"
      ]
    },
    {
      "cell_type": "code",
      "metadata": {
        "colab": {
          "base_uri": "https://localhost:8080/",
          "height": 204
        },
        "id": "x4L0o_VmMIi2",
        "outputId": "1e7b40db-c54e-4dde-c85a-a4fc56e944aa"
      },
      "source": [
        "usd_rus_df.head()"
      ],
      "execution_count": 24,
      "outputs": [
        {
          "output_type": "execute_result",
          "data": {
            "text/html": [
              "<div>\n",
              "<style scoped>\n",
              "    .dataframe tbody tr th:only-of-type {\n",
              "        vertical-align: middle;\n",
              "    }\n",
              "\n",
              "    .dataframe tbody tr th {\n",
              "        vertical-align: top;\n",
              "    }\n",
              "\n",
              "    .dataframe thead th {\n",
              "        text-align: right;\n",
              "    }\n",
              "</style>\n",
              "<table border=\"1\" class=\"dataframe\">\n",
              "  <thead>\n",
              "    <tr style=\"text-align: right;\">\n",
              "      <th></th>\n",
              "      <th>Date</th>\n",
              "      <th>Open</th>\n",
              "      <th>High</th>\n",
              "      <th>Low</th>\n",
              "      <th>Close</th>\n",
              "      <th>Adj Close</th>\n",
              "      <th>Volume</th>\n",
              "    </tr>\n",
              "  </thead>\n",
              "  <tbody>\n",
              "    <tr>\n",
              "      <th>0</th>\n",
              "      <td>2003-12-01</td>\n",
              "      <td>29.730000</td>\n",
              "      <td>29.730000</td>\n",
              "      <td>29.690001</td>\n",
              "      <td>29.700001</td>\n",
              "      <td>29.700001</td>\n",
              "      <td>0.0</td>\n",
              "    </tr>\n",
              "    <tr>\n",
              "      <th>1</th>\n",
              "      <td>2003-12-02</td>\n",
              "      <td>29.690001</td>\n",
              "      <td>29.700001</td>\n",
              "      <td>29.690001</td>\n",
              "      <td>29.690001</td>\n",
              "      <td>29.690001</td>\n",
              "      <td>0.0</td>\n",
              "    </tr>\n",
              "    <tr>\n",
              "      <th>2</th>\n",
              "      <td>2003-12-03</td>\n",
              "      <td>29.690001</td>\n",
              "      <td>29.690001</td>\n",
              "      <td>29.690001</td>\n",
              "      <td>29.690001</td>\n",
              "      <td>29.690001</td>\n",
              "      <td>0.0</td>\n",
              "    </tr>\n",
              "    <tr>\n",
              "      <th>3</th>\n",
              "      <td>2003-12-04</td>\n",
              "      <td>29.680000</td>\n",
              "      <td>29.680000</td>\n",
              "      <td>29.680000</td>\n",
              "      <td>29.680000</td>\n",
              "      <td>29.680000</td>\n",
              "      <td>0.0</td>\n",
              "    </tr>\n",
              "    <tr>\n",
              "      <th>4</th>\n",
              "      <td>2003-12-05</td>\n",
              "      <td>29.629999</td>\n",
              "      <td>29.629999</td>\n",
              "      <td>29.629999</td>\n",
              "      <td>29.620001</td>\n",
              "      <td>29.620001</td>\n",
              "      <td>0.0</td>\n",
              "    </tr>\n",
              "  </tbody>\n",
              "</table>\n",
              "</div>"
            ],
            "text/plain": [
              "         Date       Open       High        Low      Close  Adj Close  Volume\n",
              "0  2003-12-01  29.730000  29.730000  29.690001  29.700001  29.700001     0.0\n",
              "1  2003-12-02  29.690001  29.700001  29.690001  29.690001  29.690001     0.0\n",
              "2  2003-12-03  29.690001  29.690001  29.690001  29.690001  29.690001     0.0\n",
              "3  2003-12-04  29.680000  29.680000  29.680000  29.680000  29.680000     0.0\n",
              "4  2003-12-05  29.629999  29.629999  29.629999  29.620001  29.620001     0.0"
            ]
          },
          "metadata": {
            "tags": []
          },
          "execution_count": 24
        }
      ]
    },
    {
      "cell_type": "code",
      "metadata": {
        "colab": {
          "base_uri": "https://localhost:8080/",
          "height": 625
        },
        "id": "cf38HnOYL6VQ",
        "outputId": "07c20461-2734-4860-b845-75ba927e7d96"
      },
      "source": [
        "# plotting the exchange rate over time\n",
        "# changing the date col to datetime\n",
        "usd_rus_df.Date = pd.to_datetime(usd_rus_df.Date)\n",
        "plt.figure(figsize = (20,10))\n",
        "plt.plot(usd_rus_df.Date,usd_rus_df.Open, c = 'r')\n",
        "plt.title('USD RUS exchange rate')"
      ],
      "execution_count": 25,
      "outputs": [
        {
          "output_type": "execute_result",
          "data": {
            "text/plain": [
              "Text(0.5, 1.0, 'USD RUS exchange rate')"
            ]
          },
          "metadata": {
            "tags": []
          },
          "execution_count": 25
        },
        {
          "output_type": "display_data",
          "data": {
            "image/png": "[encoded data removed]",
            "text/plain": [
              "<Figure size 1440x720 with 1 Axes>"
            ]
          },
          "metadata": {
            "tags": [],
            "needs_background": "light"
          }
        }
      ]
    },
    {
      "cell_type": "code",
      "metadata": {
        "id": "BCTzhjvHMPpm"
      },
      "source": [
        "# merging exchange rate data to master dataframe\n",
        "salestrain_df = salestrain_df.merge(usd_rus_df[['Date','Open']], left_on='date',right_on='Date')"
      ],
      "execution_count": 26,
      "outputs": []
    },
    {
      "cell_type": "code",
      "metadata": {
        "colab": {
          "base_uri": "https://localhost:8080/",
          "height": 204
        },
        "id": "lnXOb0_hEDGg",
        "outputId": "d503e88d-1155-4a3c-efb0-5f8404a8add7"
      },
      "source": [
        "salestrain_df.head()"
      ],
      "execution_count": 27,
      "outputs": [
        {
          "output_type": "execute_result",
          "data": {
            "text/html": [
              "<div>\n",
              "<style scoped>\n",
              "    .dataframe tbody tr th:only-of-type {\n",
              "        vertical-align: middle;\n",
              "    }\n",
              "\n",
              "    .dataframe tbody tr th {\n",
              "        vertical-align: top;\n",
              "    }\n",
              "\n",
              "    .dataframe thead th {\n",
              "        text-align: right;\n",
              "    }\n",
              "</style>\n",
              "<table border=\"1\" class=\"dataframe\">\n",
              "  <thead>\n",
              "    <tr style=\"text-align: right;\">\n",
              "      <th></th>\n",
              "      <th>date</th>\n",
              "      <th>date_block_num</th>\n",
              "      <th>shop_id</th>\n",
              "      <th>item_id</th>\n",
              "      <th>item_price</th>\n",
              "      <th>item_cnt_day</th>\n",
              "      <th>Date</th>\n",
              "      <th>Open</th>\n",
              "    </tr>\n",
              "  </thead>\n",
              "  <tbody>\n",
              "    <tr>\n",
              "      <th>0</th>\n",
              "      <td>2013-02-01</td>\n",
              "      <td>0</td>\n",
              "      <td>59</td>\n",
              "      <td>22154</td>\n",
              "      <td>999.0</td>\n",
              "      <td>1</td>\n",
              "      <td>2013-02-01</td>\n",
              "      <td>29.9816</td>\n",
              "    </tr>\n",
              "    <tr>\n",
              "      <th>1</th>\n",
              "      <td>2013-02-01</td>\n",
              "      <td>0</td>\n",
              "      <td>25</td>\n",
              "      <td>2565</td>\n",
              "      <td>549.0</td>\n",
              "      <td>1</td>\n",
              "      <td>2013-02-01</td>\n",
              "      <td>29.9816</td>\n",
              "    </tr>\n",
              "    <tr>\n",
              "      <th>2</th>\n",
              "      <td>2013-02-01</td>\n",
              "      <td>0</td>\n",
              "      <td>25</td>\n",
              "      <td>2546</td>\n",
              "      <td>299.0</td>\n",
              "      <td>1</td>\n",
              "      <td>2013-02-01</td>\n",
              "      <td>29.9816</td>\n",
              "    </tr>\n",
              "    <tr>\n",
              "      <th>3</th>\n",
              "      <td>2013-02-01</td>\n",
              "      <td>0</td>\n",
              "      <td>25</td>\n",
              "      <td>2715</td>\n",
              "      <td>899.0</td>\n",
              "      <td>1</td>\n",
              "      <td>2013-02-01</td>\n",
              "      <td>29.9816</td>\n",
              "    </tr>\n",
              "    <tr>\n",
              "      <th>4</th>\n",
              "      <td>2013-02-01</td>\n",
              "      <td>0</td>\n",
              "      <td>25</td>\n",
              "      <td>2716</td>\n",
              "      <td>149.0</td>\n",
              "      <td>1</td>\n",
              "      <td>2013-02-01</td>\n",
              "      <td>29.9816</td>\n",
              "    </tr>\n",
              "  </tbody>\n",
              "</table>\n",
              "</div>"
            ],
            "text/plain": [
              "        date  date_block_num  shop_id  ...  item_cnt_day       Date     Open\n",
              "0 2013-02-01               0       59  ...             1 2013-02-01  29.9816\n",
              "1 2013-02-01               0       25  ...             1 2013-02-01  29.9816\n",
              "2 2013-02-01               0       25  ...             1 2013-02-01  29.9816\n",
              "3 2013-02-01               0       25  ...             1 2013-02-01  29.9816\n",
              "4 2013-02-01               0       25  ...             1 2013-02-01  29.9816\n",
              "\n",
              "[5 rows x 8 columns]"
            ]
          },
          "metadata": {
            "tags": []
          },
          "execution_count": 27
        }
      ]
    },
    {
      "cell_type": "code",
      "metadata": {
        "id": "lThqfMt7MgO4"
      },
      "source": [
        "# dropping the duplicated date col from \n",
        "salestrain_df.drop(['Date'], axis = 'columns', inplace = True)"
      ],
      "execution_count": 28,
      "outputs": []
    },
    {
      "cell_type": "code",
      "metadata": {
        "id": "Win4oHjtOmQA"
      },
      "source": [
        "# renaming the 'Open' col to 'USD_RUS' from the USD RUS conversion dataframe\n",
        "salestrain_df.rename({'Open':'USD_RUS'}, axis = 'columns', inplace = True)"
      ],
      "execution_count": 29,
      "outputs": []
    },
    {
      "cell_type": "code",
      "metadata": {
        "id": "vZBSL0cBM35Z"
      },
      "source": [
        "# caltulating the price based on the conversion rate\n",
        "salestrain_df['USD_Price'] = salestrain_df['item_price'] / salestrain_df['USD_RUS']"
      ],
      "execution_count": 30,
      "outputs": []
    },
    {
      "cell_type": "code",
      "metadata": {
        "id": "o4Dz1U-dPBMf"
      },
      "source": [
        "# adding new col to dataframe for year\n",
        "salestrain_df['year'] = salestrain_df['date'].dt.year"
      ],
      "execution_count": 31,
      "outputs": []
    },
    {
      "cell_type": "code",
      "metadata": {
        "colab": {
          "base_uri": "https://localhost:8080/",
          "height": 204
        },
        "id": "BpJSHvvqOv4W",
        "outputId": "f0ff2136-d0ee-4bd0-d16f-8c91be68688a"
      },
      "source": [
        "# taking a look at the main dataframe head\n",
        "salestrain_df.head()"
      ],
      "execution_count": 32,
      "outputs": [
        {
          "output_type": "execute_result",
          "data": {
            "text/html": [
              "<div>\n",
              "<style scoped>\n",
              "    .dataframe tbody tr th:only-of-type {\n",
              "        vertical-align: middle;\n",
              "    }\n",
              "\n",
              "    .dataframe tbody tr th {\n",
              "        vertical-align: top;\n",
              "    }\n",
              "\n",
              "    .dataframe thead th {\n",
              "        text-align: right;\n",
              "    }\n",
              "</style>\n",
              "<table border=\"1\" class=\"dataframe\">\n",
              "  <thead>\n",
              "    <tr style=\"text-align: right;\">\n",
              "      <th></th>\n",
              "      <th>date</th>\n",
              "      <th>date_block_num</th>\n",
              "      <th>shop_id</th>\n",
              "      <th>item_id</th>\n",
              "      <th>item_price</th>\n",
              "      <th>item_cnt_day</th>\n",
              "      <th>USD_RUS</th>\n",
              "      <th>USD_Price</th>\n",
              "      <th>year</th>\n",
              "    </tr>\n",
              "  </thead>\n",
              "  <tbody>\n",
              "    <tr>\n",
              "      <th>0</th>\n",
              "      <td>2013-02-01</td>\n",
              "      <td>0</td>\n",
              "      <td>59</td>\n",
              "      <td>22154</td>\n",
              "      <td>999.0</td>\n",
              "      <td>1</td>\n",
              "      <td>29.9816</td>\n",
              "      <td>33.320437</td>\n",
              "      <td>2013</td>\n",
              "    </tr>\n",
              "    <tr>\n",
              "      <th>1</th>\n",
              "      <td>2013-02-01</td>\n",
              "      <td>0</td>\n",
              "      <td>25</td>\n",
              "      <td>2565</td>\n",
              "      <td>549.0</td>\n",
              "      <td>1</td>\n",
              "      <td>29.9816</td>\n",
              "      <td>18.311231</td>\n",
              "      <td>2013</td>\n",
              "    </tr>\n",
              "    <tr>\n",
              "      <th>2</th>\n",
              "      <td>2013-02-01</td>\n",
              "      <td>0</td>\n",
              "      <td>25</td>\n",
              "      <td>2546</td>\n",
              "      <td>299.0</td>\n",
              "      <td>1</td>\n",
              "      <td>29.9816</td>\n",
              "      <td>9.972783</td>\n",
              "      <td>2013</td>\n",
              "    </tr>\n",
              "    <tr>\n",
              "      <th>3</th>\n",
              "      <td>2013-02-01</td>\n",
              "      <td>0</td>\n",
              "      <td>25</td>\n",
              "      <td>2715</td>\n",
              "      <td>899.0</td>\n",
              "      <td>1</td>\n",
              "      <td>29.9816</td>\n",
              "      <td>29.985058</td>\n",
              "      <td>2013</td>\n",
              "    </tr>\n",
              "    <tr>\n",
              "      <th>4</th>\n",
              "      <td>2013-02-01</td>\n",
              "      <td>0</td>\n",
              "      <td>25</td>\n",
              "      <td>2716</td>\n",
              "      <td>149.0</td>\n",
              "      <td>1</td>\n",
              "      <td>29.9816</td>\n",
              "      <td>4.969715</td>\n",
              "      <td>2013</td>\n",
              "    </tr>\n",
              "  </tbody>\n",
              "</table>\n",
              "</div>"
            ],
            "text/plain": [
              "        date  date_block_num  shop_id  ...  USD_RUS  USD_Price  year\n",
              "0 2013-02-01               0       59  ...  29.9816  33.320437  2013\n",
              "1 2013-02-01               0       25  ...  29.9816  18.311231  2013\n",
              "2 2013-02-01               0       25  ...  29.9816   9.972783  2013\n",
              "3 2013-02-01               0       25  ...  29.9816  29.985058  2013\n",
              "4 2013-02-01               0       25  ...  29.9816   4.969715  2013\n",
              "\n",
              "[5 rows x 9 columns]"
            ]
          },
          "metadata": {
            "tags": []
          },
          "execution_count": 32
        }
      ]
    },
    {
      "cell_type": "code",
      "metadata": {
        "id": "xaAodKsdPCxn"
      },
      "source": [
        "# removing one obvious outlier\n",
        "salestrain_df = salestrain_df[salestrain_df['item_price'] < 100000]"
      ],
      "execution_count": 33,
      "outputs": []
    },
    {
      "cell_type": "code",
      "metadata": {
        "colab": {
          "base_uri": "https://localhost:8080/",
          "height": 621
        },
        "id": "MGubo_56Pvrm",
        "outputId": "8e3d2821-3b1a-45a9-993e-240071b2af06"
      },
      "source": [
        "# USD vs RUS prices\n",
        "plt.figure(figsize = (20, 10))\n",
        "plt.scatter(salestrain_df.item_price,salestrain_df.USD_Price, c = salestrain_df.year)\n",
        "plt.title('USD vs RUS Price')\n",
        "plt.xlabel('RUS Price')\n",
        "plt.ylabel('USD Price')\n",
        "plt.show()"
      ],
      "execution_count": 34,
      "outputs": [
        {
          "output_type": "display_data",
          "data": {
            "image/png": "[encoded data removed]",
            "text/plain": [
              "<Figure size 1440x720 with 1 Axes>"
            ]
          },
          "metadata": {
            "tags": [],
            "needs_background": "light"
          }
        }
      ]
    },
    {
      "cell_type": "code",
      "metadata": {
        "colab": {
          "base_uri": "https://localhost:8080/",
          "height": 625
        },
        "id": "LBskVwU3QA3o",
        "outputId": "af826415-d77c-4fc0-9b29-be6d8fd6d914"
      },
      "source": [
        "# USD vs RUS price histogram\n",
        "plt.figure(figsize=(20, 10))\n",
        "plt.title('USD RUS price histogram')\n",
        "salestrain_df.USD_RUS.hist()"
      ],
      "execution_count": 35,
      "outputs": [
        {
          "output_type": "execute_result",
          "data": {
            "text/plain": [
              "<matplotlib.axes._subplots.AxesSubplot at 0x7f6882460c90>"
            ]
          },
          "metadata": {
            "tags": []
          },
          "execution_count": 35
        },
        {
          "output_type": "display_data",
          "data": {
            "image/png": "[encoded data removed]",
            "text/plain": [
              "<Figure size 1440x720 with 1 Axes>"
            ]
          },
          "metadata": {
            "tags": [],
            "needs_background": "light"
          }
        }
      ]
    },
    {
      "cell_type": "markdown",
      "metadata": {
        "id": "uHVIBl7Xcv4E"
      },
      "source": [
        "# Combine DFs"
      ]
    },
    {
      "cell_type": "code",
      "metadata": {
        "id": "BjnsHvz1cuOO"
      },
      "source": [
        "# combining training dataframes into master training set\n",
        "salestrain_df_combined = salestrain_df.merge(items_df, on = 'item_id')\n",
        "salestrain_df_combined = salestrain_df_combined.merge(itemcats_df, on = 'item_category_id')\n",
        "salestrain_df_combined = salestrain_df_combined.merge(shops_df, on = 'shop_id')"
      ],
      "execution_count": 36,
      "outputs": []
    },
    {
      "cell_type": "code",
      "metadata": {
        "id": "Jtr7A6KXc0m0",
        "colab": {
          "base_uri": "https://localhost:8080/"
        },
        "outputId": "ad265cd2-2d53-4aa5-f4ed-5a43eae8d22a"
      },
      "source": [
        "# some missing USD RUS exchange rate data - ok to leave for now\n",
        "salestrain_df_combined.isnull().sum()"
      ],
      "execution_count": 37,
      "outputs": [
        {
          "output_type": "execute_result",
          "data": {
            "text/plain": [
              "date                     0\n",
              "date_block_num           0\n",
              "shop_id                  0\n",
              "item_id                  0\n",
              "item_price               0\n",
              "item_cnt_day             0\n",
              "USD_RUS               3871\n",
              "USD_Price             3871\n",
              "year                     0\n",
              "item_name                0\n",
              "item_category_id         0\n",
              "item_category_name       0\n",
              "shop_name                0\n",
              "dtype: int64"
            ]
          },
          "metadata": {
            "tags": []
          },
          "execution_count": 37
        }
      ]
    },
    {
      "cell_type": "code",
      "metadata": {
        "id": "syHw5OsIc4h6"
      },
      "source": [
        "# setting the id col, and 2 target cols based on testing data\n",
        "id_col, target_col_item, target_col_shop = salestrain_df.index, salestrain_df_combined['item_id'], salestrain_df_combined['shop_id']"
      ],
      "execution_count": 38,
      "outputs": []
    },
    {
      "cell_type": "markdown",
      "metadata": {
        "id": "ZkxytbOZL-jn"
      },
      "source": [
        "# Outliers\n",
        "Based on the information from salestrain_df, the max price of some items is insanely high. In addition, quantity of items sold on one day is extremely high for some items. These particular rows are investigated in more detail."
      ]
    },
    {
      "cell_type": "code",
      "metadata": {
        "id": "nN6cFzA5L-jn",
        "colab": {
          "base_uri": "https://localhost:8080/",
          "height": 0
        },
        "outputId": "75d65b7a-8135-45e6-d61b-2dbf160beea9"
      },
      "source": [
        "# checking outliers for quantity of items sold per day\n",
        "plt.figure(figsize = (20, 10))\n",
        "sns.boxplot(x=salestrain_df_combined['item_cnt_day'])\n",
        "plt.ylabel('Number of items sold per day')\n",
        "plt.title('Boxplot for checking outliers for number of items sold per day')\n",
        "\n",
        "# checking outliers for item prices\n",
        "plt.figure(figsize = (20, 10))\n",
        "sns.boxplot(x=salestrain_df_combined['item_price'])\n",
        "plt.ylabel('Number of items sold per day')\n",
        "plt.title('Boxplot for checking outliers for number of items sold per day')"
      ],
      "execution_count": 39,
      "outputs": [
        {
          "output_type": "execute_result",
          "data": {
            "text/plain": [
              "Text(0.5, 1.0, 'Boxplot for checking outliers for number of items sold per day')"
            ]
          },
          "metadata": {
            "tags": []
          },
          "execution_count": 39
        },
        {
          "output_type": "display_data",
          "data": {
            "image/png": "[encoded data removed]",
            "text/plain": [
              "<Figure size 1440x720 with 1 Axes>"
            ]
          },
          "metadata": {
            "tags": [],
            "needs_background": "light"
          }
        },
        {
          "output_type": "display_data",
          "data": {
            "image/png": "[encoded data removed]",
            "text/plain": [
              "<Figure size 1440x720 with 1 Axes>"
            ]
          },
          "metadata": {
            "tags": [],
            "needs_background": "light"
          }
        }
      ]
    },
    {
      "cell_type": "code",
      "metadata": {
        "id": "ir5HFlwYL-jn",
        "colab": {
          "base_uri": "https://localhost:8080/",
          "height": 0
        },
        "outputId": "74e2d022-94a0-47b2-c0f1-b4c176239ea9"
      },
      "source": [
        "# boxplot shows quantity for 1 particular sale is very high. Check all sales where quantity is bigger than 500\n",
        "# can imagine that one shop has 2169 deliveries at some peak days or some companies buying 1000 t-shirts\n",
        "salestrain_df_combined[salestrain_df_combined['item_cnt_day'] > 500]"
      ],
      "execution_count": 40,
      "outputs": [
        {
          "output_type": "execute_result",
          "data": {
            "text/html": [
              "<div>\n",
              "<style scoped>\n",
              "    .dataframe tbody tr th:only-of-type {\n",
              "        vertical-align: middle;\n",
              "    }\n",
              "\n",
              "    .dataframe tbody tr th {\n",
              "        vertical-align: top;\n",
              "    }\n",
              "\n",
              "    .dataframe thead th {\n",
              "        text-align: right;\n",
              "    }\n",
              "</style>\n",
              "<table border=\"1\" class=\"dataframe\">\n",
              "  <thead>\n",
              "    <tr style=\"text-align: right;\">\n",
              "      <th></th>\n",
              "      <th>date</th>\n",
              "      <th>date_block_num</th>\n",
              "      <th>shop_id</th>\n",
              "      <th>item_id</th>\n",
              "      <th>item_price</th>\n",
              "      <th>item_cnt_day</th>\n",
              "      <th>USD_RUS</th>\n",
              "      <th>USD_Price</th>\n",
              "      <th>year</th>\n",
              "      <th>item_name</th>\n",
              "      <th>item_category_id</th>\n",
              "      <th>item_category_name</th>\n",
              "      <th>shop_name</th>\n",
              "    </tr>\n",
              "  </thead>\n",
              "  <tbody>\n",
              "    <tr>\n",
              "      <th>1049046</th>\n",
              "      <td>2014-04-22</td>\n",
              "      <td>15</td>\n",
              "      <td>27</td>\n",
              "      <td>8057</td>\n",
              "      <td>1200.000000</td>\n",
              "      <td>502</td>\n",
              "      <td>35.667198</td>\n",
              "      <td>33.644359</td>\n",
              "      <td>2014</td>\n",
              "      <td>iTunes 1500 rubles.</td>\n",
              "      <td>32</td>\n",
              "      <td>Payment card (Movies, Music, Games)</td>\n",
              "      <td>Moscow shopping center \"MEGA Belaya Dacha II\"</td>\n",
              "    </tr>\n",
              "    <tr>\n",
              "      <th>1597543</th>\n",
              "      <td>2015-04-14</td>\n",
              "      <td>27</td>\n",
              "      <td>12</td>\n",
              "      <td>3731</td>\n",
              "      <td>1904.548077</td>\n",
              "      <td>624</td>\n",
              "      <td>52.481701</td>\n",
              "      <td>36.289755</td>\n",
              "      <td>2015</td>\n",
              "      <td>Grand Theft Auto V [PC, Russian subtitles]</td>\n",
              "      <td>30</td>\n",
              "      <td>Games PC - Standard Edition</td>\n",
              "      <td>Shop Online Emergencies</td>\n",
              "    </tr>\n",
              "    <tr>\n",
              "      <th>1613837</th>\n",
              "      <td>2015-01-15</td>\n",
              "      <td>24</td>\n",
              "      <td>12</td>\n",
              "      <td>20949</td>\n",
              "      <td>4.000000</td>\n",
              "      <td>1000</td>\n",
              "      <td>63.365799</td>\n",
              "      <td>0.063126</td>\n",
              "      <td>2015</td>\n",
              "      <td>Corporate package white shirt 1C Interest (34 ...</td>\n",
              "      <td>71</td>\n",
              "      <td>Gifts - Bags, Albums, Mats d / mouse</td>\n",
              "      <td>Shop Online Emergencies</td>\n",
              "    </tr>\n",
              "    <tr>\n",
              "      <th>1615767</th>\n",
              "      <td>2015-05-19</td>\n",
              "      <td>28</td>\n",
              "      <td>12</td>\n",
              "      <td>11373</td>\n",
              "      <td>155.192950</td>\n",
              "      <td>539</td>\n",
              "      <td>49.084999</td>\n",
              "      <td>3.161719</td>\n",
              "      <td>2015</td>\n",
              "      <td>Delivery to the delivery point (Boxberry)</td>\n",
              "      <td>9</td>\n",
              "      <td>Delivery of goods</td>\n",
              "      <td>Shop Online Emergencies</td>\n",
              "    </tr>\n",
              "    <tr>\n",
              "      <th>1615868</th>\n",
              "      <td>2015-10-28</td>\n",
              "      <td>33</td>\n",
              "      <td>12</td>\n",
              "      <td>11373</td>\n",
              "      <td>0.908714</td>\n",
              "      <td>2169</td>\n",
              "      <td>64.975998</td>\n",
              "      <td>0.013985</td>\n",
              "      <td>2015</td>\n",
              "      <td>Delivery to the delivery point (Boxberry)</td>\n",
              "      <td>9</td>\n",
              "      <td>Delivery of goods</td>\n",
              "      <td>Shop Online Emergencies</td>\n",
              "    </tr>\n",
              "    <tr>\n",
              "      <th>1618032</th>\n",
              "      <td>2014-02-10</td>\n",
              "      <td>21</td>\n",
              "      <td>12</td>\n",
              "      <td>9242</td>\n",
              "      <td>1500.000000</td>\n",
              "      <td>512</td>\n",
              "      <td>34.685299</td>\n",
              "      <td>43.245987</td>\n",
              "      <td>2014</td>\n",
              "      <td>Ticket \"IgroMir 2014\" (for one day (separately...</td>\n",
              "      <td>8</td>\n",
              "      <td>Tickets (digits)</td>\n",
              "      <td>Shop Online Emergencies</td>\n",
              "    </tr>\n",
              "    <tr>\n",
              "      <th>1618890</th>\n",
              "      <td>2015-09-29</td>\n",
              "      <td>32</td>\n",
              "      <td>12</td>\n",
              "      <td>9248</td>\n",
              "      <td>1500.000000</td>\n",
              "      <td>504</td>\n",
              "      <td>66.099998</td>\n",
              "      <td>22.692890</td>\n",
              "      <td>2015</td>\n",
              "      <td>Ticket \"IgroMir 2015\" - October 3, 2015 (site)...</td>\n",
              "      <td>80</td>\n",
              "      <td>Utilities - Tickets</td>\n",
              "      <td>Shop Online Emergencies</td>\n",
              "    </tr>\n",
              "    <tr>\n",
              "      <th>1618901</th>\n",
              "      <td>2015-09-30</td>\n",
              "      <td>32</td>\n",
              "      <td>12</td>\n",
              "      <td>9248</td>\n",
              "      <td>1692.526158</td>\n",
              "      <td>669</td>\n",
              "      <td>65.800003</td>\n",
              "      <td>25.722281</td>\n",
              "      <td>2015</td>\n",
              "      <td>Ticket \"IgroMir 2015\" - October 3, 2015 (site)...</td>\n",
              "      <td>80</td>\n",
              "      <td>Utilities - Tickets</td>\n",
              "      <td>Shop Online Emergencies</td>\n",
              "    </tr>\n",
              "    <tr>\n",
              "      <th>1914217</th>\n",
              "      <td>2014-09-10</td>\n",
              "      <td>21</td>\n",
              "      <td>55</td>\n",
              "      <td>19437</td>\n",
              "      <td>899.000000</td>\n",
              "      <td>508</td>\n",
              "      <td>37.032200</td>\n",
              "      <td>24.276170</td>\n",
              "      <td>2014</td>\n",
              "      <td>Middle-earth: Shadow of Mordor [PC, Digital Ve...</td>\n",
              "      <td>31</td>\n",
              "      <td>Games PC - Digital</td>\n",
              "      <td>Digital storage 1C-line</td>\n",
              "    </tr>\n",
              "    <tr>\n",
              "      <th>1925402</th>\n",
              "      <td>2015-09-29</td>\n",
              "      <td>32</td>\n",
              "      <td>55</td>\n",
              "      <td>9249</td>\n",
              "      <td>1500.000000</td>\n",
              "      <td>533</td>\n",
              "      <td>66.099998</td>\n",
              "      <td>22.692890</td>\n",
              "      <td>2015</td>\n",
              "      <td>Ticket \"IgroMir 2015\" - October 3, 2015 (websi...</td>\n",
              "      <td>8</td>\n",
              "      <td>Tickets (digits)</td>\n",
              "      <td>Digital storage 1C-line</td>\n",
              "    </tr>\n",
              "    <tr>\n",
              "      <th>1925413</th>\n",
              "      <td>2015-09-30</td>\n",
              "      <td>32</td>\n",
              "      <td>55</td>\n",
              "      <td>9249</td>\n",
              "      <td>1702.825746</td>\n",
              "      <td>637</td>\n",
              "      <td>65.800003</td>\n",
              "      <td>25.878810</td>\n",
              "      <td>2015</td>\n",
              "      <td>Ticket \"IgroMir 2015\" - October 3, 2015 (websi...</td>\n",
              "      <td>8</td>\n",
              "      <td>Tickets (digits)</td>\n",
              "      <td>Digital storage 1C-line</td>\n",
              "    </tr>\n",
              "  </tbody>\n",
              "</table>\n",
              "</div>"
            ],
            "text/plain": [
              "              date  ...                                      shop_name\n",
              "1049046 2014-04-22  ...  Moscow shopping center \"MEGA Belaya Dacha II\"\n",
              "1597543 2015-04-14  ...                        Shop Online Emergencies\n",
              "1613837 2015-01-15  ...                        Shop Online Emergencies\n",
              "1615767 2015-05-19  ...                        Shop Online Emergencies\n",
              "1615868 2015-10-28  ...                        Shop Online Emergencies\n",
              "1618032 2014-02-10  ...                        Shop Online Emergencies\n",
              "1618890 2015-09-29  ...                        Shop Online Emergencies\n",
              "1618901 2015-09-30  ...                        Shop Online Emergencies\n",
              "1914217 2014-09-10  ...                        Digital storage 1C-line\n",
              "1925402 2015-09-29  ...                        Digital storage 1C-line\n",
              "1925413 2015-09-30  ...                        Digital storage 1C-line\n",
              "\n",
              "[11 rows x 13 columns]"
            ]
          },
          "metadata": {
            "tags": []
          },
          "execution_count": 40
        }
      ]
    },
    {
      "cell_type": "code",
      "metadata": {
        "id": "ihpK7KyiL-jn",
        "colab": {
          "base_uri": "https://localhost:8080/",
          "height": 0
        },
        "outputId": "80152fab-6a37-46e5-8eac-86e158c9199c"
      },
      "source": [
        "# boxplot shows price for one item is very high, check all items above 40000\n",
        "# most expensive item is a license for some software package (VPN remote working) for 522 users (roughly 4000 US dollars)\n",
        "salestrain_df_combined[salestrain_df_combined['item_price'] > 40000]"
      ],
      "execution_count": 41,
      "outputs": [
        {
          "output_type": "execute_result",
          "data": {
            "text/html": [
              "<div>\n",
              "<style scoped>\n",
              "    .dataframe tbody tr th:only-of-type {\n",
              "        vertical-align: middle;\n",
              "    }\n",
              "\n",
              "    .dataframe tbody tr th {\n",
              "        vertical-align: top;\n",
              "    }\n",
              "\n",
              "    .dataframe thead th {\n",
              "        text-align: right;\n",
              "    }\n",
              "</style>\n",
              "<table border=\"1\" class=\"dataframe\">\n",
              "  <thead>\n",
              "    <tr style=\"text-align: right;\">\n",
              "      <th></th>\n",
              "      <th>date</th>\n",
              "      <th>date_block_num</th>\n",
              "      <th>shop_id</th>\n",
              "      <th>item_id</th>\n",
              "      <th>item_price</th>\n",
              "      <th>item_cnt_day</th>\n",
              "      <th>USD_RUS</th>\n",
              "      <th>USD_Price</th>\n",
              "      <th>year</th>\n",
              "      <th>item_name</th>\n",
              "      <th>item_category_id</th>\n",
              "      <th>item_category_name</th>\n",
              "      <th>shop_name</th>\n",
              "    </tr>\n",
              "  </thead>\n",
              "  <tbody>\n",
              "    <tr>\n",
              "      <th>142635</th>\n",
              "      <td>2014-03-20</td>\n",
              "      <td>14</td>\n",
              "      <td>25</td>\n",
              "      <td>13199</td>\n",
              "      <td>50999.0</td>\n",
              "      <td>1</td>\n",
              "      <td>36.170200</td>\n",
              "      <td>1409.972851</td>\n",
              "      <td>2014</td>\n",
              "      <td>Collector chess (Rings)</td>\n",
              "      <td>69</td>\n",
              "      <td>Gifts - Souvenirs</td>\n",
              "      <td>Moscow SEC \"Atrium\"</td>\n",
              "    </tr>\n",
              "    <tr>\n",
              "      <th>654062</th>\n",
              "      <td>2015-10-23</td>\n",
              "      <td>33</td>\n",
              "      <td>42</td>\n",
              "      <td>13403</td>\n",
              "      <td>42990.0</td>\n",
              "      <td>1</td>\n",
              "      <td>62.474998</td>\n",
              "      <td>688.115268</td>\n",
              "      <td>2015</td>\n",
              "      <td>Set \"Microsoft Xbox One 1TB Limited Edition Ha...</td>\n",
              "      <td>16</td>\n",
              "      <td>Game consoles - XBOX ONE</td>\n",
              "      <td>St. Petersburg TK \"Nevsky Center\"</td>\n",
              "    </tr>\n",
              "    <tr>\n",
              "      <th>891947</th>\n",
              "      <td>2015-10-22</td>\n",
              "      <td>33</td>\n",
              "      <td>28</td>\n",
              "      <td>13403</td>\n",
              "      <td>40991.0</td>\n",
              "      <td>1</td>\n",
              "      <td>63.150002</td>\n",
              "      <td>649.105284</td>\n",
              "      <td>2015</td>\n",
              "      <td>Set \"Microsoft Xbox One 1TB Limited Edition Ha...</td>\n",
              "      <td>16</td>\n",
              "      <td>Game consoles - XBOX ONE</td>\n",
              "      <td>Moscow shopping center \"MEGA Teply Stan\" II of</td>\n",
              "    </tr>\n",
              "    <tr>\n",
              "      <th>1220560</th>\n",
              "      <td>2015-10-20</td>\n",
              "      <td>33</td>\n",
              "      <td>3</td>\n",
              "      <td>13403</td>\n",
              "      <td>42990.0</td>\n",
              "      <td>1</td>\n",
              "      <td>61.492001</td>\n",
              "      <td>699.115321</td>\n",
              "      <td>2015</td>\n",
              "      <td>Set \"Microsoft Xbox One 1TB Limited Edition Ha...</td>\n",
              "      <td>16</td>\n",
              "      <td>Game consoles - XBOX ONE</td>\n",
              "      <td>Balashikha TRC \"October-Kinomir\"</td>\n",
              "    </tr>\n",
              "    <tr>\n",
              "      <th>1599219</th>\n",
              "      <td>2013-10-24</td>\n",
              "      <td>9</td>\n",
              "      <td>12</td>\n",
              "      <td>7238</td>\n",
              "      <td>42000.0</td>\n",
              "      <td>1</td>\n",
              "      <td>31.720900</td>\n",
              "      <td>1324.048183</td>\n",
              "      <td>2013</td>\n",
              "      <td>UserGate Proxy &amp; Firewall 6.X to 100 sessions</td>\n",
              "      <td>75</td>\n",
              "      <td>Program - For home and office</td>\n",
              "      <td>Shop Online Emergencies</td>\n",
              "    </tr>\n",
              "    <tr>\n",
              "      <th>1599254</th>\n",
              "      <td>2014-11-20</td>\n",
              "      <td>22</td>\n",
              "      <td>12</td>\n",
              "      <td>14173</td>\n",
              "      <td>40900.0</td>\n",
              "      <td>1</td>\n",
              "      <td>46.839199</td>\n",
              "      <td>873.200244</td>\n",
              "      <td>2014</td>\n",
              "      <td>License 1C-Bitrix Site Manager - Expert</td>\n",
              "      <td>75</td>\n",
              "      <td>Program - For home and office</td>\n",
              "      <td>Shop Online Emergencies</td>\n",
              "    </tr>\n",
              "    <tr>\n",
              "      <th>1599259</th>\n",
              "      <td>2015-01-29</td>\n",
              "      <td>24</td>\n",
              "      <td>12</td>\n",
              "      <td>7241</td>\n",
              "      <td>49782.0</td>\n",
              "      <td>1</td>\n",
              "      <td>67.985001</td>\n",
              "      <td>732.249750</td>\n",
              "      <td>2015</td>\n",
              "      <td>UserGate Proxy &amp; Firewall 6.X filtration modul...</td>\n",
              "      <td>75</td>\n",
              "      <td>Program - For home and office</td>\n",
              "      <td>Shop Online Emergencies</td>\n",
              "    </tr>\n",
              "    <tr>\n",
              "      <th>1614386</th>\n",
              "      <td>2013-09-17</td>\n",
              "      <td>8</td>\n",
              "      <td>12</td>\n",
              "      <td>11365</td>\n",
              "      <td>59200.0</td>\n",
              "      <td>1</td>\n",
              "      <td>32.284100</td>\n",
              "      <td>1833.720005</td>\n",
              "      <td>2013</td>\n",
              "      <td>Delivery (EMS)</td>\n",
              "      <td>9</td>\n",
              "      <td>Delivery of goods</td>\n",
              "      <td>Shop Online Emergencies</td>\n",
              "    </tr>\n",
              "    <tr>\n",
              "      <th>1618170</th>\n",
              "      <td>2015-10-20</td>\n",
              "      <td>33</td>\n",
              "      <td>12</td>\n",
              "      <td>13403</td>\n",
              "      <td>41990.0</td>\n",
              "      <td>1</td>\n",
              "      <td>61.492001</td>\n",
              "      <td>682.853043</td>\n",
              "      <td>2015</td>\n",
              "      <td>Set \"Microsoft Xbox One 1TB Limited Edition Ha...</td>\n",
              "      <td>16</td>\n",
              "      <td>Game consoles - XBOX ONE</td>\n",
              "      <td>Shop Online Emergencies</td>\n",
              "    </tr>\n",
              "    <tr>\n",
              "      <th>1618171</th>\n",
              "      <td>2015-10-29</td>\n",
              "      <td>33</td>\n",
              "      <td>12</td>\n",
              "      <td>13403</td>\n",
              "      <td>42990.0</td>\n",
              "      <td>1</td>\n",
              "      <td>63.424999</td>\n",
              "      <td>677.808446</td>\n",
              "      <td>2015</td>\n",
              "      <td>Set \"Microsoft Xbox One 1TB Limited Edition Ha...</td>\n",
              "      <td>16</td>\n",
              "      <td>Game consoles - XBOX ONE</td>\n",
              "      <td>Shop Online Emergencies</td>\n",
              "    </tr>\n",
              "    <tr>\n",
              "      <th>1670872</th>\n",
              "      <td>2015-10-20</td>\n",
              "      <td>33</td>\n",
              "      <td>22</td>\n",
              "      <td>13403</td>\n",
              "      <td>42990.0</td>\n",
              "      <td>1</td>\n",
              "      <td>61.492001</td>\n",
              "      <td>699.115321</td>\n",
              "      <td>2015</td>\n",
              "      <td>Set \"Microsoft Xbox One 1TB Limited Edition Ha...</td>\n",
              "      <td>16</td>\n",
              "      <td>Game consoles - XBOX ONE</td>\n",
              "      <td>Moscow C21 Store</td>\n",
              "    </tr>\n",
              "    <tr>\n",
              "      <th>1699787</th>\n",
              "      <td>2015-10-20</td>\n",
              "      <td>33</td>\n",
              "      <td>38</td>\n",
              "      <td>13403</td>\n",
              "      <td>41990.0</td>\n",
              "      <td>1</td>\n",
              "      <td>61.492001</td>\n",
              "      <td>682.853043</td>\n",
              "      <td>2015</td>\n",
              "      <td>Set \"Microsoft Xbox One 1TB Limited Edition Ha...</td>\n",
              "      <td>16</td>\n",
              "      <td>Game consoles - XBOX ONE</td>\n",
              "      <td>Omsk TC \"Mega\"</td>\n",
              "    </tr>\n",
              "    <tr>\n",
              "      <th>1841134</th>\n",
              "      <td>2015-10-22</td>\n",
              "      <td>33</td>\n",
              "      <td>18</td>\n",
              "      <td>13403</td>\n",
              "      <td>41990.0</td>\n",
              "      <td>1</td>\n",
              "      <td>63.150002</td>\n",
              "      <td>664.924761</td>\n",
              "      <td>2015</td>\n",
              "      <td>Set \"Microsoft Xbox One 1TB Limited Edition Ha...</td>\n",
              "      <td>16</td>\n",
              "      <td>Game consoles - XBOX ONE</td>\n",
              "      <td>Krasnoyarsk SC \"June\"</td>\n",
              "    </tr>\n",
              "  </tbody>\n",
              "</table>\n",
              "</div>"
            ],
            "text/plain": [
              "              date  ...                                       shop_name\n",
              "142635  2014-03-20  ...                             Moscow SEC \"Atrium\"\n",
              "654062  2015-10-23  ...               St. Petersburg TK \"Nevsky Center\"\n",
              "891947  2015-10-22  ...  Moscow shopping center \"MEGA Teply Stan\" II of\n",
              "1220560 2015-10-20  ...                Balashikha TRC \"October-Kinomir\"\n",
              "1599219 2013-10-24  ...                         Shop Online Emergencies\n",
              "1599254 2014-11-20  ...                         Shop Online Emergencies\n",
              "1599259 2015-01-29  ...                         Shop Online Emergencies\n",
              "1614386 2013-09-17  ...                         Shop Online Emergencies\n",
              "1618170 2015-10-20  ...                         Shop Online Emergencies\n",
              "1618171 2015-10-29  ...                         Shop Online Emergencies\n",
              "1670872 2015-10-20  ...                                Moscow C21 Store\n",
              "1699787 2015-10-20  ...                                  Omsk TC \"Mega\"\n",
              "1841134 2015-10-22  ...                           Krasnoyarsk SC \"June\"\n",
              "\n",
              "[13 rows x 13 columns]"
            ]
          },
          "metadata": {
            "tags": []
          },
          "execution_count": 41
        }
      ]
    },
    {
      "cell_type": "code",
      "metadata": {
        "id": "NoP__0VrL-jo"
      },
      "source": [
        "# for now, remove the row with the license for software package and any sale with quantity more or equal to 1000, discuss this next meeting\n",
        "salestrain_df_combined = salestrain_df_combined[(salestrain_df_combined['item_cnt_day'] < 1000) & (salestrain_df_combined['item_price'] < 300000)]"
      ],
      "execution_count": 42,
      "outputs": []
    },
    {
      "cell_type": "markdown",
      "metadata": {
        "id": "bOxMQcL9dMuu"
      },
      "source": [
        "# Data Viz"
      ]
    },
    {
      "cell_type": "code",
      "metadata": {
        "id": "5LH4oZ8mdLNt",
        "colab": {
          "base_uri": "https://localhost:8080/",
          "height": 0
        },
        "outputId": "c2c66467-b43d-43e1-fb0c-8935fad0e17d"
      },
      "source": [
        "# adding features for separating date\n",
        "salestrain_df_combined['year'] = salestrain_df_combined.date.dt.year\n",
        "salestrain_df_combined['month'] = salestrain_df_combined.date.dt.month\n",
        "salestrain_df_combined['day'] = salestrain_df_combined.date.dt.day\n",
        "\n",
        "# adding revenue feature\n",
        "salestrain_df_combined['revenue'] = salestrain_df_combined.item_price * salestrain_df_combined.item_cnt_day\n",
        "salestrain_df_combined.head()"
      ],
      "execution_count": 43,
      "outputs": [
        {
          "output_type": "execute_result",
          "data": {
            "text/html": [
              "<div>\n",
              "<style scoped>\n",
              "    .dataframe tbody tr th:only-of-type {\n",
              "        vertical-align: middle;\n",
              "    }\n",
              "\n",
              "    .dataframe tbody tr th {\n",
              "        vertical-align: top;\n",
              "    }\n",
              "\n",
              "    .dataframe thead th {\n",
              "        text-align: right;\n",
              "    }\n",
              "</style>\n",
              "<table border=\"1\" class=\"dataframe\">\n",
              "  <thead>\n",
              "    <tr style=\"text-align: right;\">\n",
              "      <th></th>\n",
              "      <th>date</th>\n",
              "      <th>date_block_num</th>\n",
              "      <th>shop_id</th>\n",
              "      <th>item_id</th>\n",
              "      <th>item_price</th>\n",
              "      <th>item_cnt_day</th>\n",
              "      <th>USD_RUS</th>\n",
              "      <th>USD_Price</th>\n",
              "      <th>year</th>\n",
              "      <th>item_name</th>\n",
              "      <th>item_category_id</th>\n",
              "      <th>item_category_name</th>\n",
              "      <th>shop_name</th>\n",
              "      <th>month</th>\n",
              "      <th>day</th>\n",
              "      <th>revenue</th>\n",
              "    </tr>\n",
              "  </thead>\n",
              "  <tbody>\n",
              "    <tr>\n",
              "      <th>0</th>\n",
              "      <td>2013-02-01</td>\n",
              "      <td>0</td>\n",
              "      <td>59</td>\n",
              "      <td>22154</td>\n",
              "      <td>999.0</td>\n",
              "      <td>1</td>\n",
              "      <td>29.981600</td>\n",
              "      <td>33.320437</td>\n",
              "      <td>2013</td>\n",
              "      <td>Scene 2012 (BD)</td>\n",
              "      <td>37</td>\n",
              "      <td>Movie - Blu-Ray</td>\n",
              "      <td>Yaroslavl shopping center \"Altair\"</td>\n",
              "      <td>2</td>\n",
              "      <td>1</td>\n",
              "      <td>999.0</td>\n",
              "    </tr>\n",
              "    <tr>\n",
              "      <th>1</th>\n",
              "      <td>2013-02-13</td>\n",
              "      <td>1</td>\n",
              "      <td>59</td>\n",
              "      <td>16451</td>\n",
              "      <td>499.0</td>\n",
              "      <td>1</td>\n",
              "      <td>29.994400</td>\n",
              "      <td>16.636439</td>\n",
              "      <td>2013</td>\n",
              "      <td>Cloud Atlas (BD)</td>\n",
              "      <td>37</td>\n",
              "      <td>Movie - Blu-Ray</td>\n",
              "      <td>Yaroslavl shopping center \"Altair\"</td>\n",
              "      <td>2</td>\n",
              "      <td>13</td>\n",
              "      <td>499.0</td>\n",
              "    </tr>\n",
              "    <tr>\n",
              "      <th>2</th>\n",
              "      <td>2013-10-02</td>\n",
              "      <td>1</td>\n",
              "      <td>59</td>\n",
              "      <td>16451</td>\n",
              "      <td>499.0</td>\n",
              "      <td>1</td>\n",
              "      <td>32.230400</td>\n",
              "      <td>15.482278</td>\n",
              "      <td>2013</td>\n",
              "      <td>Cloud Atlas (BD)</td>\n",
              "      <td>37</td>\n",
              "      <td>Movie - Blu-Ray</td>\n",
              "      <td>Yaroslavl shopping center \"Altair\"</td>\n",
              "      <td>10</td>\n",
              "      <td>2</td>\n",
              "      <td>499.0</td>\n",
              "    </tr>\n",
              "    <tr>\n",
              "      <th>3</th>\n",
              "      <td>2013-06-06</td>\n",
              "      <td>5</td>\n",
              "      <td>59</td>\n",
              "      <td>16451</td>\n",
              "      <td>199.0</td>\n",
              "      <td>1</td>\n",
              "      <td>32.109200</td>\n",
              "      <td>6.197601</td>\n",
              "      <td>2013</td>\n",
              "      <td>Cloud Atlas (BD)</td>\n",
              "      <td>37</td>\n",
              "      <td>Movie - Blu-Ray</td>\n",
              "      <td>Yaroslavl shopping center \"Altair\"</td>\n",
              "      <td>6</td>\n",
              "      <td>6</td>\n",
              "      <td>199.0</td>\n",
              "    </tr>\n",
              "    <tr>\n",
              "      <th>4</th>\n",
              "      <td>2013-07-29</td>\n",
              "      <td>6</td>\n",
              "      <td>59</td>\n",
              "      <td>16451</td>\n",
              "      <td>199.0</td>\n",
              "      <td>1</td>\n",
              "      <td>32.744801</td>\n",
              "      <td>6.077301</td>\n",
              "      <td>2013</td>\n",
              "      <td>Cloud Atlas (BD)</td>\n",
              "      <td>37</td>\n",
              "      <td>Movie - Blu-Ray</td>\n",
              "      <td>Yaroslavl shopping center \"Altair\"</td>\n",
              "      <td>7</td>\n",
              "      <td>29</td>\n",
              "      <td>199.0</td>\n",
              "    </tr>\n",
              "  </tbody>\n",
              "</table>\n",
              "</div>"
            ],
            "text/plain": [
              "        date  date_block_num  shop_id  ...  month  day  revenue\n",
              "0 2013-02-01               0       59  ...      2    1    999.0\n",
              "1 2013-02-13               1       59  ...      2   13    499.0\n",
              "2 2013-10-02               1       59  ...     10    2    499.0\n",
              "3 2013-06-06               5       59  ...      6    6    199.0\n",
              "4 2013-07-29               6       59  ...      7   29    199.0\n",
              "\n",
              "[5 rows x 16 columns]"
            ]
          },
          "metadata": {
            "tags": []
          },
          "execution_count": 43
        }
      ]
    },
    {
      "cell_type": "code",
      "metadata": {
        "id": "SbiVOlOcdnMl",
        "colab": {
          "base_uri": "https://localhost:8080/",
          "height": 0
        },
        "outputId": "1c159efe-d63b-400b-ac4e-17e5b4e23fbf"
      },
      "source": [
        "sns.set()\n",
        "salestrain_df_combined.groupby('date_block_num').date.count().plot.line(title='Sales by Month', color='green', figsize=(20, 10))"
      ],
      "execution_count": 44,
      "outputs": [
        {
          "output_type": "execute_result",
          "data": {
            "text/plain": [
              "<matplotlib.axes._subplots.AxesSubplot at 0x7f6880b1e1d0>"
            ]
          },
          "metadata": {
            "tags": []
          },
          "execution_count": 44
        },
        {
          "output_type": "display_data",
          "data": {
            "image/png": "[encoded data removed]",
            "text/plain": [
              "<Figure size 1440x720 with 1 Axes>"
            ]
          },
          "metadata": {
            "tags": []
          }
        }
      ]
    },
    {
      "cell_type": "markdown",
      "metadata": {
        "id": "84XkX343f9Ru"
      },
      "source": [
        "As we can see, sales are decreasing through the years. \n",
        "We also see a spike sale during december. \n",
        "Since, the dataset is up to October, are we seeing some spike in year 2015?"
      ]
    },
    {
      "cell_type": "code",
      "metadata": {
        "id": "pj-psTcbjH26"
      },
      "source": [
        "# time series scatterplot of revenue highlighting years\n",
        "plt.figure(figsize = (20, 10))\n",
        "sns.scatterplot(x = salestrain_df_combined['date'], y = salestrain_df_combined['revenue'], hue = salestrain_df_combined['year'], palette='deep')\n",
        "plt.ylim(salestrain_df_combined['revenue'].min(), 1900000)\n",
        "#plt.arrow(2013-11-29, 1829990.0000013, 2013-11-30, 1700000, head_width = 10, head_length = 11)\n",
        "#plt.axvline()\n",
        "plt.ylabel('Revenue (millions of rubles)')\n",
        "plt.legend(fontsize='x-large')\n",
        "plt.show()"
      ],
      "execution_count": null,
      "outputs": []
    },
    {
      "cell_type": "code",
      "metadata": {
        "id": "Z0sQa1EvZygz"
      },
      "source": [
        "# printing most amount of revenue and least amount of revenue\n",
        "print(f'The least amount of revenue recorded is: {salestrain_df_combined.revenue.min()}')\n",
        "print(f'The most amount of revenue recorded is: {salestrain_df_combined.revenue.max()}')"
      ],
      "execution_count": null,
      "outputs": []
    },
    {
      "cell_type": "code",
      "metadata": {
        "id": "Mce2e8MlUejX"
      },
      "source": [
        "# day with the highest amount of revenue\n",
        "print('The date with the most amount of revenue is:', salestrain_df_combined.loc[salestrain_df_combined['revenue'] == 734571.99999936, 'date'].values[0])"
      ],
      "execution_count": null,
      "outputs": []
    },
    {
      "cell_type": "code",
      "metadata": {
        "id": "7CwWaJYUVfue"
      },
      "source": [
        "# masking revenue numbers to show negative revenue\n",
        "# not sure how to have negative revenue\n",
        "# item returns?\n",
        "salestrain_neg_mask = salestrain_df_combined['revenue'] < 0\n",
        "salestrain_df_combined[salestrain_neg_mask].head(10)"
      ],
      "execution_count": null,
      "outputs": []
    },
    {
      "cell_type": "code",
      "metadata": {
        "id": "5uJEbpZSwvTw"
      },
      "source": [
        "# grouping revenue by month and rounding number\n",
        "monthly_group = salestrain_df_combined.groupby(by=['month'])\n",
        "monthly_group_sum = monthly_group['revenue'].sum().round()      \n",
        "monthly_group_sum                   "
      ],
      "execution_count": null,
      "outputs": []
    },
    {
      "cell_type": "code",
      "metadata": {
        "id": "5tjF_UxWRUz4"
      },
      "source": [
        "plt.figure(figsize=(20,10))\n",
        "sns.scatterplot(x = salestrain_df_combined['item_price'], y = salestrain_df_combined['USD_Price'], hue = salestrain_df_combined['year'], palette='deep')"
      ],
      "execution_count": null,
      "outputs": []
    },
    {
      "cell_type": "code",
      "metadata": {
        "id": "yc0KkeSf2Gvh"
      },
      "source": [
        "# normalizing data for visualization\n",
        "monthly_group_norm = (monthly_group_sum - monthly_group_sum.mean()) / (monthly_group_sum.max() - monthly_group_sum.min())\n",
        "monthly_group_norm = abs(monthly_group_norm)\n",
        "monthly_group_norm"
      ],
      "execution_count": null,
      "outputs": []
    },
    {
      "cell_type": "code",
      "metadata": {
        "id": "FKV7y25_7nVN"
      },
      "source": [
        "# graphing normalized revenue\n",
        "# look at those december sales!!\n",
        "ax, fig = plt.subplots(figsize=(20,10))\n",
        "cols = ['Jan', 'Feb', 'Mar', 'Apr', 'May', 'Jun', 'Jul', 'Aug', 'Sep', 'Oct', 'Nov', 'Dec']\n",
        "plt.bar(cols, monthly_group_norm, color='red')\n",
        "plt.title('Normalized revenue by month')\n",
        "plt.show()"
      ],
      "execution_count": null,
      "outputs": []
    },
    {
      "cell_type": "code",
      "metadata": {
        "id": "lhLWOd8peBDd"
      },
      "source": [
        "# Plot total revenue by month for each year\n",
        "salestrain_df_combined.groupby(['month', 'year']).sum()['revenue'].unstack().plot(figsize=(20, 10))\n",
        "plt.xlabel('Month')\n",
        "plt.ylabel('Total Revenue')\n",
        "plt.show()"
      ],
      "execution_count": null,
      "outputs": []
    },
    {
      "cell_type": "markdown",
      "metadata": {
        "id": "JTYRFbtfgHzE"
      },
      "source": [
        "There are no sales spike on december 2015."
      ]
    },
    {
      "cell_type": "code",
      "metadata": {
        "id": "gIGvE9QA6Q-f"
      },
      "source": [
        "# creating list of top selling items\n",
        "top_items = [20949, 5822, 17717, 2808, 4181, 7856, 3732, 2308, 4870, 3734]\n",
        "\n",
        "# creating empty list to append to\n",
        "top_item_cols = []\n",
        "\n",
        "# loop to append item name based on top selling items\n",
        "for items in top_items:\n",
        "  top_item_cols.append(salestrain_df_combined.loc[salestrain_df_combined['item_id'] == items, 'item_name'].values[0])\n",
        "\n",
        "top_item_cols"
      ],
      "execution_count": null,
      "outputs": []
    },
    {
      "cell_type": "code",
      "metadata": {
        "id": "yf6ZXrBQeLa9"
      },
      "source": [
        "# Plot the top 10 most items sold\n",
        "fig, ax = plt.subplots(figsize=(20, 10))\n",
        "sns.countplot(y = 'item_id', hue = 'year', data = salestrain_df_combined, order = salestrain_df_combined['item_id'].value_counts().iloc[:10].index)\n",
        "ax.set_yticklabels(top_item_cols)\n",
        "plt.xlim(0, 20000)\n",
        "plt.xlabel('Sales of Sold Items')\n",
        "plt.ylabel('Item IDs')\n",
        "plt.show()"
      ],
      "execution_count": null,
      "outputs": []
    },
    {
      "cell_type": "code",
      "metadata": {
        "id": "bHw_JHDEDrkq"
      },
      "source": [
        "salestrain_df_combined['item_id'] == 20949"
      ],
      "execution_count": null,
      "outputs": []
    },
    {
      "cell_type": "code",
      "metadata": {
        "id": "OSjQtW30gLb5"
      },
      "source": [
        "plt.figure(figsize = (20, 10))\n",
        "sns.heatmap(salestrain_df_combined.corr(), cmap='Blues')\n",
        "plt.show()"
      ],
      "execution_count": null,
      "outputs": []
    },
    {
      "cell_type": "code",
      "metadata": {
        "id": "NmaqVg7Bi9tG"
      },
      "source": [
        "# plotting histogram of the price of items\n",
        "# some high ticket items, lots \n",
        "fig, ax = plt.subplots(figsize=(20, 10))\n",
        "sns.histplot(x='item_price', data=salestrain_df)\n",
        "plt.xlim(0, 4000)\n",
        "plt.title('Item price histogram')\n",
        "plt.show()"
      ],
      "execution_count": null,
      "outputs": []
    },
    {
      "cell_type": "code",
      "metadata": {
        "id": "WghMiA4SS2WC"
      },
      "source": [
        "test_df.head()"
      ],
      "execution_count": null,
      "outputs": []
    },
    {
      "cell_type": "code",
      "metadata": {
        "id": "5F2oVgRrT0On"
      },
      "source": [
        "sample_df.head()"
      ],
      "execution_count": null,
      "outputs": []
    },
    {
      "cell_type": "markdown",
      "metadata": {
        "id": "I9_tqfMeS4mF"
      },
      "source": [
        "# Lagging Features"
      ]
    },
    {
      "cell_type": "markdown",
      "metadata": {
        "id": "epudGsi3S9Ww"
      },
      "source": [
        "\n",
        "\n",
        "*   Item Sales Lag (1,2,3,6,12 months)\n",
        "*   Combination of Items and Shops\n",
        "*   Shop Sales Lag\n",
        "*   Shop-Category Lag\n",
        "\n"
      ]
    },
    {
      "cell_type": "code",
      "metadata": {
        "id": "aIA96xGX7Gls"
      },
      "source": [
        "# creating a new feature: 'month-year'\n",
        "salestrain_df_combined['month-year'] = salestrain_df_combined['date'].apply(lambda x: str(x.month) + '-' + str(x.year) if x.month >= 10 else '0' + str(x.month) + '-' + str(x.year)) "
      ],
      "execution_count": null,
      "outputs": []
    },
    {
      "cell_type": "code",
      "metadata": {
        "id": "B1WU5S71hADX"
      },
      "source": [
        "salestrain_df_combined.head()"
      ],
      "execution_count": null,
      "outputs": []
    },
    {
      "cell_type": "code",
      "metadata": {
        "id": "eSk7qXJYT8wB"
      },
      "source": [
        "# adding a random feature\n",
        "salestrain_df_combined['Random'] = salestrain_df_combined.apply(lambda x:np.random.randint(100),axis='columns')"
      ],
      "execution_count": null,
      "outputs": []
    },
    {
      "cell_type": "code",
      "metadata": {
        "id": "XJwlqdjgVpU_"
      },
      "source": [
        "salestrain_df_combined.head()"
      ],
      "execution_count": null,
      "outputs": []
    },
    {
      "cell_type": "code",
      "metadata": {
        "id": "z1sd__vlUmpu"
      },
      "source": [
        "# creating pivot table on 'month' and 'year' columns\n",
        "item_sales_by_month = salestrain_df_combined.pivot_table(index = 'item_id', columns = ['month', 'year'], values = 'item_cnt_day', aggfunc = np.sum)"
      ],
      "execution_count": null,
      "outputs": []
    },
    {
      "cell_type": "code",
      "metadata": {
        "id": "MCoSUA4mWC2e"
      },
      "source": [
        "# filling in all null values with 0\n",
        "item_sales_by_month.fillna(0, inplace = True)"
      ],
      "execution_count": null,
      "outputs": []
    },
    {
      "cell_type": "code",
      "metadata": {
        "id": "XrdBx78mWJte"
      },
      "source": [
        "# checking head of the pivot table\n",
        "item_sales_by_month.head()"
      ],
      "execution_count": null,
      "outputs": []
    },
    {
      "cell_type": "markdown",
      "metadata": {
        "id": "UmGZir4Xkjxo"
      },
      "source": [
        "There were two sales of item id 1 in month 4 of year 2014"
      ]
    },
    {
      "cell_type": "code",
      "metadata": {
        "id": "n5tpWFvBWRde"
      },
      "source": [
        "# unstacking the pivot table above and resetting the index\n",
        "item_sales_by_month = item_sales_by_month.unstack().reset_index()"
      ],
      "execution_count": null,
      "outputs": []
    },
    {
      "cell_type": "code",
      "metadata": {
        "id": "eHGkHHI2YEro"
      },
      "source": [
        "# checking new df head - note strange 0 column\n",
        "item_sales_by_month.head()"
      ],
      "execution_count": null,
      "outputs": []
    },
    {
      "cell_type": "code",
      "metadata": {
        "id": "kF8zmS6lXHn4"
      },
      "source": [
        "# renaming strange 0 columm to 'Item_Sales_This_Month?' - need clarification on column name\n",
        "item_sales_by_month.rename({0:'Item_Sales_This_Month'}, axis = 'columns', inplace = True)"
      ],
      "execution_count": null,
      "outputs": []
    },
    {
      "cell_type": "code",
      "metadata": {
        "id": "JfKdRqYVWmjl"
      },
      "source": [
        "# sorting table by item_id then year then month\n",
        "item_sales_by_month.sort_values(by = ['item_id','year','month'], inplace = True)"
      ],
      "execution_count": null,
      "outputs": []
    },
    {
      "cell_type": "code",
      "metadata": {
        "id": "LO4V11DYXce-"
      },
      "source": [
        "# checking modified df\n",
        "item_sales_by_month.head()"
      ],
      "execution_count": null,
      "outputs": []
    },
    {
      "cell_type": "code",
      "metadata": {
        "id": "fbCPDYsMo8vp"
      },
      "source": [
        "# length before cutting out all 0's\n",
        "len(item_sales_by_month)"
      ],
      "execution_count": null,
      "outputs": []
    },
    {
      "cell_type": "code",
      "metadata": {
        "id": "cjsleHWOZLYX"
      },
      "source": [
        "item_sales_by_month = item_sales_by_month[item_sales_by_month.Item_Sales_This_Month > 0]"
      ],
      "execution_count": null,
      "outputs": []
    },
    {
      "cell_type": "code",
      "metadata": {
        "id": "9W-BOllCpEwa"
      },
      "source": [
        "# length after cutting out all 0's\n",
        "len(item_sales_by_month)"
      ],
      "execution_count": null,
      "outputs": []
    },
    {
      "cell_type": "code",
      "metadata": {
        "id": "hf8oa7ZapgPN"
      },
      "source": [
        "# cutting out all 0's decreases dataframe by 1/3\n",
        "255105 / 758124 "
      ],
      "execution_count": null,
      "outputs": []
    },
    {
      "cell_type": "code",
      "metadata": {
        "id": "DqZtEMMIZz6f"
      },
      "source": [
        "# creating new column lags for 1, 2, 3, 6, 12 months\n",
        "for i in [1,2,3,6,12]:\n",
        "  item_sales_by_month[str(i)+'_month_ago'] = item_sales_by_month['Item_Sales_This_Month'].shift(i)"
      ],
      "execution_count": null,
      "outputs": []
    },
    {
      "cell_type": "code",
      "metadata": {
        "id": "PPjOMkfdaLf2"
      },
      "source": [
        "# checking newly added lags on item id '22167' because it has a lot of sales and we can see values clearly\n",
        "item_sales_by_month[item_sales_by_month.item_id == 22167].head(13)"
      ],
      "execution_count": null,
      "outputs": []
    },
    {
      "cell_type": "code",
      "metadata": {
        "colab": {
          "base_uri": "https://localhost:8080/",
          "height": 979
        },
        "id": "8Ja5Lgdx3bEd",
        "outputId": "0d6d66c6-6221-47fc-ecdc-7124774576ac"
      },
      "source": [
        "item_sales_by_month.head(30)"
      ],
      "execution_count": 78,
      "outputs": [
        {
          "output_type": "execute_result",
          "data": {
            "text/html": [
              "<div>\n",
              "<style scoped>\n",
              "    .dataframe tbody tr th:only-of-type {\n",
              "        vertical-align: middle;\n",
              "    }\n",
              "\n",
              "    .dataframe tbody tr th {\n",
              "        vertical-align: top;\n",
              "    }\n",
              "\n",
              "    .dataframe thead th {\n",
              "        text-align: right;\n",
              "    }\n",
              "</style>\n",
              "<table border=\"1\" class=\"dataframe\">\n",
              "  <thead>\n",
              "    <tr style=\"text-align: right;\">\n",
              "      <th></th>\n",
              "      <th>month</th>\n",
              "      <th>year</th>\n",
              "      <th>item_id</th>\n",
              "      <th>Item_Sales_This_Month</th>\n",
              "      <th>1_month_ago</th>\n",
              "      <th>2_month_ago</th>\n",
              "      <th>3_month_ago</th>\n",
              "      <th>6_month_ago</th>\n",
              "      <th>12_month_ago</th>\n",
              "    </tr>\n",
              "  </thead>\n",
              "  <tbody>\n",
              "    <tr>\n",
              "      <th>21059</th>\n",
              "      <td>1</td>\n",
              "      <td>2014</td>\n",
              "      <td>0</td>\n",
              "      <td>1.0</td>\n",
              "      <td>NaN</td>\n",
              "      <td>NaN</td>\n",
              "      <td>NaN</td>\n",
              "      <td>NaN</td>\n",
              "      <td>NaN</td>\n",
              "    </tr>\n",
              "    <tr>\n",
              "      <th>84237</th>\n",
              "      <td>2</td>\n",
              "      <td>2014</td>\n",
              "      <td>1</td>\n",
              "      <td>1.0</td>\n",
              "      <td>1.0</td>\n",
              "      <td>NaN</td>\n",
              "      <td>NaN</td>\n",
              "      <td>NaN</td>\n",
              "      <td>NaN</td>\n",
              "    </tr>\n",
              "    <tr>\n",
              "      <th>210591</th>\n",
              "      <td>4</td>\n",
              "      <td>2014</td>\n",
              "      <td>1</td>\n",
              "      <td>2.0</td>\n",
              "      <td>1.0</td>\n",
              "      <td>1.0</td>\n",
              "      <td>NaN</td>\n",
              "      <td>NaN</td>\n",
              "      <td>NaN</td>\n",
              "    </tr>\n",
              "    <tr>\n",
              "      <th>589653</th>\n",
              "      <td>10</td>\n",
              "      <td>2014</td>\n",
              "      <td>1</td>\n",
              "      <td>1.0</td>\n",
              "      <td>2.0</td>\n",
              "      <td>1.0</td>\n",
              "      <td>1.0</td>\n",
              "      <td>NaN</td>\n",
              "      <td>NaN</td>\n",
              "    </tr>\n",
              "    <tr>\n",
              "      <th>716008</th>\n",
              "      <td>12</td>\n",
              "      <td>2014</td>\n",
              "      <td>2</td>\n",
              "      <td>1.0</td>\n",
              "      <td>1.0</td>\n",
              "      <td>2.0</td>\n",
              "      <td>1.0</td>\n",
              "      <td>NaN</td>\n",
              "      <td>NaN</td>\n",
              "    </tr>\n",
              "    <tr>\n",
              "      <th>273770</th>\n",
              "      <td>5</td>\n",
              "      <td>2014</td>\n",
              "      <td>3</td>\n",
              "      <td>1.0</td>\n",
              "      <td>1.0</td>\n",
              "      <td>1.0</td>\n",
              "      <td>2.0</td>\n",
              "      <td>NaN</td>\n",
              "      <td>NaN</td>\n",
              "    </tr>\n",
              "    <tr>\n",
              "      <th>463301</th>\n",
              "      <td>8</td>\n",
              "      <td>2014</td>\n",
              "      <td>3</td>\n",
              "      <td>1.0</td>\n",
              "      <td>1.0</td>\n",
              "      <td>1.0</td>\n",
              "      <td>1.0</td>\n",
              "      <td>1.0</td>\n",
              "      <td>NaN</td>\n",
              "    </tr>\n",
              "    <tr>\n",
              "      <th>526479</th>\n",
              "      <td>9</td>\n",
              "      <td>2014</td>\n",
              "      <td>4</td>\n",
              "      <td>1.0</td>\n",
              "      <td>1.0</td>\n",
              "      <td>1.0</td>\n",
              "      <td>1.0</td>\n",
              "      <td>1.0</td>\n",
              "      <td>NaN</td>\n",
              "    </tr>\n",
              "    <tr>\n",
              "      <th>21064</th>\n",
              "      <td>1</td>\n",
              "      <td>2014</td>\n",
              "      <td>8</td>\n",
              "      <td>1.0</td>\n",
              "      <td>1.0</td>\n",
              "      <td>1.0</td>\n",
              "      <td>1.0</td>\n",
              "      <td>2.0</td>\n",
              "      <td>NaN</td>\n",
              "    </tr>\n",
              "    <tr>\n",
              "      <th>463303</th>\n",
              "      <td>8</td>\n",
              "      <td>2014</td>\n",
              "      <td>8</td>\n",
              "      <td>1.0</td>\n",
              "      <td>1.0</td>\n",
              "      <td>1.0</td>\n",
              "      <td>1.0</td>\n",
              "      <td>1.0</td>\n",
              "      <td>NaN</td>\n",
              "    </tr>\n",
              "    <tr>\n",
              "      <th>400127</th>\n",
              "      <td>7</td>\n",
              "      <td>2014</td>\n",
              "      <td>9</td>\n",
              "      <td>1.0</td>\n",
              "      <td>1.0</td>\n",
              "      <td>1.0</td>\n",
              "      <td>1.0</td>\n",
              "      <td>1.0</td>\n",
              "      <td>NaN</td>\n",
              "    </tr>\n",
              "    <tr>\n",
              "      <th>21066</th>\n",
              "      <td>1</td>\n",
              "      <td>2014</td>\n",
              "      <td>13</td>\n",
              "      <td>1.0</td>\n",
              "      <td>1.0</td>\n",
              "      <td>1.0</td>\n",
              "      <td>1.0</td>\n",
              "      <td>1.0</td>\n",
              "      <td>NaN</td>\n",
              "    </tr>\n",
              "    <tr>\n",
              "      <th>716014</th>\n",
              "      <td>12</td>\n",
              "      <td>2014</td>\n",
              "      <td>14</td>\n",
              "      <td>1.0</td>\n",
              "      <td>1.0</td>\n",
              "      <td>1.0</td>\n",
              "      <td>1.0</td>\n",
              "      <td>1.0</td>\n",
              "      <td>1.0</td>\n",
              "    </tr>\n",
              "    <tr>\n",
              "      <th>716015</th>\n",
              "      <td>12</td>\n",
              "      <td>2014</td>\n",
              "      <td>15</td>\n",
              "      <td>1.0</td>\n",
              "      <td>1.0</td>\n",
              "      <td>1.0</td>\n",
              "      <td>1.0</td>\n",
              "      <td>1.0</td>\n",
              "      <td>1.0</td>\n",
              "    </tr>\n",
              "    <tr>\n",
              "      <th>526485</th>\n",
              "      <td>9</td>\n",
              "      <td>2014</td>\n",
              "      <td>17</td>\n",
              "      <td>1.0</td>\n",
              "      <td>1.0</td>\n",
              "      <td>1.0</td>\n",
              "      <td>1.0</td>\n",
              "      <td>1.0</td>\n",
              "      <td>2.0</td>\n",
              "    </tr>\n",
              "    <tr>\n",
              "      <th>463309</th>\n",
              "      <td>8</td>\n",
              "      <td>2014</td>\n",
              "      <td>18</td>\n",
              "      <td>1.0</td>\n",
              "      <td>1.0</td>\n",
              "      <td>1.0</td>\n",
              "      <td>1.0</td>\n",
              "      <td>1.0</td>\n",
              "      <td>1.0</td>\n",
              "    </tr>\n",
              "    <tr>\n",
              "      <th>463310</th>\n",
              "      <td>8</td>\n",
              "      <td>2014</td>\n",
              "      <td>20</td>\n",
              "      <td>1.0</td>\n",
              "      <td>1.0</td>\n",
              "      <td>1.0</td>\n",
              "      <td>1.0</td>\n",
              "      <td>1.0</td>\n",
              "      <td>1.0</td>\n",
              "    </tr>\n",
              "    <tr>\n",
              "      <th>526488</th>\n",
              "      <td>9</td>\n",
              "      <td>2014</td>\n",
              "      <td>21</td>\n",
              "      <td>1.0</td>\n",
              "      <td>1.0</td>\n",
              "      <td>1.0</td>\n",
              "      <td>1.0</td>\n",
              "      <td>1.0</td>\n",
              "      <td>1.0</td>\n",
              "    </tr>\n",
              "    <tr>\n",
              "      <th>294840</th>\n",
              "      <td>5</td>\n",
              "      <td>2015</td>\n",
              "      <td>22</td>\n",
              "      <td>1.0</td>\n",
              "      <td>1.0</td>\n",
              "      <td>1.0</td>\n",
              "      <td>1.0</td>\n",
              "      <td>1.0</td>\n",
              "      <td>1.0</td>\n",
              "    </tr>\n",
              "    <tr>\n",
              "      <th>105310</th>\n",
              "      <td>2</td>\n",
              "      <td>2015</td>\n",
              "      <td>23</td>\n",
              "      <td>1.0</td>\n",
              "      <td>1.0</td>\n",
              "      <td>1.0</td>\n",
              "      <td>1.0</td>\n",
              "      <td>1.0</td>\n",
              "      <td>1.0</td>\n",
              "    </tr>\n",
              "    <tr>\n",
              "      <th>294842</th>\n",
              "      <td>5</td>\n",
              "      <td>2015</td>\n",
              "      <td>24</td>\n",
              "      <td>1.0</td>\n",
              "      <td>1.0</td>\n",
              "      <td>1.0</td>\n",
              "      <td>1.0</td>\n",
              "      <td>1.0</td>\n",
              "      <td>1.0</td>\n",
              "    </tr>\n",
              "    <tr>\n",
              "      <th>463315</th>\n",
              "      <td>8</td>\n",
              "      <td>2014</td>\n",
              "      <td>25</td>\n",
              "      <td>1.0</td>\n",
              "      <td>1.0</td>\n",
              "      <td>1.0</td>\n",
              "      <td>1.0</td>\n",
              "      <td>1.0</td>\n",
              "      <td>1.0</td>\n",
              "    </tr>\n",
              "    <tr>\n",
              "      <th>589670</th>\n",
              "      <td>10</td>\n",
              "      <td>2014</td>\n",
              "      <td>26</td>\n",
              "      <td>1.0</td>\n",
              "      <td>1.0</td>\n",
              "      <td>1.0</td>\n",
              "      <td>1.0</td>\n",
              "      <td>1.0</td>\n",
              "      <td>1.0</td>\n",
              "    </tr>\n",
              "    <tr>\n",
              "      <th>19</th>\n",
              "      <td>1</td>\n",
              "      <td>2013</td>\n",
              "      <td>27</td>\n",
              "      <td>2.0</td>\n",
              "      <td>1.0</td>\n",
              "      <td>1.0</td>\n",
              "      <td>1.0</td>\n",
              "      <td>1.0</td>\n",
              "      <td>1.0</td>\n",
              "    </tr>\n",
              "    <tr>\n",
              "      <th>63196</th>\n",
              "      <td>2</td>\n",
              "      <td>2013</td>\n",
              "      <td>27</td>\n",
              "      <td>4.0</td>\n",
              "      <td>2.0</td>\n",
              "      <td>1.0</td>\n",
              "      <td>1.0</td>\n",
              "      <td>1.0</td>\n",
              "      <td>1.0</td>\n",
              "    </tr>\n",
              "    <tr>\n",
              "      <th>126373</th>\n",
              "      <td>3</td>\n",
              "      <td>2013</td>\n",
              "      <td>27</td>\n",
              "      <td>2.0</td>\n",
              "      <td>4.0</td>\n",
              "      <td>2.0</td>\n",
              "      <td>1.0</td>\n",
              "      <td>1.0</td>\n",
              "      <td>1.0</td>\n",
              "    </tr>\n",
              "    <tr>\n",
              "      <th>189550</th>\n",
              "      <td>4</td>\n",
              "      <td>2013</td>\n",
              "      <td>27</td>\n",
              "      <td>1.0</td>\n",
              "      <td>2.0</td>\n",
              "      <td>4.0</td>\n",
              "      <td>2.0</td>\n",
              "      <td>1.0</td>\n",
              "      <td>1.0</td>\n",
              "    </tr>\n",
              "    <tr>\n",
              "      <th>315904</th>\n",
              "      <td>6</td>\n",
              "      <td>2013</td>\n",
              "      <td>27</td>\n",
              "      <td>3.0</td>\n",
              "      <td>1.0</td>\n",
              "      <td>2.0</td>\n",
              "      <td>4.0</td>\n",
              "      <td>1.0</td>\n",
              "      <td>1.0</td>\n",
              "    </tr>\n",
              "    <tr>\n",
              "      <th>379081</th>\n",
              "      <td>7</td>\n",
              "      <td>2013</td>\n",
              "      <td>27</td>\n",
              "      <td>2.0</td>\n",
              "      <td>3.0</td>\n",
              "      <td>1.0</td>\n",
              "      <td>2.0</td>\n",
              "      <td>1.0</td>\n",
              "      <td>1.0</td>\n",
              "    </tr>\n",
              "    <tr>\n",
              "      <th>442258</th>\n",
              "      <td>8</td>\n",
              "      <td>2013</td>\n",
              "      <td>27</td>\n",
              "      <td>1.0</td>\n",
              "      <td>2.0</td>\n",
              "      <td>3.0</td>\n",
              "      <td>1.0</td>\n",
              "      <td>2.0</td>\n",
              "      <td>1.0</td>\n",
              "    </tr>\n",
              "  </tbody>\n",
              "</table>\n",
              "</div>"
            ],
            "text/plain": [
              "        month  year  item_id  ...  3_month_ago  6_month_ago  12_month_ago\n",
              "21059       1  2014        0  ...          NaN          NaN           NaN\n",
              "84237       2  2014        1  ...          NaN          NaN           NaN\n",
              "210591      4  2014        1  ...          NaN          NaN           NaN\n",
              "589653     10  2014        1  ...          1.0          NaN           NaN\n",
              "716008     12  2014        2  ...          1.0          NaN           NaN\n",
              "273770      5  2014        3  ...          2.0          NaN           NaN\n",
              "463301      8  2014        3  ...          1.0          1.0           NaN\n",
              "526479      9  2014        4  ...          1.0          1.0           NaN\n",
              "21064       1  2014        8  ...          1.0          2.0           NaN\n",
              "463303      8  2014        8  ...          1.0          1.0           NaN\n",
              "400127      7  2014        9  ...          1.0          1.0           NaN\n",
              "21066       1  2014       13  ...          1.0          1.0           NaN\n",
              "716014     12  2014       14  ...          1.0          1.0           1.0\n",
              "716015     12  2014       15  ...          1.0          1.0           1.0\n",
              "526485      9  2014       17  ...          1.0          1.0           2.0\n",
              "463309      8  2014       18  ...          1.0          1.0           1.0\n",
              "463310      8  2014       20  ...          1.0          1.0           1.0\n",
              "526488      9  2014       21  ...          1.0          1.0           1.0\n",
              "294840      5  2015       22  ...          1.0          1.0           1.0\n",
              "105310      2  2015       23  ...          1.0          1.0           1.0\n",
              "294842      5  2015       24  ...          1.0          1.0           1.0\n",
              "463315      8  2014       25  ...          1.0          1.0           1.0\n",
              "589670     10  2014       26  ...          1.0          1.0           1.0\n",
              "19          1  2013       27  ...          1.0          1.0           1.0\n",
              "63196       2  2013       27  ...          1.0          1.0           1.0\n",
              "126373      3  2013       27  ...          1.0          1.0           1.0\n",
              "189550      4  2013       27  ...          2.0          1.0           1.0\n",
              "315904      6  2013       27  ...          4.0          1.0           1.0\n",
              "379081      7  2013       27  ...          2.0          1.0           1.0\n",
              "442258      8  2013       27  ...          1.0          2.0           1.0\n",
              "\n",
              "[30 rows x 9 columns]"
            ]
          },
          "metadata": {
            "tags": []
          },
          "execution_count": 78
        }
      ]
    },
    {
      "cell_type": "code",
      "metadata": {
        "id": "wtENav0eacZm"
      },
      "source": [
        "# Add item_id to shift, make values N/A if item_id!=laggy item_id\n",
        "# Is there a better way to filter NaN values"
      ],
      "execution_count": null,
      "outputs": []
    },
    {
      "cell_type": "code",
      "metadata": {
        "id": "VY8Kplc3FC-L"
      },
      "source": [
        "item_id_by_month = salestrain_df_combined[['item_id', 'month', 'year', 'item_cnt_day']]"
      ],
      "execution_count": 90,
      "outputs": []
    },
    {
      "cell_type": "code",
      "metadata": {
        "colab": {
          "base_uri": "https://localhost:8080/",
          "height": 419
        },
        "id": "fdSpm4RjFpGg",
        "outputId": "cec5d0ea-315d-4831-8db3-5113940bd63a"
      },
      "source": [
        "item_id_by_month.head()"
      ],
      "execution_count": 97,
      "outputs": [
        {
          "output_type": "execute_result",
          "data": {
            "text/html": [
              "<div>\n",
              "<style scoped>\n",
              "    .dataframe tbody tr th:only-of-type {\n",
              "        vertical-align: middle;\n",
              "    }\n",
              "\n",
              "    .dataframe tbody tr th {\n",
              "        vertical-align: top;\n",
              "    }\n",
              "\n",
              "    .dataframe thead th {\n",
              "        text-align: right;\n",
              "    }\n",
              "</style>\n",
              "<table border=\"1\" class=\"dataframe\">\n",
              "  <thead>\n",
              "    <tr style=\"text-align: right;\">\n",
              "      <th></th>\n",
              "      <th>item_id</th>\n",
              "      <th>month</th>\n",
              "      <th>year</th>\n",
              "      <th>item_cnt_day</th>\n",
              "    </tr>\n",
              "  </thead>\n",
              "  <tbody>\n",
              "    <tr>\n",
              "      <th>0</th>\n",
              "      <td>22154</td>\n",
              "      <td>2</td>\n",
              "      <td>2013</td>\n",
              "      <td>1</td>\n",
              "    </tr>\n",
              "    <tr>\n",
              "      <th>1</th>\n",
              "      <td>16451</td>\n",
              "      <td>2</td>\n",
              "      <td>2013</td>\n",
              "      <td>1</td>\n",
              "    </tr>\n",
              "    <tr>\n",
              "      <th>2</th>\n",
              "      <td>16451</td>\n",
              "      <td>10</td>\n",
              "      <td>2013</td>\n",
              "      <td>1</td>\n",
              "    </tr>\n",
              "    <tr>\n",
              "      <th>3</th>\n",
              "      <td>16451</td>\n",
              "      <td>6</td>\n",
              "      <td>2013</td>\n",
              "      <td>1</td>\n",
              "    </tr>\n",
              "    <tr>\n",
              "      <th>4</th>\n",
              "      <td>16451</td>\n",
              "      <td>7</td>\n",
              "      <td>2013</td>\n",
              "      <td>1</td>\n",
              "    </tr>\n",
              "    <tr>\n",
              "      <th>...</th>\n",
              "      <td>...</td>\n",
              "      <td>...</td>\n",
              "      <td>...</td>\n",
              "      <td>...</td>\n",
              "    </tr>\n",
              "    <tr>\n",
              "      <th>1927067</th>\n",
              "      <td>13091</td>\n",
              "      <td>9</td>\n",
              "      <td>2015</td>\n",
              "      <td>1</td>\n",
              "    </tr>\n",
              "    <tr>\n",
              "      <th>1927068</th>\n",
              "      <td>13095</td>\n",
              "      <td>9</td>\n",
              "      <td>2015</td>\n",
              "      <td>1</td>\n",
              "    </tr>\n",
              "    <tr>\n",
              "      <th>1927069</th>\n",
              "      <td>13095</td>\n",
              "      <td>8</td>\n",
              "      <td>2015</td>\n",
              "      <td>1</td>\n",
              "    </tr>\n",
              "    <tr>\n",
              "      <th>1927070</th>\n",
              "      <td>13095</td>\n",
              "      <td>10</td>\n",
              "      <td>2015</td>\n",
              "      <td>2</td>\n",
              "    </tr>\n",
              "    <tr>\n",
              "      <th>1927071</th>\n",
              "      <td>13092</td>\n",
              "      <td>10</td>\n",
              "      <td>2015</td>\n",
              "      <td>1</td>\n",
              "    </tr>\n",
              "  </tbody>\n",
              "</table>\n",
              "<p>90448 rows × 4 columns</p>\n",
              "</div>"
            ],
            "text/plain": [
              "         item_id  month  year  item_cnt_day\n",
              "0          22154      2  2013             1\n",
              "1          16451      2  2013             1\n",
              "2          16451     10  2013             1\n",
              "3          16451      6  2013             1\n",
              "4          16451      7  2013             1\n",
              "...          ...    ...   ...           ...\n",
              "1927067    13091      9  2015             1\n",
              "1927068    13095      9  2015             1\n",
              "1927069    13095      8  2015             1\n",
              "1927070    13095     10  2015             2\n",
              "1927071    13092     10  2015             1\n",
              "\n",
              "[90448 rows x 4 columns]"
            ]
          },
          "metadata": {
            "tags": []
          },
          "execution_count": 97
        }
      ]
    },
    {
      "cell_type": "code",
      "metadata": {
        "colab": {
          "base_uri": "https://localhost:8080/",
          "height": 296
        },
        "id": "tFipE_zx34sa",
        "outputId": "beddb41d-7883-43ae-b025-4d416037ab30"
      },
      "source": [
        "item_id_by_month.groupby(['item_id', 'year', 'month'])"
      ],
      "execution_count": 96,
      "outputs": [
        {
          "output_type": "error",
          "ename": "AttributeError",
          "evalue": "ignored",
          "traceback": [
            "\u001b[0;31m---------------------------------------------------------------------------\u001b[0m",
            "\u001b[0;31mAttributeError\u001b[0m                            Traceback (most recent call last)",
            "\u001b[0;32m<ipython-input-96-6b174b00f25b>\u001b[0m in \u001b[0;36m<module>\u001b[0;34m()\u001b[0m\n\u001b[0;32m----> 1\u001b[0;31m \u001b[0mitem_id_by_month\u001b[0m\u001b[0;34m.\u001b[0m\u001b[0mgroupby\u001b[0m\u001b[0;34m(\u001b[0m\u001b[0;34m[\u001b[0m\u001b[0;34m'item_id'\u001b[0m\u001b[0;34m,\u001b[0m \u001b[0;34m'year'\u001b[0m\u001b[0;34m,\u001b[0m \u001b[0;34m'month'\u001b[0m\u001b[0;34m]\u001b[0m\u001b[0;34m)\u001b[0m\u001b[0;34m\u001b[0m\u001b[0;34m\u001b[0m\u001b[0m\n\u001b[0m",
            "\u001b[0;32m/usr/local/lib/python3.7/dist-packages/pandas/core/groupby/groupby.py\u001b[0m in \u001b[0;36m__getattr__\u001b[0;34m(self, attr)\u001b[0m\n\u001b[1;32m    702\u001b[0m \u001b[0;34m\u001b[0m\u001b[0m\n\u001b[1;32m    703\u001b[0m         raise AttributeError(\n\u001b[0;32m--> 704\u001b[0;31m             \u001b[0;34mf\"'{type(self).__name__}' object has no attribute '{attr}'\"\u001b[0m\u001b[0;34m\u001b[0m\u001b[0;34m\u001b[0m\u001b[0m\n\u001b[0m\u001b[1;32m    705\u001b[0m         )\n\u001b[1;32m    706\u001b[0m \u001b[0;34m\u001b[0m\u001b[0m\n",
            "\u001b[0;31mAttributeError\u001b[0m: 'DataFrameGroupBy' object has no attribute 'groupby'"
          ]
        }
      ]
    },
    {
      "cell_type": "code",
      "metadata": {
        "colab": {
          "base_uri": "https://localhost:8080/",
          "height": 419
        },
        "id": "XJYdd9QkF-g0",
        "outputId": "766b7241-df67-47a2-c77f-0ecd4f6b1e0c"
      },
      "source": [
        "item_id_by_month.head()"
      ],
      "execution_count": 93,
      "outputs": [
        {
          "output_type": "execute_result",
          "data": {
            "text/html": [
              "<div>\n",
              "<style scoped>\n",
              "    .dataframe tbody tr th:only-of-type {\n",
              "        vertical-align: middle;\n",
              "    }\n",
              "\n",
              "    .dataframe tbody tr th {\n",
              "        vertical-align: top;\n",
              "    }\n",
              "\n",
              "    .dataframe thead th {\n",
              "        text-align: right;\n",
              "    }\n",
              "</style>\n",
              "<table border=\"1\" class=\"dataframe\">\n",
              "  <thead>\n",
              "    <tr style=\"text-align: right;\">\n",
              "      <th></th>\n",
              "      <th>item_id</th>\n",
              "      <th>month</th>\n",
              "      <th>year</th>\n",
              "      <th>item_cnt_day</th>\n",
              "    </tr>\n",
              "  </thead>\n",
              "  <tbody>\n",
              "    <tr>\n",
              "      <th>0</th>\n",
              "      <td>22154</td>\n",
              "      <td>2</td>\n",
              "      <td>2013</td>\n",
              "      <td>1</td>\n",
              "    </tr>\n",
              "    <tr>\n",
              "      <th>1</th>\n",
              "      <td>16451</td>\n",
              "      <td>2</td>\n",
              "      <td>2013</td>\n",
              "      <td>1</td>\n",
              "    </tr>\n",
              "    <tr>\n",
              "      <th>2</th>\n",
              "      <td>16451</td>\n",
              "      <td>10</td>\n",
              "      <td>2013</td>\n",
              "      <td>1</td>\n",
              "    </tr>\n",
              "    <tr>\n",
              "      <th>3</th>\n",
              "      <td>16451</td>\n",
              "      <td>6</td>\n",
              "      <td>2013</td>\n",
              "      <td>1</td>\n",
              "    </tr>\n",
              "    <tr>\n",
              "      <th>4</th>\n",
              "      <td>16451</td>\n",
              "      <td>7</td>\n",
              "      <td>2013</td>\n",
              "      <td>1</td>\n",
              "    </tr>\n",
              "    <tr>\n",
              "      <th>...</th>\n",
              "      <td>...</td>\n",
              "      <td>...</td>\n",
              "      <td>...</td>\n",
              "      <td>...</td>\n",
              "    </tr>\n",
              "    <tr>\n",
              "      <th>1927067</th>\n",
              "      <td>13091</td>\n",
              "      <td>9</td>\n",
              "      <td>2015</td>\n",
              "      <td>1</td>\n",
              "    </tr>\n",
              "    <tr>\n",
              "      <th>1927068</th>\n",
              "      <td>13095</td>\n",
              "      <td>9</td>\n",
              "      <td>2015</td>\n",
              "      <td>1</td>\n",
              "    </tr>\n",
              "    <tr>\n",
              "      <th>1927069</th>\n",
              "      <td>13095</td>\n",
              "      <td>8</td>\n",
              "      <td>2015</td>\n",
              "      <td>1</td>\n",
              "    </tr>\n",
              "    <tr>\n",
              "      <th>1927070</th>\n",
              "      <td>13095</td>\n",
              "      <td>10</td>\n",
              "      <td>2015</td>\n",
              "      <td>2</td>\n",
              "    </tr>\n",
              "    <tr>\n",
              "      <th>1927071</th>\n",
              "      <td>13092</td>\n",
              "      <td>10</td>\n",
              "      <td>2015</td>\n",
              "      <td>1</td>\n",
              "    </tr>\n",
              "  </tbody>\n",
              "</table>\n",
              "<p>90448 rows × 4 columns</p>\n",
              "</div>"
            ],
            "text/plain": [
              "         item_id  month  year  item_cnt_day\n",
              "0          22154      2  2013             1\n",
              "1          16451      2  2013             1\n",
              "2          16451     10  2013             1\n",
              "3          16451      6  2013             1\n",
              "4          16451      7  2013             1\n",
              "...          ...    ...   ...           ...\n",
              "1927067    13091      9  2015             1\n",
              "1927068    13095      9  2015             1\n",
              "1927069    13095      8  2015             1\n",
              "1927070    13095     10  2015             2\n",
              "1927071    13092     10  2015             1\n",
              "\n",
              "[90448 rows x 4 columns]"
            ]
          },
          "metadata": {
            "tags": []
          },
          "execution_count": 93
        }
      ]
    },
    {
      "cell_type": "markdown",
      "metadata": {
        "id": "icppcJg8DfzH"
      },
      "source": [
        "# Feature selection"
      ]
    },
    {
      "cell_type": "code",
      "metadata": {
        "id": "n85LixKGWB15"
      },
      "source": [
        ""
      ],
      "execution_count": null,
      "outputs": []
    },
    {
      "cell_type": "markdown",
      "metadata": {
        "id": "-vitZ_85DxmV"
      },
      "source": [
        "Make features for MA: 7, 30, 60, 90 days, season, month"
      ]
    },
    {
      "cell_type": "markdown",
      "metadata": {
        "id": "GQ1Wez84D6Uj"
      },
      "source": [
        "Convert into categorical - Store, Item"
      ]
    },
    {
      "cell_type": "code",
      "metadata": {
        "id": "N7Lubs0qDlR4",
        "colab": {
          "base_uri": "https://localhost:8080/",
          "height": 204
        },
        "outputId": "b1d709ea-3aae-40ad-86c8-b72892fcc1ae"
      },
      "source": [
        "# item names with their revenue and sold count\n",
        "item_names = salestrain_df_combined.groupby('item_name').agg({'revenue':'sum', 'item_cnt_day':'count'}).reset_index().rename(columns={'item_name': 'Item Name', 'revenue': 'Revenue', 'item_cnt_day': 'Number of Sales'})\n",
        "item_names.head()"
      ],
      "execution_count": null,
      "outputs": [
        {
          "output_type": "execute_result",
          "data": {
            "text/html": [
              "<div>\n",
              "<style scoped>\n",
              "    .dataframe tbody tr th:only-of-type {\n",
              "        vertical-align: middle;\n",
              "    }\n",
              "\n",
              "    .dataframe tbody tr th {\n",
              "        vertical-align: top;\n",
              "    }\n",
              "\n",
              "    .dataframe thead th {\n",
              "        text-align: right;\n",
              "    }\n",
              "</style>\n",
              "<table border=\"1\" class=\"dataframe\">\n",
              "  <thead>\n",
              "    <tr style=\"text-align: right;\">\n",
              "      <th></th>\n",
              "      <th>Item Name</th>\n",
              "      <th>Revenue</th>\n",
              "      <th>Number of Sales</th>\n",
              "    </tr>\n",
              "  </thead>\n",
              "  <tbody>\n",
              "    <tr>\n",
              "      <th>0</th>\n",
              "      <td>! ABBYY FineReader 12 Professional Edition Ful...</td>\n",
              "      <td>26940.00</td>\n",
              "      <td>6</td>\n",
              "    </tr>\n",
              "    <tr>\n",
              "      <th>1</th>\n",
              "      <td>! POWER IN glamor (PLAST.) D</td>\n",
              "      <td>58.00</td>\n",
              "      <td>1</td>\n",
              "    </tr>\n",
              "    <tr>\n",
              "      <th>2</th>\n",
              "      <td>\"Grand BUDAPEST\" (BD)</td>\n",
              "      <td>295962.82</td>\n",
              "      <td>552</td>\n",
              "    </tr>\n",
              "    <tr>\n",
              "      <th>3</th>\n",
              "      <td>\"Grand Budapest\"</td>\n",
              "      <td>403935.42</td>\n",
              "      <td>911</td>\n",
              "    </tr>\n",
              "    <tr>\n",
              "      <th>4</th>\n",
              "      <td>\"Operation Bagration» [PC, Digital Version]</td>\n",
              "      <td>9765.00</td>\n",
              "      <td>31</td>\n",
              "    </tr>\n",
              "  </tbody>\n",
              "</table>\n",
              "</div>"
            ],
            "text/plain": [
              "                                           Item Name  ...  Number of Sales\n",
              "0  ! ABBYY FineReader 12 Professional Edition Ful...  ...                6\n",
              "1                       ! POWER IN glamor (PLAST.) D  ...                1\n",
              "2                              \"Grand BUDAPEST\" (BD)  ...              552\n",
              "3                                   \"Grand Budapest\"  ...              911\n",
              "4        \"Operation Bagration» [PC, Digital Version]  ...               31\n",
              "\n",
              "[5 rows x 3 columns]"
            ]
          },
          "metadata": {
            "tags": []
          },
          "execution_count": 43
        }
      ]
    },
    {
      "cell_type": "code",
      "metadata": {
        "id": "y_YiIJRtEJcc",
        "colab": {
          "base_uri": "https://localhost:8080/",
          "height": 627
        },
        "outputId": "04de8b68-61e2-4033-b56b-be38d282e879"
      },
      "source": [
        "# top 10 items based on their revenue\n",
        "top10_revenue = item_names.nlargest(10, 'Revenue')\n",
        "\n",
        "fig, ax = plt.subplots(figsize=(20,10))\n",
        "sns.barplot(data=top10_revenue, hue='Number of Sales', x='Revenue', y='Item Name')\n",
        "plt.title(\"Top 10 Items based on Revenue including their Number of Sales\")\n",
        "plt.show()"
      ],
      "execution_count": null,
      "outputs": [
        {
          "output_type": "display_data",
          "data": {
            "image/png": "[encoded data removed]",
            "text/plain": [
              "<Figure size 1440x720 with 1 Axes>"
            ]
          },
          "metadata": {
            "tags": []
          }
        }
      ]
    },
    {
      "cell_type": "code",
      "metadata": {
        "id": "JvbCUMqTEaFb",
        "colab": {
          "base_uri": "https://localhost:8080/",
          "height": 627
        },
        "outputId": "89f6ac00-e23e-4265-fac1-699e7d71ca67"
      },
      "source": [
        "# top 10 items based on their revenue\n",
        "top10_sales = item_names.nlargest(10, 'Number of Sales')\n",
        "\n",
        "fig, ax = plt.subplots(figsize=(20,10))\n",
        "sns.barplot(data=top10_sales, x='Number of Sales', y='Item Name', hue='Revenue')\n",
        "plt.title(\"Top 10 Items based on Sales including their Revenue\")\n",
        "plt.show()"
      ],
      "execution_count": null,
      "outputs": [
        {
          "output_type": "display_data",
          "data": {
            "image/png": "[encoded data removed]",
            "text/plain": [
              "<Figure size 1440x720 with 1 Axes>"
            ]
          },
          "metadata": {
            "tags": []
          }
        }
      ]
    },
    {
      "cell_type": "code",
      "metadata": {
        "id": "DFKnw4c8E0Pw",
        "colab": {
          "base_uri": "https://localhost:8080/",
          "height": 204
        },
        "outputId": "02ade214-f51e-4a0e-adf5-d21bf5dd87c1"
      },
      "source": [
        "# category names and how many items in it.\n",
        "category_names = salestrain_df_combined.groupby(['item_category_name']).agg({'item_name':'count'}).reset_index().rename(columns={'item_category_name': 'Category Name','item_name': 'Number of Items'})\n",
        "category_names.head()"
      ],
      "execution_count": null,
      "outputs": [
        {
          "output_type": "execute_result",
          "data": {
            "text/html": [
              "<div>\n",
              "<style scoped>\n",
              "    .dataframe tbody tr th:only-of-type {\n",
              "        vertical-align: middle;\n",
              "    }\n",
              "\n",
              "    .dataframe tbody tr th {\n",
              "        vertical-align: top;\n",
              "    }\n",
              "\n",
              "    .dataframe thead th {\n",
              "        text-align: right;\n",
              "    }\n",
              "</style>\n",
              "<table border=\"1\" class=\"dataframe\">\n",
              "  <thead>\n",
              "    <tr style=\"text-align: right;\">\n",
              "      <th></th>\n",
              "      <th>Category Name</th>\n",
              "      <th>Number of Items</th>\n",
              "    </tr>\n",
              "  </thead>\n",
              "  <tbody>\n",
              "    <tr>\n",
              "      <th>0</th>\n",
              "      <td>Accessories - PS2</td>\n",
              "      <td>2</td>\n",
              "    </tr>\n",
              "    <tr>\n",
              "      <th>1</th>\n",
              "      <td>Accessories - PS3</td>\n",
              "      <td>18461</td>\n",
              "    </tr>\n",
              "    <tr>\n",
              "      <th>2</th>\n",
              "      <td>Accessories - PS4</td>\n",
              "      <td>25283</td>\n",
              "    </tr>\n",
              "    <tr>\n",
              "      <th>3</th>\n",
              "      <td>Accessories - PSP</td>\n",
              "      <td>2304</td>\n",
              "    </tr>\n",
              "    <tr>\n",
              "      <th>4</th>\n",
              "      <td>Accessories - PSVita</td>\n",
              "      <td>7231</td>\n",
              "    </tr>\n",
              "  </tbody>\n",
              "</table>\n",
              "</div>"
            ],
            "text/plain": [
              "          Category Name  Number of Items\n",
              "0     Accessories - PS2                2\n",
              "1     Accessories - PS3            18461\n",
              "2     Accessories - PS4            25283\n",
              "3     Accessories - PSP             2304\n",
              "4  Accessories - PSVita             7231"
            ]
          },
          "metadata": {
            "tags": []
          },
          "execution_count": 46
        }
      ]
    },
    {
      "cell_type": "code",
      "metadata": {
        "id": "vY8bs31bFH7Z",
        "colab": {
          "base_uri": "https://localhost:8080/",
          "height": 204
        },
        "outputId": "05f6ef2e-c3e4-4f4a-cedc-c9ba0be75250"
      },
      "source": [
        "#Find total sales by item\n",
        "total_sales_by_item = salestrain_df_combined.groupby('item_id')['item_cnt_day'].sum().reset_index()\n",
        "\n",
        "#Sort descending\n",
        "total_sales_by_item.sort_values(by='item_cnt_day',ascending=False,inplace=True)\n",
        "total_sales_by_item.head()"
      ],
      "execution_count": null,
      "outputs": [
        {
          "output_type": "execute_result",
          "data": {
            "text/html": [
              "<div>\n",
              "<style scoped>\n",
              "    .dataframe tbody tr th:only-of-type {\n",
              "        vertical-align: middle;\n",
              "    }\n",
              "\n",
              "    .dataframe tbody tr th {\n",
              "        vertical-align: top;\n",
              "    }\n",
              "\n",
              "    .dataframe thead th {\n",
              "        text-align: right;\n",
              "    }\n",
              "</style>\n",
              "<table border=\"1\" class=\"dataframe\">\n",
              "  <thead>\n",
              "    <tr style=\"text-align: right;\">\n",
              "      <th></th>\n",
              "      <th>item_id</th>\n",
              "      <th>item_cnt_day</th>\n",
              "    </tr>\n",
              "  </thead>\n",
              "  <tbody>\n",
              "    <tr>\n",
              "      <th>20601</th>\n",
              "      <td>20949</td>\n",
              "      <td>186642.0</td>\n",
              "    </tr>\n",
              "    <tr>\n",
              "      <th>2749</th>\n",
              "      <td>2808</td>\n",
              "      <td>17245.0</td>\n",
              "    </tr>\n",
              "    <tr>\n",
              "      <th>3654</th>\n",
              "      <td>3732</td>\n",
              "      <td>16642.0</td>\n",
              "    </tr>\n",
              "    <tr>\n",
              "      <th>17417</th>\n",
              "      <td>17717</td>\n",
              "      <td>15830.0</td>\n",
              "    </tr>\n",
              "    <tr>\n",
              "      <th>5717</th>\n",
              "      <td>5822</td>\n",
              "      <td>14515.0</td>\n",
              "    </tr>\n",
              "  </tbody>\n",
              "</table>\n",
              "</div>"
            ],
            "text/plain": [
              "       item_id  item_cnt_day\n",
              "20601    20949      186642.0\n",
              "2749      2808       17245.0\n",
              "3654      3732       16642.0\n",
              "17417    17717       15830.0\n",
              "5717      5822       14515.0"
            ]
          },
          "metadata": {
            "tags": []
          },
          "execution_count": 47
        }
      ]
    },
    {
      "cell_type": "code",
      "metadata": {
        "id": "Z-dOSVpdFWUt",
        "colab": {
          "base_uri": "https://localhost:8080/",
          "height": 204
        },
        "outputId": "16e4700e-2dcc-43b5-861a-56cc2aded623"
      },
      "source": [
        "#Merge together so we can get item_name with total sales values\n",
        "total_sales_by_item_with_name = total_sales_by_item.merge(items_df[['item_name','item_id']],on='item_id')\n",
        "total_sales_by_item_with_name.head()"
      ],
      "execution_count": null,
      "outputs": [
        {
          "output_type": "execute_result",
          "data": {
            "text/html": [
              "<div>\n",
              "<style scoped>\n",
              "    .dataframe tbody tr th:only-of-type {\n",
              "        vertical-align: middle;\n",
              "    }\n",
              "\n",
              "    .dataframe tbody tr th {\n",
              "        vertical-align: top;\n",
              "    }\n",
              "\n",
              "    .dataframe thead th {\n",
              "        text-align: right;\n",
              "    }\n",
              "</style>\n",
              "<table border=\"1\" class=\"dataframe\">\n",
              "  <thead>\n",
              "    <tr style=\"text-align: right;\">\n",
              "      <th></th>\n",
              "      <th>item_id</th>\n",
              "      <th>item_cnt_day</th>\n",
              "      <th>item_name</th>\n",
              "    </tr>\n",
              "  </thead>\n",
              "  <tbody>\n",
              "    <tr>\n",
              "      <th>0</th>\n",
              "      <td>20949</td>\n",
              "      <td>186642.0</td>\n",
              "      <td>Corporate package white shirt 1C Interest (34 ...</td>\n",
              "    </tr>\n",
              "    <tr>\n",
              "      <th>1</th>\n",
              "      <td>2808</td>\n",
              "      <td>17245.0</td>\n",
              "      <td>Diablo III [PC, Jewel, Russian version]</td>\n",
              "    </tr>\n",
              "    <tr>\n",
              "      <th>2</th>\n",
              "      <td>3732</td>\n",
              "      <td>16642.0</td>\n",
              "      <td>Grand Theft Auto V [PS3, Russian subtitles]</td>\n",
              "    </tr>\n",
              "    <tr>\n",
              "      <th>3</th>\n",
              "      <td>17717</td>\n",
              "      <td>15830.0</td>\n",
              "      <td>Receiving cash for 1C-line</td>\n",
              "    </tr>\n",
              "    <tr>\n",
              "      <th>4</th>\n",
              "      <td>5822</td>\n",
              "      <td>14515.0</td>\n",
              "      <td>Playstation Store replenishment wallet: Map pa...</td>\n",
              "    </tr>\n",
              "  </tbody>\n",
              "</table>\n",
              "</div>"
            ],
            "text/plain": [
              "   item_id  item_cnt_day                                          item_name\n",
              "0    20949      186642.0  Corporate package white shirt 1C Interest (34 ...\n",
              "1     2808       17245.0            Diablo III [PC, Jewel, Russian version]\n",
              "2     3732       16642.0        Grand Theft Auto V [PS3, Russian subtitles]\n",
              "3    17717       15830.0                         Receiving cash for 1C-line\n",
              "4     5822       14515.0  Playstation Store replenishment wallet: Map pa..."
            ]
          },
          "metadata": {
            "tags": []
          },
          "execution_count": 48
        }
      ]
    },
    {
      "cell_type": "code",
      "metadata": {
        "id": "RKxEl2U-GWQt",
        "colab": {
          "base_uri": "https://localhost:8080/"
        },
        "outputId": "366645ba-cf7d-47ce-a8ff-a834d8bd7b2a"
      },
      "source": [
        "total_sales_by_item['item_cnt_day'].iloc[:10]"
      ],
      "execution_count": null,
      "outputs": [
        {
          "output_type": "execute_result",
          "data": {
            "text/plain": [
              "20601    186642.0\n",
              "2749      17245.0\n",
              "3654      16642.0\n",
              "17417     15830.0\n",
              "5717      14515.0\n",
              "3656      11688.0\n",
              "6542      10289.0\n",
              "3653      10099.0\n",
              "1814      10032.0\n",
              "16492      9227.0\n",
              "Name: item_cnt_day, dtype: float64"
            ]
          },
          "metadata": {
            "tags": []
          },
          "execution_count": 49
        }
      ]
    },
    {
      "cell_type": "code",
      "metadata": {
        "id": "WIcGTIpVFuba",
        "colab": {
          "base_uri": "https://localhost:8080/",
          "height": 611
        },
        "outputId": "c69c83a3-adba-4922-e50e-3914c2c539f1"
      },
      "source": [
        "# updated scatterplot showing top 20 best selling items day to day\n",
        "fig, ax = plt.subplots(figsize=(20,10))\n",
        "plt.scatter(y = total_sales_by_item['item_cnt_day'].iloc[:20], x = total_sales_by_item['item_id'].iloc[:20])\n",
        "plt.xlabel('Item ID')\n",
        "plt.ylabel('Item count per day')\n",
        "plt.show()"
      ],
      "execution_count": null,
      "outputs": [
        {
          "output_type": "display_data",
          "data": {
            "image/png": "[encoded data removed]",
            "text/plain": [
              "<Figure size 1440x720 with 1 Axes>"
            ]
          },
          "metadata": {
            "tags": []
          }
        }
      ]
    },
    {
      "cell_type": "markdown",
      "metadata": {
        "id": "MchAi0wABchP"
      },
      "source": [
        "## Recommendation Engine"
      ]
    },
    {
      "cell_type": "code",
      "metadata": {
        "id": "BiT7a3a6Fwnz"
      },
      "source": [
        "# Get sales by item, by date - again, not very exciting,so I also used fillna()\n",
        "sales_totals_by_day = salestrain_df_combined.pivot_table(index='item_id',columns=['year', 'month', 'day'],values='item_cnt_day').fillna(0)"
      ],
      "execution_count": null,
      "outputs": []
    },
    {
      "cell_type": "code",
      "metadata": {
        "id": "fDvgXPlkF80W"
      },
      "source": [
        "# Clean up the multi-level index\n",
        "sales_totals_by_day.columns = sales_totals_by_day.columns.droplevel().droplevel()"
      ],
      "execution_count": null,
      "outputs": []
    },
    {
      "cell_type": "code",
      "metadata": {
        "id": "aAQ_Imf3GEaq",
        "colab": {
          "base_uri": "https://localhost:8080/"
        },
        "outputId": "a10e9376-bec6-4e6b-add6-85b3adc557c5"
      },
      "source": [
        "sales_totals_by_day.head()"
      ],
      "execution_count": null,
      "outputs": [
        {
          "output_type": "execute_result",
          "data": {
            "text/html": [
              "<div>\n",
              "<style scoped>\n",
              "    .dataframe tbody tr th:only-of-type {\n",
              "        vertical-align: middle;\n",
              "    }\n",
              "\n",
              "    .dataframe tbody tr th {\n",
              "        vertical-align: top;\n",
              "    }\n",
              "\n",
              "    .dataframe thead th {\n",
              "        text-align: right;\n",
              "    }\n",
              "</style>\n",
              "<table border=\"1\" class=\"dataframe\">\n",
              "  <thead>\n",
              "    <tr style=\"text-align: right;\">\n",
              "      <th>day</th>\n",
              "      <th>1</th>\n",
              "      <th>2</th>\n",
              "      <th>3</th>\n",
              "      <th>4</th>\n",
              "      <th>5</th>\n",
              "      <th>6</th>\n",
              "      <th>7</th>\n",
              "      <th>8</th>\n",
              "      <th>9</th>\n",
              "      <th>10</th>\n",
              "      <th>11</th>\n",
              "      <th>12</th>\n",
              "      <th>13</th>\n",
              "      <th>14</th>\n",
              "      <th>15</th>\n",
              "      <th>16</th>\n",
              "      <th>17</th>\n",
              "      <th>18</th>\n",
              "      <th>19</th>\n",
              "      <th>20</th>\n",
              "      <th>21</th>\n",
              "      <th>22</th>\n",
              "      <th>23</th>\n",
              "      <th>24</th>\n",
              "      <th>25</th>\n",
              "      <th>26</th>\n",
              "      <th>27</th>\n",
              "      <th>28</th>\n",
              "      <th>29</th>\n",
              "      <th>30</th>\n",
              "      <th>31</th>\n",
              "      <th>1</th>\n",
              "      <th>2</th>\n",
              "      <th>3</th>\n",
              "      <th>4</th>\n",
              "      <th>5</th>\n",
              "      <th>6</th>\n",
              "      <th>7</th>\n",
              "      <th>8</th>\n",
              "      <th>9</th>\n",
              "      <th>...</th>\n",
              "      <th>10</th>\n",
              "      <th>13</th>\n",
              "      <th>14</th>\n",
              "      <th>15</th>\n",
              "      <th>16</th>\n",
              "      <th>17</th>\n",
              "      <th>18</th>\n",
              "      <th>19</th>\n",
              "      <th>20</th>\n",
              "      <th>21</th>\n",
              "      <th>22</th>\n",
              "      <th>23</th>\n",
              "      <th>24</th>\n",
              "      <th>25</th>\n",
              "      <th>26</th>\n",
              "      <th>27</th>\n",
              "      <th>28</th>\n",
              "      <th>29</th>\n",
              "      <th>30</th>\n",
              "      <th>31</th>\n",
              "      <th>1</th>\n",
              "      <th>2</th>\n",
              "      <th>3</th>\n",
              "      <th>4</th>\n",
              "      <th>5</th>\n",
              "      <th>6</th>\n",
              "      <th>7</th>\n",
              "      <th>8</th>\n",
              "      <th>9</th>\n",
              "      <th>10</th>\n",
              "      <th>1</th>\n",
              "      <th>2</th>\n",
              "      <th>3</th>\n",
              "      <th>4</th>\n",
              "      <th>5</th>\n",
              "      <th>6</th>\n",
              "      <th>7</th>\n",
              "      <th>8</th>\n",
              "      <th>9</th>\n",
              "      <th>10</th>\n",
              "    </tr>\n",
              "    <tr>\n",
              "      <th>item_id</th>\n",
              "      <th></th>\n",
              "      <th></th>\n",
              "      <th></th>\n",
              "      <th></th>\n",
              "      <th></th>\n",
              "      <th></th>\n",
              "      <th></th>\n",
              "      <th></th>\n",
              "      <th></th>\n",
              "      <th></th>\n",
              "      <th></th>\n",
              "      <th></th>\n",
              "      <th></th>\n",
              "      <th></th>\n",
              "      <th></th>\n",
              "      <th></th>\n",
              "      <th></th>\n",
              "      <th></th>\n",
              "      <th></th>\n",
              "      <th></th>\n",
              "      <th></th>\n",
              "      <th></th>\n",
              "      <th></th>\n",
              "      <th></th>\n",
              "      <th></th>\n",
              "      <th></th>\n",
              "      <th></th>\n",
              "      <th></th>\n",
              "      <th></th>\n",
              "      <th></th>\n",
              "      <th></th>\n",
              "      <th></th>\n",
              "      <th></th>\n",
              "      <th></th>\n",
              "      <th></th>\n",
              "      <th></th>\n",
              "      <th></th>\n",
              "      <th></th>\n",
              "      <th></th>\n",
              "      <th></th>\n",
              "      <th></th>\n",
              "      <th></th>\n",
              "      <th></th>\n",
              "      <th></th>\n",
              "      <th></th>\n",
              "      <th></th>\n",
              "      <th></th>\n",
              "      <th></th>\n",
              "      <th></th>\n",
              "      <th></th>\n",
              "      <th></th>\n",
              "      <th></th>\n",
              "      <th></th>\n",
              "      <th></th>\n",
              "      <th></th>\n",
              "      <th></th>\n",
              "      <th></th>\n",
              "      <th></th>\n",
              "      <th></th>\n",
              "      <th></th>\n",
              "      <th></th>\n",
              "      <th></th>\n",
              "      <th></th>\n",
              "      <th></th>\n",
              "      <th></th>\n",
              "      <th></th>\n",
              "      <th></th>\n",
              "      <th></th>\n",
              "      <th></th>\n",
              "      <th></th>\n",
              "      <th></th>\n",
              "      <th></th>\n",
              "      <th></th>\n",
              "      <th></th>\n",
              "      <th></th>\n",
              "      <th></th>\n",
              "      <th></th>\n",
              "      <th></th>\n",
              "      <th></th>\n",
              "      <th></th>\n",
              "      <th></th>\n",
              "    </tr>\n",
              "  </thead>\n",
              "  <tbody>\n",
              "    <tr>\n",
              "      <th>0</th>\n",
              "      <td>0.0</td>\n",
              "      <td>0.0</td>\n",
              "      <td>0.0</td>\n",
              "      <td>0.0</td>\n",
              "      <td>0.0</td>\n",
              "      <td>0.0</td>\n",
              "      <td>0.0</td>\n",
              "      <td>0.0</td>\n",
              "      <td>0.0</td>\n",
              "      <td>0.0</td>\n",
              "      <td>0.0</td>\n",
              "      <td>0.0</td>\n",
              "      <td>0.0</td>\n",
              "      <td>0.0</td>\n",
              "      <td>0.0</td>\n",
              "      <td>0.0</td>\n",
              "      <td>0.0</td>\n",
              "      <td>0.0</td>\n",
              "      <td>0.0</td>\n",
              "      <td>0.0</td>\n",
              "      <td>0.0</td>\n",
              "      <td>0.0</td>\n",
              "      <td>0.0</td>\n",
              "      <td>0.0</td>\n",
              "      <td>0.0</td>\n",
              "      <td>0.0</td>\n",
              "      <td>0.0</td>\n",
              "      <td>0.0</td>\n",
              "      <td>0.0</td>\n",
              "      <td>0.0</td>\n",
              "      <td>0.0</td>\n",
              "      <td>0.0</td>\n",
              "      <td>0.0</td>\n",
              "      <td>0.0</td>\n",
              "      <td>0.0</td>\n",
              "      <td>0.0</td>\n",
              "      <td>0.0</td>\n",
              "      <td>0.0</td>\n",
              "      <td>0.0</td>\n",
              "      <td>0.0</td>\n",
              "      <td>...</td>\n",
              "      <td>0.0</td>\n",
              "      <td>0.0</td>\n",
              "      <td>0.0</td>\n",
              "      <td>0.0</td>\n",
              "      <td>0.0</td>\n",
              "      <td>0.0</td>\n",
              "      <td>0.0</td>\n",
              "      <td>0.0</td>\n",
              "      <td>0.0</td>\n",
              "      <td>0.0</td>\n",
              "      <td>0.0</td>\n",
              "      <td>0.0</td>\n",
              "      <td>0.0</td>\n",
              "      <td>0.0</td>\n",
              "      <td>0.0</td>\n",
              "      <td>0.0</td>\n",
              "      <td>0.0</td>\n",
              "      <td>0.0</td>\n",
              "      <td>0.0</td>\n",
              "      <td>0.0</td>\n",
              "      <td>0.0</td>\n",
              "      <td>0.0</td>\n",
              "      <td>0.0</td>\n",
              "      <td>0.0</td>\n",
              "      <td>0.0</td>\n",
              "      <td>0.0</td>\n",
              "      <td>0.0</td>\n",
              "      <td>0.0</td>\n",
              "      <td>0.0</td>\n",
              "      <td>0.0</td>\n",
              "      <td>0.0</td>\n",
              "      <td>0.0</td>\n",
              "      <td>0.0</td>\n",
              "      <td>0.0</td>\n",
              "      <td>0.0</td>\n",
              "      <td>0.0</td>\n",
              "      <td>0.0</td>\n",
              "      <td>0.0</td>\n",
              "      <td>0.0</td>\n",
              "      <td>0.0</td>\n",
              "    </tr>\n",
              "    <tr>\n",
              "      <th>1</th>\n",
              "      <td>0.0</td>\n",
              "      <td>0.0</td>\n",
              "      <td>0.0</td>\n",
              "      <td>0.0</td>\n",
              "      <td>0.0</td>\n",
              "      <td>0.0</td>\n",
              "      <td>0.0</td>\n",
              "      <td>0.0</td>\n",
              "      <td>0.0</td>\n",
              "      <td>0.0</td>\n",
              "      <td>0.0</td>\n",
              "      <td>0.0</td>\n",
              "      <td>0.0</td>\n",
              "      <td>0.0</td>\n",
              "      <td>0.0</td>\n",
              "      <td>0.0</td>\n",
              "      <td>0.0</td>\n",
              "      <td>0.0</td>\n",
              "      <td>0.0</td>\n",
              "      <td>0.0</td>\n",
              "      <td>0.0</td>\n",
              "      <td>0.0</td>\n",
              "      <td>0.0</td>\n",
              "      <td>0.0</td>\n",
              "      <td>0.0</td>\n",
              "      <td>0.0</td>\n",
              "      <td>0.0</td>\n",
              "      <td>0.0</td>\n",
              "      <td>0.0</td>\n",
              "      <td>0.0</td>\n",
              "      <td>0.0</td>\n",
              "      <td>0.0</td>\n",
              "      <td>0.0</td>\n",
              "      <td>0.0</td>\n",
              "      <td>0.0</td>\n",
              "      <td>0.0</td>\n",
              "      <td>0.0</td>\n",
              "      <td>0.0</td>\n",
              "      <td>0.0</td>\n",
              "      <td>0.0</td>\n",
              "      <td>...</td>\n",
              "      <td>0.0</td>\n",
              "      <td>0.0</td>\n",
              "      <td>0.0</td>\n",
              "      <td>0.0</td>\n",
              "      <td>0.0</td>\n",
              "      <td>0.0</td>\n",
              "      <td>0.0</td>\n",
              "      <td>0.0</td>\n",
              "      <td>0.0</td>\n",
              "      <td>0.0</td>\n",
              "      <td>0.0</td>\n",
              "      <td>0.0</td>\n",
              "      <td>0.0</td>\n",
              "      <td>0.0</td>\n",
              "      <td>0.0</td>\n",
              "      <td>0.0</td>\n",
              "      <td>0.0</td>\n",
              "      <td>0.0</td>\n",
              "      <td>0.0</td>\n",
              "      <td>0.0</td>\n",
              "      <td>0.0</td>\n",
              "      <td>0.0</td>\n",
              "      <td>0.0</td>\n",
              "      <td>0.0</td>\n",
              "      <td>0.0</td>\n",
              "      <td>0.0</td>\n",
              "      <td>0.0</td>\n",
              "      <td>0.0</td>\n",
              "      <td>0.0</td>\n",
              "      <td>0.0</td>\n",
              "      <td>0.0</td>\n",
              "      <td>0.0</td>\n",
              "      <td>0.0</td>\n",
              "      <td>0.0</td>\n",
              "      <td>0.0</td>\n",
              "      <td>0.0</td>\n",
              "      <td>0.0</td>\n",
              "      <td>0.0</td>\n",
              "      <td>0.0</td>\n",
              "      <td>0.0</td>\n",
              "    </tr>\n",
              "    <tr>\n",
              "      <th>2</th>\n",
              "      <td>0.0</td>\n",
              "      <td>0.0</td>\n",
              "      <td>0.0</td>\n",
              "      <td>0.0</td>\n",
              "      <td>0.0</td>\n",
              "      <td>0.0</td>\n",
              "      <td>0.0</td>\n",
              "      <td>0.0</td>\n",
              "      <td>0.0</td>\n",
              "      <td>0.0</td>\n",
              "      <td>0.0</td>\n",
              "      <td>0.0</td>\n",
              "      <td>0.0</td>\n",
              "      <td>0.0</td>\n",
              "      <td>0.0</td>\n",
              "      <td>0.0</td>\n",
              "      <td>0.0</td>\n",
              "      <td>0.0</td>\n",
              "      <td>0.0</td>\n",
              "      <td>0.0</td>\n",
              "      <td>0.0</td>\n",
              "      <td>0.0</td>\n",
              "      <td>0.0</td>\n",
              "      <td>0.0</td>\n",
              "      <td>0.0</td>\n",
              "      <td>0.0</td>\n",
              "      <td>0.0</td>\n",
              "      <td>0.0</td>\n",
              "      <td>0.0</td>\n",
              "      <td>0.0</td>\n",
              "      <td>0.0</td>\n",
              "      <td>0.0</td>\n",
              "      <td>0.0</td>\n",
              "      <td>0.0</td>\n",
              "      <td>0.0</td>\n",
              "      <td>0.0</td>\n",
              "      <td>0.0</td>\n",
              "      <td>0.0</td>\n",
              "      <td>0.0</td>\n",
              "      <td>0.0</td>\n",
              "      <td>...</td>\n",
              "      <td>0.0</td>\n",
              "      <td>0.0</td>\n",
              "      <td>0.0</td>\n",
              "      <td>0.0</td>\n",
              "      <td>0.0</td>\n",
              "      <td>0.0</td>\n",
              "      <td>0.0</td>\n",
              "      <td>0.0</td>\n",
              "      <td>0.0</td>\n",
              "      <td>0.0</td>\n",
              "      <td>0.0</td>\n",
              "      <td>0.0</td>\n",
              "      <td>0.0</td>\n",
              "      <td>0.0</td>\n",
              "      <td>0.0</td>\n",
              "      <td>0.0</td>\n",
              "      <td>0.0</td>\n",
              "      <td>0.0</td>\n",
              "      <td>0.0</td>\n",
              "      <td>0.0</td>\n",
              "      <td>0.0</td>\n",
              "      <td>0.0</td>\n",
              "      <td>0.0</td>\n",
              "      <td>0.0</td>\n",
              "      <td>0.0</td>\n",
              "      <td>0.0</td>\n",
              "      <td>0.0</td>\n",
              "      <td>0.0</td>\n",
              "      <td>0.0</td>\n",
              "      <td>0.0</td>\n",
              "      <td>0.0</td>\n",
              "      <td>0.0</td>\n",
              "      <td>0.0</td>\n",
              "      <td>0.0</td>\n",
              "      <td>0.0</td>\n",
              "      <td>0.0</td>\n",
              "      <td>0.0</td>\n",
              "      <td>0.0</td>\n",
              "      <td>0.0</td>\n",
              "      <td>0.0</td>\n",
              "    </tr>\n",
              "    <tr>\n",
              "      <th>3</th>\n",
              "      <td>0.0</td>\n",
              "      <td>0.0</td>\n",
              "      <td>0.0</td>\n",
              "      <td>0.0</td>\n",
              "      <td>0.0</td>\n",
              "      <td>0.0</td>\n",
              "      <td>0.0</td>\n",
              "      <td>0.0</td>\n",
              "      <td>0.0</td>\n",
              "      <td>0.0</td>\n",
              "      <td>0.0</td>\n",
              "      <td>0.0</td>\n",
              "      <td>0.0</td>\n",
              "      <td>0.0</td>\n",
              "      <td>0.0</td>\n",
              "      <td>0.0</td>\n",
              "      <td>0.0</td>\n",
              "      <td>0.0</td>\n",
              "      <td>0.0</td>\n",
              "      <td>0.0</td>\n",
              "      <td>0.0</td>\n",
              "      <td>0.0</td>\n",
              "      <td>0.0</td>\n",
              "      <td>0.0</td>\n",
              "      <td>0.0</td>\n",
              "      <td>0.0</td>\n",
              "      <td>0.0</td>\n",
              "      <td>0.0</td>\n",
              "      <td>0.0</td>\n",
              "      <td>0.0</td>\n",
              "      <td>0.0</td>\n",
              "      <td>0.0</td>\n",
              "      <td>0.0</td>\n",
              "      <td>0.0</td>\n",
              "      <td>0.0</td>\n",
              "      <td>0.0</td>\n",
              "      <td>0.0</td>\n",
              "      <td>0.0</td>\n",
              "      <td>0.0</td>\n",
              "      <td>0.0</td>\n",
              "      <td>...</td>\n",
              "      <td>0.0</td>\n",
              "      <td>0.0</td>\n",
              "      <td>0.0</td>\n",
              "      <td>0.0</td>\n",
              "      <td>0.0</td>\n",
              "      <td>0.0</td>\n",
              "      <td>0.0</td>\n",
              "      <td>0.0</td>\n",
              "      <td>0.0</td>\n",
              "      <td>0.0</td>\n",
              "      <td>0.0</td>\n",
              "      <td>0.0</td>\n",
              "      <td>0.0</td>\n",
              "      <td>0.0</td>\n",
              "      <td>0.0</td>\n",
              "      <td>0.0</td>\n",
              "      <td>0.0</td>\n",
              "      <td>0.0</td>\n",
              "      <td>0.0</td>\n",
              "      <td>0.0</td>\n",
              "      <td>0.0</td>\n",
              "      <td>0.0</td>\n",
              "      <td>0.0</td>\n",
              "      <td>0.0</td>\n",
              "      <td>0.0</td>\n",
              "      <td>0.0</td>\n",
              "      <td>0.0</td>\n",
              "      <td>0.0</td>\n",
              "      <td>0.0</td>\n",
              "      <td>0.0</td>\n",
              "      <td>0.0</td>\n",
              "      <td>0.0</td>\n",
              "      <td>0.0</td>\n",
              "      <td>0.0</td>\n",
              "      <td>0.0</td>\n",
              "      <td>0.0</td>\n",
              "      <td>0.0</td>\n",
              "      <td>0.0</td>\n",
              "      <td>0.0</td>\n",
              "      <td>0.0</td>\n",
              "    </tr>\n",
              "    <tr>\n",
              "      <th>4</th>\n",
              "      <td>0.0</td>\n",
              "      <td>0.0</td>\n",
              "      <td>0.0</td>\n",
              "      <td>0.0</td>\n",
              "      <td>0.0</td>\n",
              "      <td>0.0</td>\n",
              "      <td>0.0</td>\n",
              "      <td>0.0</td>\n",
              "      <td>0.0</td>\n",
              "      <td>0.0</td>\n",
              "      <td>0.0</td>\n",
              "      <td>0.0</td>\n",
              "      <td>0.0</td>\n",
              "      <td>0.0</td>\n",
              "      <td>0.0</td>\n",
              "      <td>0.0</td>\n",
              "      <td>0.0</td>\n",
              "      <td>0.0</td>\n",
              "      <td>0.0</td>\n",
              "      <td>0.0</td>\n",
              "      <td>0.0</td>\n",
              "      <td>0.0</td>\n",
              "      <td>0.0</td>\n",
              "      <td>0.0</td>\n",
              "      <td>0.0</td>\n",
              "      <td>0.0</td>\n",
              "      <td>0.0</td>\n",
              "      <td>0.0</td>\n",
              "      <td>0.0</td>\n",
              "      <td>0.0</td>\n",
              "      <td>0.0</td>\n",
              "      <td>0.0</td>\n",
              "      <td>0.0</td>\n",
              "      <td>0.0</td>\n",
              "      <td>0.0</td>\n",
              "      <td>0.0</td>\n",
              "      <td>0.0</td>\n",
              "      <td>0.0</td>\n",
              "      <td>0.0</td>\n",
              "      <td>0.0</td>\n",
              "      <td>...</td>\n",
              "      <td>0.0</td>\n",
              "      <td>0.0</td>\n",
              "      <td>0.0</td>\n",
              "      <td>0.0</td>\n",
              "      <td>0.0</td>\n",
              "      <td>0.0</td>\n",
              "      <td>0.0</td>\n",
              "      <td>0.0</td>\n",
              "      <td>0.0</td>\n",
              "      <td>0.0</td>\n",
              "      <td>0.0</td>\n",
              "      <td>0.0</td>\n",
              "      <td>0.0</td>\n",
              "      <td>0.0</td>\n",
              "      <td>0.0</td>\n",
              "      <td>0.0</td>\n",
              "      <td>0.0</td>\n",
              "      <td>0.0</td>\n",
              "      <td>0.0</td>\n",
              "      <td>0.0</td>\n",
              "      <td>0.0</td>\n",
              "      <td>0.0</td>\n",
              "      <td>0.0</td>\n",
              "      <td>0.0</td>\n",
              "      <td>0.0</td>\n",
              "      <td>0.0</td>\n",
              "      <td>0.0</td>\n",
              "      <td>0.0</td>\n",
              "      <td>0.0</td>\n",
              "      <td>0.0</td>\n",
              "      <td>0.0</td>\n",
              "      <td>0.0</td>\n",
              "      <td>0.0</td>\n",
              "      <td>0.0</td>\n",
              "      <td>0.0</td>\n",
              "      <td>0.0</td>\n",
              "      <td>0.0</td>\n",
              "      <td>0.0</td>\n",
              "      <td>0.0</td>\n",
              "      <td>0.0</td>\n",
              "    </tr>\n",
              "  </tbody>\n",
              "</table>\n",
              "<p>5 rows × 1034 columns</p>\n",
              "</div>"
            ],
            "text/plain": [
              "day       1    2    3    4    5    6    7   ...   4    5    6    7    8    9    10\n",
              "item_id                                     ...                                   \n",
              "0        0.0  0.0  0.0  0.0  0.0  0.0  0.0  ...  0.0  0.0  0.0  0.0  0.0  0.0  0.0\n",
              "1        0.0  0.0  0.0  0.0  0.0  0.0  0.0  ...  0.0  0.0  0.0  0.0  0.0  0.0  0.0\n",
              "2        0.0  0.0  0.0  0.0  0.0  0.0  0.0  ...  0.0  0.0  0.0  0.0  0.0  0.0  0.0\n",
              "3        0.0  0.0  0.0  0.0  0.0  0.0  0.0  ...  0.0  0.0  0.0  0.0  0.0  0.0  0.0\n",
              "4        0.0  0.0  0.0  0.0  0.0  0.0  0.0  ...  0.0  0.0  0.0  0.0  0.0  0.0  0.0\n",
              "\n",
              "[5 rows x 1034 columns]"
            ]
          },
          "metadata": {
            "tags": []
          },
          "execution_count": 53
        }
      ]
    },
    {
      "cell_type": "code",
      "metadata": {
        "id": "Z37oDt15GHZ-",
        "colab": {
          "base_uri": "https://localhost:8080/"
        },
        "outputId": "d4c761b7-a818-4443-eed4-ab9fcbe52362"
      },
      "source": [
        "# Shape of the resulting DF - items x days\n",
        "sales_totals_by_day.shape"
      ],
      "execution_count": null,
      "outputs": [
        {
          "output_type": "execute_result",
          "data": {
            "text/plain": [
              "(21806, 1034)"
            ]
          },
          "metadata": {
            "tags": []
          },
          "execution_count": 54
        }
      ]
    },
    {
      "cell_type": "code",
      "metadata": {
        "id": "EfZEnry-GMEt"
      },
      "source": [
        "#Transpose this\n",
        "sales_totals_by_day_transposed = sales_totals_by_day.transpose()"
      ],
      "execution_count": null,
      "outputs": []
    },
    {
      "cell_type": "code",
      "metadata": {
        "id": "_YhaC0WUGRlS",
        "colab": {
          "base_uri": "https://localhost:8080/"
        },
        "outputId": "90da94d0-d030-4c0d-e1e8-95499d1168bc"
      },
      "source": [
        "sales_totals_by_day_transposed.head()"
      ],
      "execution_count": null,
      "outputs": [
        {
          "output_type": "execute_result",
          "data": {
            "text/html": [
              "<div>\n",
              "<style scoped>\n",
              "    .dataframe tbody tr th:only-of-type {\n",
              "        vertical-align: middle;\n",
              "    }\n",
              "\n",
              "    .dataframe tbody tr th {\n",
              "        vertical-align: top;\n",
              "    }\n",
              "\n",
              "    .dataframe thead th {\n",
              "        text-align: right;\n",
              "    }\n",
              "</style>\n",
              "<table border=\"1\" class=\"dataframe\">\n",
              "  <thead>\n",
              "    <tr style=\"text-align: right;\">\n",
              "      <th>item_id</th>\n",
              "      <th>0</th>\n",
              "      <th>1</th>\n",
              "      <th>2</th>\n",
              "      <th>3</th>\n",
              "      <th>4</th>\n",
              "      <th>5</th>\n",
              "      <th>6</th>\n",
              "      <th>7</th>\n",
              "      <th>8</th>\n",
              "      <th>9</th>\n",
              "      <th>10</th>\n",
              "      <th>11</th>\n",
              "      <th>12</th>\n",
              "      <th>13</th>\n",
              "      <th>14</th>\n",
              "      <th>15</th>\n",
              "      <th>16</th>\n",
              "      <th>17</th>\n",
              "      <th>18</th>\n",
              "      <th>19</th>\n",
              "      <th>20</th>\n",
              "      <th>21</th>\n",
              "      <th>22</th>\n",
              "      <th>23</th>\n",
              "      <th>24</th>\n",
              "      <th>25</th>\n",
              "      <th>26</th>\n",
              "      <th>27</th>\n",
              "      <th>28</th>\n",
              "      <th>29</th>\n",
              "      <th>30</th>\n",
              "      <th>31</th>\n",
              "      <th>32</th>\n",
              "      <th>33</th>\n",
              "      <th>34</th>\n",
              "      <th>35</th>\n",
              "      <th>36</th>\n",
              "      <th>37</th>\n",
              "      <th>38</th>\n",
              "      <th>39</th>\n",
              "      <th>...</th>\n",
              "      <th>22129</th>\n",
              "      <th>22130</th>\n",
              "      <th>22131</th>\n",
              "      <th>22132</th>\n",
              "      <th>22133</th>\n",
              "      <th>22134</th>\n",
              "      <th>22135</th>\n",
              "      <th>22136</th>\n",
              "      <th>22138</th>\n",
              "      <th>22139</th>\n",
              "      <th>22140</th>\n",
              "      <th>22141</th>\n",
              "      <th>22142</th>\n",
              "      <th>22143</th>\n",
              "      <th>22144</th>\n",
              "      <th>22145</th>\n",
              "      <th>22146</th>\n",
              "      <th>22147</th>\n",
              "      <th>22148</th>\n",
              "      <th>22149</th>\n",
              "      <th>22150</th>\n",
              "      <th>22151</th>\n",
              "      <th>22152</th>\n",
              "      <th>22153</th>\n",
              "      <th>22154</th>\n",
              "      <th>22155</th>\n",
              "      <th>22156</th>\n",
              "      <th>22157</th>\n",
              "      <th>22158</th>\n",
              "      <th>22159</th>\n",
              "      <th>22160</th>\n",
              "      <th>22161</th>\n",
              "      <th>22162</th>\n",
              "      <th>22163</th>\n",
              "      <th>22164</th>\n",
              "      <th>22165</th>\n",
              "      <th>22166</th>\n",
              "      <th>22167</th>\n",
              "      <th>22168</th>\n",
              "      <th>22169</th>\n",
              "    </tr>\n",
              "    <tr>\n",
              "      <th>day</th>\n",
              "      <th></th>\n",
              "      <th></th>\n",
              "      <th></th>\n",
              "      <th></th>\n",
              "      <th></th>\n",
              "      <th></th>\n",
              "      <th></th>\n",
              "      <th></th>\n",
              "      <th></th>\n",
              "      <th></th>\n",
              "      <th></th>\n",
              "      <th></th>\n",
              "      <th></th>\n",
              "      <th></th>\n",
              "      <th></th>\n",
              "      <th></th>\n",
              "      <th></th>\n",
              "      <th></th>\n",
              "      <th></th>\n",
              "      <th></th>\n",
              "      <th></th>\n",
              "      <th></th>\n",
              "      <th></th>\n",
              "      <th></th>\n",
              "      <th></th>\n",
              "      <th></th>\n",
              "      <th></th>\n",
              "      <th></th>\n",
              "      <th></th>\n",
              "      <th></th>\n",
              "      <th></th>\n",
              "      <th></th>\n",
              "      <th></th>\n",
              "      <th></th>\n",
              "      <th></th>\n",
              "      <th></th>\n",
              "      <th></th>\n",
              "      <th></th>\n",
              "      <th></th>\n",
              "      <th></th>\n",
              "      <th></th>\n",
              "      <th></th>\n",
              "      <th></th>\n",
              "      <th></th>\n",
              "      <th></th>\n",
              "      <th></th>\n",
              "      <th></th>\n",
              "      <th></th>\n",
              "      <th></th>\n",
              "      <th></th>\n",
              "      <th></th>\n",
              "      <th></th>\n",
              "      <th></th>\n",
              "      <th></th>\n",
              "      <th></th>\n",
              "      <th></th>\n",
              "      <th></th>\n",
              "      <th></th>\n",
              "      <th></th>\n",
              "      <th></th>\n",
              "      <th></th>\n",
              "      <th></th>\n",
              "      <th></th>\n",
              "      <th></th>\n",
              "      <th></th>\n",
              "      <th></th>\n",
              "      <th></th>\n",
              "      <th></th>\n",
              "      <th></th>\n",
              "      <th></th>\n",
              "      <th></th>\n",
              "      <th></th>\n",
              "      <th></th>\n",
              "      <th></th>\n",
              "      <th></th>\n",
              "      <th></th>\n",
              "      <th></th>\n",
              "      <th></th>\n",
              "      <th></th>\n",
              "      <th></th>\n",
              "      <th></th>\n",
              "    </tr>\n",
              "  </thead>\n",
              "  <tbody>\n",
              "    <tr>\n",
              "      <th>1</th>\n",
              "      <td>0.0</td>\n",
              "      <td>0.0</td>\n",
              "      <td>0.0</td>\n",
              "      <td>0.0</td>\n",
              "      <td>0.0</td>\n",
              "      <td>0.0</td>\n",
              "      <td>0.0</td>\n",
              "      <td>0.0</td>\n",
              "      <td>0.0</td>\n",
              "      <td>0.0</td>\n",
              "      <td>0.0</td>\n",
              "      <td>0.0</td>\n",
              "      <td>0.0</td>\n",
              "      <td>0.0</td>\n",
              "      <td>0.0</td>\n",
              "      <td>0.0</td>\n",
              "      <td>0.0</td>\n",
              "      <td>0.0</td>\n",
              "      <td>0.0</td>\n",
              "      <td>0.0</td>\n",
              "      <td>0.0</td>\n",
              "      <td>0.0</td>\n",
              "      <td>0.0</td>\n",
              "      <td>0.0</td>\n",
              "      <td>0.0</td>\n",
              "      <td>0.0</td>\n",
              "      <td>0.0</td>\n",
              "      <td>0.0</td>\n",
              "      <td>0.0</td>\n",
              "      <td>0.0</td>\n",
              "      <td>0.000000</td>\n",
              "      <td>0.0</td>\n",
              "      <td>1.166667</td>\n",
              "      <td>1.0</td>\n",
              "      <td>0.0</td>\n",
              "      <td>0.000000</td>\n",
              "      <td>0.0</td>\n",
              "      <td>0.0</td>\n",
              "      <td>0.0</td>\n",
              "      <td>0.0</td>\n",
              "      <td>...</td>\n",
              "      <td>0.0</td>\n",
              "      <td>0.0</td>\n",
              "      <td>0.0</td>\n",
              "      <td>0.0</td>\n",
              "      <td>0.0</td>\n",
              "      <td>1.600000</td>\n",
              "      <td>0.0</td>\n",
              "      <td>0.0</td>\n",
              "      <td>0.0</td>\n",
              "      <td>1.0</td>\n",
              "      <td>0.0</td>\n",
              "      <td>0.0</td>\n",
              "      <td>0.0</td>\n",
              "      <td>0.0</td>\n",
              "      <td>0.0</td>\n",
              "      <td>0.0</td>\n",
              "      <td>0.0</td>\n",
              "      <td>0.0</td>\n",
              "      <td>0.0</td>\n",
              "      <td>0.0</td>\n",
              "      <td>0.0</td>\n",
              "      <td>1.0</td>\n",
              "      <td>0.0</td>\n",
              "      <td>0.0</td>\n",
              "      <td>0.0</td>\n",
              "      <td>0.0</td>\n",
              "      <td>0.0</td>\n",
              "      <td>0.0</td>\n",
              "      <td>0.0</td>\n",
              "      <td>0.0</td>\n",
              "      <td>0.0</td>\n",
              "      <td>0.0</td>\n",
              "      <td>0.0</td>\n",
              "      <td>0.0</td>\n",
              "      <td>0.0</td>\n",
              "      <td>0.0</td>\n",
              "      <td>0.0</td>\n",
              "      <td>0.0</td>\n",
              "      <td>0.0</td>\n",
              "      <td>0.0</td>\n",
              "    </tr>\n",
              "    <tr>\n",
              "      <th>2</th>\n",
              "      <td>0.0</td>\n",
              "      <td>0.0</td>\n",
              "      <td>0.0</td>\n",
              "      <td>0.0</td>\n",
              "      <td>0.0</td>\n",
              "      <td>0.0</td>\n",
              "      <td>0.0</td>\n",
              "      <td>0.0</td>\n",
              "      <td>0.0</td>\n",
              "      <td>0.0</td>\n",
              "      <td>0.0</td>\n",
              "      <td>0.0</td>\n",
              "      <td>0.0</td>\n",
              "      <td>0.0</td>\n",
              "      <td>0.0</td>\n",
              "      <td>0.0</td>\n",
              "      <td>0.0</td>\n",
              "      <td>0.0</td>\n",
              "      <td>0.0</td>\n",
              "      <td>0.0</td>\n",
              "      <td>0.0</td>\n",
              "      <td>0.0</td>\n",
              "      <td>0.0</td>\n",
              "      <td>0.0</td>\n",
              "      <td>0.0</td>\n",
              "      <td>0.0</td>\n",
              "      <td>0.0</td>\n",
              "      <td>0.0</td>\n",
              "      <td>0.0</td>\n",
              "      <td>0.0</td>\n",
              "      <td>0.000000</td>\n",
              "      <td>0.0</td>\n",
              "      <td>1.333333</td>\n",
              "      <td>1.0</td>\n",
              "      <td>1.0</td>\n",
              "      <td>1.428571</td>\n",
              "      <td>0.0</td>\n",
              "      <td>0.0</td>\n",
              "      <td>0.0</td>\n",
              "      <td>0.0</td>\n",
              "      <td>...</td>\n",
              "      <td>0.0</td>\n",
              "      <td>1.0</td>\n",
              "      <td>1.0</td>\n",
              "      <td>0.0</td>\n",
              "      <td>0.0</td>\n",
              "      <td>1.333333</td>\n",
              "      <td>1.0</td>\n",
              "      <td>0.0</td>\n",
              "      <td>0.0</td>\n",
              "      <td>0.0</td>\n",
              "      <td>0.0</td>\n",
              "      <td>0.0</td>\n",
              "      <td>0.0</td>\n",
              "      <td>0.0</td>\n",
              "      <td>0.0</td>\n",
              "      <td>0.0</td>\n",
              "      <td>0.0</td>\n",
              "      <td>0.0</td>\n",
              "      <td>0.0</td>\n",
              "      <td>0.0</td>\n",
              "      <td>1.0</td>\n",
              "      <td>1.0</td>\n",
              "      <td>0.0</td>\n",
              "      <td>0.0</td>\n",
              "      <td>0.0</td>\n",
              "      <td>0.0</td>\n",
              "      <td>0.0</td>\n",
              "      <td>0.0</td>\n",
              "      <td>0.0</td>\n",
              "      <td>0.0</td>\n",
              "      <td>0.0</td>\n",
              "      <td>0.0</td>\n",
              "      <td>0.0</td>\n",
              "      <td>0.0</td>\n",
              "      <td>0.0</td>\n",
              "      <td>0.0</td>\n",
              "      <td>0.0</td>\n",
              "      <td>0.0</td>\n",
              "      <td>0.0</td>\n",
              "      <td>0.0</td>\n",
              "    </tr>\n",
              "    <tr>\n",
              "      <th>3</th>\n",
              "      <td>0.0</td>\n",
              "      <td>0.0</td>\n",
              "      <td>0.0</td>\n",
              "      <td>0.0</td>\n",
              "      <td>0.0</td>\n",
              "      <td>0.0</td>\n",
              "      <td>0.0</td>\n",
              "      <td>0.0</td>\n",
              "      <td>0.0</td>\n",
              "      <td>0.0</td>\n",
              "      <td>0.0</td>\n",
              "      <td>0.0</td>\n",
              "      <td>0.0</td>\n",
              "      <td>0.0</td>\n",
              "      <td>0.0</td>\n",
              "      <td>0.0</td>\n",
              "      <td>0.0</td>\n",
              "      <td>0.0</td>\n",
              "      <td>0.0</td>\n",
              "      <td>0.0</td>\n",
              "      <td>0.0</td>\n",
              "      <td>0.0</td>\n",
              "      <td>0.0</td>\n",
              "      <td>0.0</td>\n",
              "      <td>0.0</td>\n",
              "      <td>0.0</td>\n",
              "      <td>0.0</td>\n",
              "      <td>0.0</td>\n",
              "      <td>0.0</td>\n",
              "      <td>0.0</td>\n",
              "      <td>1.214286</td>\n",
              "      <td>1.1</td>\n",
              "      <td>1.000000</td>\n",
              "      <td>0.0</td>\n",
              "      <td>0.0</td>\n",
              "      <td>1.000000</td>\n",
              "      <td>0.0</td>\n",
              "      <td>0.0</td>\n",
              "      <td>0.0</td>\n",
              "      <td>0.0</td>\n",
              "      <td>...</td>\n",
              "      <td>0.0</td>\n",
              "      <td>1.0</td>\n",
              "      <td>1.0</td>\n",
              "      <td>0.0</td>\n",
              "      <td>0.0</td>\n",
              "      <td>1.000000</td>\n",
              "      <td>1.0</td>\n",
              "      <td>0.0</td>\n",
              "      <td>0.0</td>\n",
              "      <td>0.0</td>\n",
              "      <td>0.0</td>\n",
              "      <td>0.0</td>\n",
              "      <td>0.0</td>\n",
              "      <td>0.0</td>\n",
              "      <td>0.0</td>\n",
              "      <td>0.0</td>\n",
              "      <td>0.0</td>\n",
              "      <td>0.0</td>\n",
              "      <td>0.0</td>\n",
              "      <td>0.0</td>\n",
              "      <td>0.0</td>\n",
              "      <td>1.0</td>\n",
              "      <td>0.0</td>\n",
              "      <td>0.0</td>\n",
              "      <td>0.0</td>\n",
              "      <td>0.0</td>\n",
              "      <td>0.0</td>\n",
              "      <td>0.0</td>\n",
              "      <td>0.0</td>\n",
              "      <td>0.0</td>\n",
              "      <td>1.0</td>\n",
              "      <td>0.0</td>\n",
              "      <td>0.0</td>\n",
              "      <td>0.0</td>\n",
              "      <td>0.0</td>\n",
              "      <td>0.0</td>\n",
              "      <td>0.0</td>\n",
              "      <td>0.0</td>\n",
              "      <td>0.0</td>\n",
              "      <td>0.0</td>\n",
              "    </tr>\n",
              "    <tr>\n",
              "      <th>4</th>\n",
              "      <td>0.0</td>\n",
              "      <td>0.0</td>\n",
              "      <td>0.0</td>\n",
              "      <td>0.0</td>\n",
              "      <td>0.0</td>\n",
              "      <td>0.0</td>\n",
              "      <td>0.0</td>\n",
              "      <td>0.0</td>\n",
              "      <td>0.0</td>\n",
              "      <td>0.0</td>\n",
              "      <td>0.0</td>\n",
              "      <td>0.0</td>\n",
              "      <td>0.0</td>\n",
              "      <td>0.0</td>\n",
              "      <td>0.0</td>\n",
              "      <td>0.0</td>\n",
              "      <td>0.0</td>\n",
              "      <td>0.0</td>\n",
              "      <td>0.0</td>\n",
              "      <td>0.0</td>\n",
              "      <td>0.0</td>\n",
              "      <td>0.0</td>\n",
              "      <td>0.0</td>\n",
              "      <td>0.0</td>\n",
              "      <td>0.0</td>\n",
              "      <td>0.0</td>\n",
              "      <td>0.0</td>\n",
              "      <td>0.0</td>\n",
              "      <td>0.0</td>\n",
              "      <td>0.0</td>\n",
              "      <td>1.333333</td>\n",
              "      <td>1.0</td>\n",
              "      <td>1.000000</td>\n",
              "      <td>1.0</td>\n",
              "      <td>0.0</td>\n",
              "      <td>0.000000</td>\n",
              "      <td>0.0</td>\n",
              "      <td>1.0</td>\n",
              "      <td>0.0</td>\n",
              "      <td>0.0</td>\n",
              "      <td>...</td>\n",
              "      <td>0.0</td>\n",
              "      <td>0.0</td>\n",
              "      <td>0.0</td>\n",
              "      <td>0.0</td>\n",
              "      <td>0.0</td>\n",
              "      <td>0.000000</td>\n",
              "      <td>0.0</td>\n",
              "      <td>0.0</td>\n",
              "      <td>0.0</td>\n",
              "      <td>0.0</td>\n",
              "      <td>0.0</td>\n",
              "      <td>0.0</td>\n",
              "      <td>0.0</td>\n",
              "      <td>0.0</td>\n",
              "      <td>0.0</td>\n",
              "      <td>0.0</td>\n",
              "      <td>0.0</td>\n",
              "      <td>0.0</td>\n",
              "      <td>0.0</td>\n",
              "      <td>0.0</td>\n",
              "      <td>0.0</td>\n",
              "      <td>0.0</td>\n",
              "      <td>1.0</td>\n",
              "      <td>0.0</td>\n",
              "      <td>1.0</td>\n",
              "      <td>0.0</td>\n",
              "      <td>0.0</td>\n",
              "      <td>0.0</td>\n",
              "      <td>0.0</td>\n",
              "      <td>0.0</td>\n",
              "      <td>0.0</td>\n",
              "      <td>0.0</td>\n",
              "      <td>0.0</td>\n",
              "      <td>0.0</td>\n",
              "      <td>0.0</td>\n",
              "      <td>0.0</td>\n",
              "      <td>0.0</td>\n",
              "      <td>0.0</td>\n",
              "      <td>0.0</td>\n",
              "      <td>0.0</td>\n",
              "    </tr>\n",
              "    <tr>\n",
              "      <th>5</th>\n",
              "      <td>0.0</td>\n",
              "      <td>0.0</td>\n",
              "      <td>0.0</td>\n",
              "      <td>0.0</td>\n",
              "      <td>0.0</td>\n",
              "      <td>0.0</td>\n",
              "      <td>0.0</td>\n",
              "      <td>0.0</td>\n",
              "      <td>0.0</td>\n",
              "      <td>0.0</td>\n",
              "      <td>0.0</td>\n",
              "      <td>0.0</td>\n",
              "      <td>0.0</td>\n",
              "      <td>0.0</td>\n",
              "      <td>0.0</td>\n",
              "      <td>0.0</td>\n",
              "      <td>0.0</td>\n",
              "      <td>0.0</td>\n",
              "      <td>0.0</td>\n",
              "      <td>0.0</td>\n",
              "      <td>0.0</td>\n",
              "      <td>0.0</td>\n",
              "      <td>0.0</td>\n",
              "      <td>0.0</td>\n",
              "      <td>0.0</td>\n",
              "      <td>0.0</td>\n",
              "      <td>0.0</td>\n",
              "      <td>0.0</td>\n",
              "      <td>1.0</td>\n",
              "      <td>0.0</td>\n",
              "      <td>1.000000</td>\n",
              "      <td>0.0</td>\n",
              "      <td>1.000000</td>\n",
              "      <td>0.0</td>\n",
              "      <td>1.0</td>\n",
              "      <td>0.000000</td>\n",
              "      <td>1.0</td>\n",
              "      <td>0.0</td>\n",
              "      <td>0.0</td>\n",
              "      <td>0.0</td>\n",
              "      <td>...</td>\n",
              "      <td>0.0</td>\n",
              "      <td>0.0</td>\n",
              "      <td>0.0</td>\n",
              "      <td>0.0</td>\n",
              "      <td>0.0</td>\n",
              "      <td>0.000000</td>\n",
              "      <td>0.0</td>\n",
              "      <td>0.0</td>\n",
              "      <td>0.0</td>\n",
              "      <td>0.0</td>\n",
              "      <td>0.0</td>\n",
              "      <td>0.0</td>\n",
              "      <td>0.0</td>\n",
              "      <td>0.0</td>\n",
              "      <td>0.0</td>\n",
              "      <td>0.0</td>\n",
              "      <td>0.0</td>\n",
              "      <td>0.0</td>\n",
              "      <td>0.0</td>\n",
              "      <td>0.0</td>\n",
              "      <td>0.0</td>\n",
              "      <td>0.0</td>\n",
              "      <td>1.0</td>\n",
              "      <td>0.0</td>\n",
              "      <td>0.0</td>\n",
              "      <td>1.0</td>\n",
              "      <td>0.0</td>\n",
              "      <td>0.0</td>\n",
              "      <td>0.0</td>\n",
              "      <td>0.0</td>\n",
              "      <td>1.0</td>\n",
              "      <td>0.0</td>\n",
              "      <td>0.0</td>\n",
              "      <td>0.0</td>\n",
              "      <td>0.0</td>\n",
              "      <td>0.0</td>\n",
              "      <td>0.0</td>\n",
              "      <td>0.0</td>\n",
              "      <td>0.0</td>\n",
              "      <td>0.0</td>\n",
              "    </tr>\n",
              "  </tbody>\n",
              "</table>\n",
              "<p>5 rows × 21806 columns</p>\n",
              "</div>"
            ],
            "text/plain": [
              "item_id  0      1      2      3      4      ...  22165  22166  22167  22168  22169\n",
              "day                                         ...                                   \n",
              "1          0.0    0.0    0.0    0.0    0.0  ...    0.0    0.0    0.0    0.0    0.0\n",
              "2          0.0    0.0    0.0    0.0    0.0  ...    0.0    0.0    0.0    0.0    0.0\n",
              "3          0.0    0.0    0.0    0.0    0.0  ...    0.0    0.0    0.0    0.0    0.0\n",
              "4          0.0    0.0    0.0    0.0    0.0  ...    0.0    0.0    0.0    0.0    0.0\n",
              "5          0.0    0.0    0.0    0.0    0.0  ...    0.0    0.0    0.0    0.0    0.0\n",
              "\n",
              "[5 rows x 21806 columns]"
            ]
          },
          "metadata": {
            "tags": []
          },
          "execution_count": 56
        }
      ]
    },
    {
      "cell_type": "code",
      "metadata": {
        "id": "SYr1HT2nGXOO"
      },
      "source": [
        "# Recommendation engine - find the closest matches to an item in terms of daily sales\n",
        "# Similar to finding similar movies based on movie rating\n",
        "\n",
        "#Select a popular item\n",
        "selected_item = 2808"
      ],
      "execution_count": null,
      "outputs": []
    },
    {
      "cell_type": "code",
      "metadata": {
        "id": "kp9PZsfWGd6c"
      },
      "source": [
        "#Pull out the column of that day's sales\n",
        "selected_item_sales = sales_totals_by_day_transposed[selected_item]"
      ],
      "execution_count": null,
      "outputs": []
    },
    {
      "cell_type": "code",
      "metadata": {
        "id": "PG2LdGkoGhsE"
      },
      "source": [
        "#Run correlation with every other column to find similar sales patterns\n",
        "similarItems = sales_totals_by_day_transposed.corrwith(selected_item_sales)"
      ],
      "execution_count": null,
      "outputs": []
    },
    {
      "cell_type": "code",
      "metadata": {
        "id": "yK2VKoiAGk9f"
      },
      "source": [
        "#Convert from a series to a DF\n",
        "similarItems_df = pd.DataFrame(similarItems)"
      ],
      "execution_count": null,
      "outputs": []
    },
    {
      "cell_type": "code",
      "metadata": {
        "id": "DRHV_bUZGpID",
        "colab": {
          "base_uri": "https://localhost:8080/"
        },
        "outputId": "68cccfa9-d1fa-41fc-d1ac-f0143215062a"
      },
      "source": [
        "similarItems_df.head()"
      ],
      "execution_count": null,
      "outputs": [
        {
          "output_type": "execute_result",
          "data": {
            "text/html": [
              "<div>\n",
              "<style scoped>\n",
              "    .dataframe tbody tr th:only-of-type {\n",
              "        vertical-align: middle;\n",
              "    }\n",
              "\n",
              "    .dataframe tbody tr th {\n",
              "        vertical-align: top;\n",
              "    }\n",
              "\n",
              "    .dataframe thead th {\n",
              "        text-align: right;\n",
              "    }\n",
              "</style>\n",
              "<table border=\"1\" class=\"dataframe\">\n",
              "  <thead>\n",
              "    <tr style=\"text-align: right;\">\n",
              "      <th></th>\n",
              "      <th>0</th>\n",
              "    </tr>\n",
              "    <tr>\n",
              "      <th>item_id</th>\n",
              "      <th></th>\n",
              "    </tr>\n",
              "  </thead>\n",
              "  <tbody>\n",
              "    <tr>\n",
              "      <th>0</th>\n",
              "      <td>-0.005647</td>\n",
              "    </tr>\n",
              "    <tr>\n",
              "      <th>1</th>\n",
              "      <td>-0.019637</td>\n",
              "    </tr>\n",
              "    <tr>\n",
              "      <th>2</th>\n",
              "      <td>-0.011574</td>\n",
              "    </tr>\n",
              "    <tr>\n",
              "      <th>3</th>\n",
              "      <td>-0.005914</td>\n",
              "    </tr>\n",
              "    <tr>\n",
              "      <th>4</th>\n",
              "      <td>-0.008847</td>\n",
              "    </tr>\n",
              "  </tbody>\n",
              "</table>\n",
              "</div>"
            ],
            "text/plain": [
              "                0\n",
              "item_id          \n",
              "0       -0.005647\n",
              "1       -0.019637\n",
              "2       -0.011574\n",
              "3       -0.005914\n",
              "4       -0.008847"
            ]
          },
          "metadata": {
            "tags": []
          },
          "execution_count": 61
        }
      ]
    },
    {
      "cell_type": "code",
      "metadata": {
        "id": "gnx0ETi9Gsg5"
      },
      "source": [
        "#Rename columns\n",
        "similarItems_df.columns=['similarity']"
      ],
      "execution_count": null,
      "outputs": []
    },
    {
      "cell_type": "code",
      "metadata": {
        "id": "tgPgvfqFGvcE",
        "colab": {
          "base_uri": "https://localhost:8080/"
        },
        "outputId": "8668e0fb-e8e7-4da7-8609-81926fef6619"
      },
      "source": [
        "similarItems_df.head()"
      ],
      "execution_count": null,
      "outputs": [
        {
          "output_type": "execute_result",
          "data": {
            "text/html": [
              "<div>\n",
              "<style scoped>\n",
              "    .dataframe tbody tr th:only-of-type {\n",
              "        vertical-align: middle;\n",
              "    }\n",
              "\n",
              "    .dataframe tbody tr th {\n",
              "        vertical-align: top;\n",
              "    }\n",
              "\n",
              "    .dataframe thead th {\n",
              "        text-align: right;\n",
              "    }\n",
              "</style>\n",
              "<table border=\"1\" class=\"dataframe\">\n",
              "  <thead>\n",
              "    <tr style=\"text-align: right;\">\n",
              "      <th></th>\n",
              "      <th>similarity</th>\n",
              "    </tr>\n",
              "    <tr>\n",
              "      <th>item_id</th>\n",
              "      <th></th>\n",
              "    </tr>\n",
              "  </thead>\n",
              "  <tbody>\n",
              "    <tr>\n",
              "      <th>0</th>\n",
              "      <td>-0.005647</td>\n",
              "    </tr>\n",
              "    <tr>\n",
              "      <th>1</th>\n",
              "      <td>-0.019637</td>\n",
              "    </tr>\n",
              "    <tr>\n",
              "      <th>2</th>\n",
              "      <td>-0.011574</td>\n",
              "    </tr>\n",
              "    <tr>\n",
              "      <th>3</th>\n",
              "      <td>-0.005914</td>\n",
              "    </tr>\n",
              "    <tr>\n",
              "      <th>4</th>\n",
              "      <td>-0.008847</td>\n",
              "    </tr>\n",
              "  </tbody>\n",
              "</table>\n",
              "</div>"
            ],
            "text/plain": [
              "         similarity\n",
              "item_id            \n",
              "0         -0.005647\n",
              "1         -0.019637\n",
              "2         -0.011574\n",
              "3         -0.005914\n",
              "4         -0.008847"
            ]
          },
          "metadata": {
            "tags": []
          },
          "execution_count": 63
        }
      ]
    },
    {
      "cell_type": "code",
      "metadata": {
        "id": "hKcstmtOGyel"
      },
      "source": [
        "#Merge back item names\n",
        "similarItems_df=similarItems_df.merge(items_df[['item_name','item_id']],left_index=True,right_on='item_id')"
      ],
      "execution_count": null,
      "outputs": []
    },
    {
      "cell_type": "code",
      "metadata": {
        "id": "OsvnieMlG2bR"
      },
      "source": [
        "#Sort\n",
        "similarItems_df_sorted=similarItems_df.sort_values(by='similarity',ascending=False)"
      ],
      "execution_count": null,
      "outputs": []
    },
    {
      "cell_type": "code",
      "metadata": {
        "id": "8HM_oJ7AG5u-",
        "colab": {
          "base_uri": "https://localhost:8080/"
        },
        "outputId": "09b4dba6-136d-4e10-a7ca-54b73347db07"
      },
      "source": [
        "#The top results for item 2808 seem to make some sense (games), but they also include programming books and other things-inconclusive?\n",
        "similarItems_df_sorted.head(20)"
      ],
      "execution_count": null,
      "outputs": [
        {
          "output_type": "execute_result",
          "data": {
            "text/html": [
              "<div>\n",
              "<style scoped>\n",
              "    .dataframe tbody tr th:only-of-type {\n",
              "        vertical-align: middle;\n",
              "    }\n",
              "\n",
              "    .dataframe tbody tr th {\n",
              "        vertical-align: top;\n",
              "    }\n",
              "\n",
              "    .dataframe thead th {\n",
              "        text-align: right;\n",
              "    }\n",
              "</style>\n",
              "<table border=\"1\" class=\"dataframe\">\n",
              "  <thead>\n",
              "    <tr style=\"text-align: right;\">\n",
              "      <th></th>\n",
              "      <th>similarity</th>\n",
              "      <th>item_name</th>\n",
              "      <th>item_id</th>\n",
              "    </tr>\n",
              "  </thead>\n",
              "  <tbody>\n",
              "    <tr>\n",
              "      <th>2808</th>\n",
              "      <td>1.000000</td>\n",
              "      <td>Diablo III [PC, Jewel, Russian version]</td>\n",
              "      <td>2808</td>\n",
              "    </tr>\n",
              "    <tr>\n",
              "      <th>10956</th>\n",
              "      <td>0.489434</td>\n",
              "      <td>Django Unchained</td>\n",
              "      <td>10956</td>\n",
              "    </tr>\n",
              "    <tr>\n",
              "      <th>19149</th>\n",
              "      <td>0.477112</td>\n",
              "      <td>Stukachev (Paradis)</td>\n",
              "      <td>19149</td>\n",
              "    </tr>\n",
              "    <tr>\n",
              "      <th>7100</th>\n",
              "      <td>0.445205</td>\n",
              "      <td>Total War: Rome II (Pre-Order) [PC, Digital Ve...</td>\n",
              "      <td>7100</td>\n",
              "    </tr>\n",
              "    <tr>\n",
              "      <th>12571</th>\n",
              "      <td>0.423180</td>\n",
              "      <td>Fight fire</td>\n",
              "      <td>12571</td>\n",
              "    </tr>\n",
              "    <tr>\n",
              "      <th>13809</th>\n",
              "      <td>0.420981</td>\n",
              "      <td>LEGEND ? 17 (BD + DVD) + BD bouncer</td>\n",
              "      <td>13809</td>\n",
              "    </tr>\n",
              "    <tr>\n",
              "      <th>1476</th>\n",
              "      <td>0.416799</td>\n",
              "      <td>Assassin's Creed 3. Washington [PC, Russian ve...</td>\n",
              "      <td>1476</td>\n",
              "    </tr>\n",
              "    <tr>\n",
              "      <th>16900</th>\n",
              "      <td>0.414021</td>\n",
              "      <td>PARKER</td>\n",
              "      <td>16900</td>\n",
              "    </tr>\n",
              "    <tr>\n",
              "      <th>19529</th>\n",
              "      <td>0.411316</td>\n",
              "      <td>Timeless. RUBY BOOK</td>\n",
              "      <td>19529</td>\n",
              "    </tr>\n",
              "    <tr>\n",
              "      <th>14429</th>\n",
              "      <td>0.403746</td>\n",
              "      <td>MASHA AND THE BEAR. GROWTH VITAMIN</td>\n",
              "      <td>14429</td>\n",
              "    </tr>\n",
              "    <tr>\n",
              "      <th>16736</th>\n",
              "      <td>0.400455</td>\n",
              "      <td>Gangster Squad</td>\n",
              "      <td>16736</td>\n",
              "    </tr>\n",
              "    <tr>\n",
              "      <th>7250</th>\n",
              "      <td>0.393255</td>\n",
              "      <td>V / A A State Of Trance The Expidition Episode...</td>\n",
              "      <td>7250</td>\n",
              "    </tr>\n",
              "    <tr>\n",
              "      <th>12816</th>\n",
              "      <td>0.390968</td>\n",
              "      <td>Monsters, Inc. (BD + DVD)</td>\n",
              "      <td>12816</td>\n",
              "    </tr>\n",
              "    <tr>\n",
              "      <th>227</th>\n",
              "      <td>0.382306</td>\n",
              "      <td>1C: Audiobooks. Detectives on the road. Russia...</td>\n",
              "      <td>227</td>\n",
              "    </tr>\n",
              "    <tr>\n",
              "      <th>5686</th>\n",
              "      <td>0.377285</td>\n",
              "      <td>Painkiller. Absolute evil [PC, Jewel, Russian ...</td>\n",
              "      <td>5686</td>\n",
              "    </tr>\n",
              "    <tr>\n",
              "      <th>12908</th>\n",
              "      <td>0.376738</td>\n",
              "      <td>Die Hard: A good day to die</td>\n",
              "      <td>12908</td>\n",
              "    </tr>\n",
              "    <tr>\n",
              "      <th>3738</th>\n",
              "      <td>0.374792</td>\n",
              "      <td>Grand Theft Auto V. The set pre-order [PS3]</td>\n",
              "      <td>3738</td>\n",
              "    </tr>\n",
              "    <tr>\n",
              "      <th>13013</th>\n",
              "      <td>0.373959</td>\n",
              "      <td>KU! KIN-DZA-DZA</td>\n",
              "      <td>13013</td>\n",
              "    </tr>\n",
              "    <tr>\n",
              "      <th>3739</th>\n",
              "      <td>0.371408</td>\n",
              "      <td>Grand Theft Auto V. The set pre-order [Xbox 360]</td>\n",
              "      <td>3739</td>\n",
              "    </tr>\n",
              "    <tr>\n",
              "      <th>20298</th>\n",
              "      <td>0.370306</td>\n",
              "      <td>FAST AND THE FURIOUS 5</td>\n",
              "      <td>20298</td>\n",
              "    </tr>\n",
              "  </tbody>\n",
              "</table>\n",
              "</div>"
            ],
            "text/plain": [
              "       similarity                                          item_name  item_id\n",
              "2808     1.000000            Diablo III [PC, Jewel, Russian version]     2808\n",
              "10956    0.489434                                   Django Unchained    10956\n",
              "19149    0.477112                                Stukachev (Paradis)    19149\n",
              "7100     0.445205  Total War: Rome II (Pre-Order) [PC, Digital Ve...     7100\n",
              "12571    0.423180                                         Fight fire    12571\n",
              "13809    0.420981                LEGEND ? 17 (BD + DVD) + BD bouncer    13809\n",
              "1476     0.416799  Assassin's Creed 3. Washington [PC, Russian ve...     1476\n",
              "16900    0.414021                                             PARKER    16900\n",
              "19529    0.411316                                Timeless. RUBY BOOK    19529\n",
              "14429    0.403746                 MASHA AND THE BEAR. GROWTH VITAMIN    14429\n",
              "16736    0.400455                                     Gangster Squad    16736\n",
              "7250     0.393255  V / A A State Of Trance The Expidition Episode...     7250\n",
              "12816    0.390968                          Monsters, Inc. (BD + DVD)    12816\n",
              "227      0.382306  1C: Audiobooks. Detectives on the road. Russia...      227\n",
              "5686     0.377285  Painkiller. Absolute evil [PC, Jewel, Russian ...     5686\n",
              "12908    0.376738                        Die Hard: A good day to die    12908\n",
              "3738     0.374792        Grand Theft Auto V. The set pre-order [PS3]     3738\n",
              "13013    0.373959                                    KU! KIN-DZA-DZA    13013\n",
              "3739     0.371408   Grand Theft Auto V. The set pre-order [Xbox 360]     3739\n",
              "20298    0.370306                             FAST AND THE FURIOUS 5    20298"
            ]
          },
          "metadata": {
            "tags": []
          },
          "execution_count": 66
        }
      ]
    },
    {
      "cell_type": "code",
      "metadata": {
        "id": "V6lqZ6_wG9gP"
      },
      "source": [
        "#Function to return the values:\n",
        "\n",
        "def find_similar_based_on_daily_sales(selected_item,sales_totals_by_day_transposed=sales_totals_by_day_transposed):\n",
        "    selected_item_sales=sales_totals_by_day_transposed[selected_item]\n",
        "    similarItems = sales_totals_by_day_transposed.corrwith(selected_item_sales)\n",
        "    similarItems_df=pd.DataFrame(similarItems)\n",
        "    similarItems_df.columns=['similarity']\n",
        "    similarItems_df=similarItems_df.merge(items_df[['item_name','item_id']],left_index=True,right_on='item_id')\n",
        "    similarItems_df_sorted=similarItems_df.sort_values(by='similarity',ascending=False)\n",
        "    print(similarItems_df_sorted.head(20))"
      ],
      "execution_count": null,
      "outputs": []
    },
    {
      "cell_type": "code",
      "metadata": {
        "id": "u_lBhDouHBSe",
        "colab": {
          "base_uri": "https://localhost:8080/"
        },
        "outputId": "a0762071-a406-43c4-ce51-36e5305446d3"
      },
      "source": [
        "find_similar_based_on_daily_sales(2808)"
      ],
      "execution_count": null,
      "outputs": [
        {
          "output_type": "stream",
          "text": [
            "       similarity                                          item_name  item_id\n",
            "2808     1.000000            Diablo III [PC, Jewel, Russian version]     2808\n",
            "10956    0.489434                                   Django Unchained    10956\n",
            "19149    0.477112                                Stukachev (Paradis)    19149\n",
            "7100     0.445205  Total War: Rome II (Pre-Order) [PC, Digital Ve...     7100\n",
            "12571    0.423180                                         Fight fire    12571\n",
            "13809    0.420981                LEGEND ? 17 (BD + DVD) + BD bouncer    13809\n",
            "1476     0.416799  Assassin's Creed 3. Washington [PC, Russian ve...     1476\n",
            "16900    0.414021                                             PARKER    16900\n",
            "19529    0.411316                                Timeless. RUBY BOOK    19529\n",
            "14429    0.403746                 MASHA AND THE BEAR. GROWTH VITAMIN    14429\n",
            "16736    0.400455                                     Gangster Squad    16736\n",
            "7250     0.393255  V / A A State Of Trance The Expidition Episode...     7250\n",
            "12816    0.390968                          Monsters, Inc. (BD + DVD)    12816\n",
            "227      0.382306  1C: Audiobooks. Detectives on the road. Russia...      227\n",
            "5686     0.377285  Painkiller. Absolute evil [PC, Jewel, Russian ...     5686\n",
            "12908    0.376738                        Die Hard: A good day to die    12908\n",
            "3738     0.374792        Grand Theft Auto V. The set pre-order [PS3]     3738\n",
            "13013    0.373959                                    KU! KIN-DZA-DZA    13013\n",
            "3739     0.371408   Grand Theft Auto V. The set pre-order [Xbox 360]     3739\n",
            "20298    0.370306                             FAST AND THE FURIOUS 5    20298\n"
          ],
          "name": "stdout"
        }
      ]
    },
    {
      "cell_type": "code",
      "metadata": {
        "id": "UFqJ3ofRHEze",
        "colab": {
          "base_uri": "https://localhost:8080/"
        },
        "outputId": "33463218-b2e9-482e-97bf-dcac101c70a3"
      },
      "source": [
        "#What is similar to those corporate T-shirts?\n",
        "find_similar_based_on_daily_sales(20949)"
      ],
      "execution_count": null,
      "outputs": [
        {
          "output_type": "stream",
          "text": [
            "       similarity                                          item_name  item_id\n",
            "20949    1.000000  Corporate package white shirt 1C Interest (34 ...    20949\n",
            "4870     0.516483              Minecraft [Xbox 360, English version]     4870\n",
            "972      0.486718        30 SECONDS TO MARS Love Lust Faith + Dreams      972\n",
            "6498     0.484754  Sims 3: Island Paradise (addition) [PC, Russia...     6498\n",
            "16169    0.469863  Board game Mafia whole family assembly (card g...    16169\n",
            "15063    0.465117  Might and Magic. Heroes 6. The Edge of Darknes...    15063\n",
            "21377    0.462729         The Hobbit: An Unexpected Journey (region)    21377\n",
            "3183     0.449242  Elder Scrolls V: Skyrim Legendary Edition [PC,...     3183\n",
            "20947    0.426141  Phineas and Ferb. Conquest of the second measu...    20947\n",
            "6084     0.408180              Rayman Legends [PS3, Russian version]     6084\n",
            "17754    0.408138  Journey. Collector's Edition [PS3, Russian doc...    17754\n",
            "8686     0.407217                                            BASTA 4     8686\n",
            "2458     0.400580                   DAFT PUNK Random Access Memories     2458\n",
            "4181     0.399154  Kaspersky Internet Security Multi-Device Russi...     4181\n",
            "15064    0.398752  Might and Magic. 6. Heroes Gold Edition [PC, R...    15064\n",
            "17709    0.395620  Festival of Sport 2 (only for PS Move) (Essent...    17709\n",
            "21487    0.391181                      Teddy Hamster speaker (Brown)    21487\n",
            "16540    0.389925                          Okean Elzy Earth (firms).    16540\n",
            "3475     0.389020                         Fight Night Champion [PS3]     3475\n",
            "16057    0.387835                                    Board game Ruff    16057\n"
          ],
          "name": "stdout"
        }
      ]
    },
    {
      "cell_type": "code",
      "metadata": {
        "id": "PnVK8ybLHMNA",
        "colab": {
          "base_uri": "https://localhost:8080/"
        },
        "outputId": "6d13d2a1-951d-451e-b00c-98b38f2c0ada"
      },
      "source": [
        "#What is similar to minecraft?\n",
        "find_similar_based_on_daily_sales(4870)"
      ],
      "execution_count": null,
      "outputs": [
        {
          "output_type": "stream",
          "text": [
            "       similarity                                          item_name  item_id\n",
            "4870     1.000000              Minecraft [Xbox 360, English version]     4870\n",
            "4181     0.698090  Kaspersky Internet Security Multi-Device Russi...     4181\n",
            "4178     0.658616  Kaspersky Internet Security Multi-Device Russi...     4178\n",
            "3423     0.564589   Far Cry 3 (Classics) [Xbox 360, Russian version]     3423\n",
            "21377    0.544731         The Hobbit: An Unexpected Journey (region)    21377\n",
            "10659    0.541108  Puzzle Rubik's Cube 3x3 without labels, soft m...    10659\n",
            "6498     0.525330  Sims 3: Island Paradise (addition) [PC, Russia...     6498\n",
            "20949    0.516483  Corporate package white shirt 1C Interest (34 ...    20949\n",
            "4904     0.515135  Mortal Kombat. Komplete Edition [PC, Jewel, Ru...     4904\n",
            "10292    0.512199                                      DESPICABLE ME    10292\n",
            "3183     0.509814  Elder Scrolls V: Skyrim Legendary Edition [PC,...     3183\n",
            "6497     0.486503    Sims 3: Set for beginners [PC, Russian version]     6497\n",
            "16056    0.484732            Table game World of Tanks Rush art.1123    16056\n",
            "4351     0.475363  LEGO Marvel Super Heroes [PC, Jewel, Russian s...     4351\n",
            "3335     0.471836                 FIFA 14 [Xbox 360 Russian version]     3335\n",
            "14227    0.466138  The best games for children. LEGO. Pirates of ...    14227\n",
            "11811    0.460874  The Outer Limits: Two Souls [PS3, Russian vers...    11811\n",
            "1483     0.460711  Assassin's Creed III (Classics) [Xbox 360 Russ...     1483\n",
            "3475     0.458543                         Fight Night Champion [PS3]     3475\n",
            "10298    0.454426                                    DESPICABLE ME 2    10298\n"
          ],
          "name": "stdout"
        }
      ]
    },
    {
      "cell_type": "code",
      "metadata": {
        "id": "TVhvqxxgHUKd",
        "colab": {
          "base_uri": "https://localhost:8080/"
        },
        "outputId": "281c3f7a-d85d-44a4-cef6-68874a644fbd"
      },
      "source": [
        "#This item averaged 5 sales per day, max of 35, so it wasn't distorted by one overwhelmingly high corporate order\n",
        "sales_totals_by_day_transposed[20949].describe()"
      ],
      "execution_count": null,
      "outputs": [
        {
          "output_type": "execute_result",
          "data": {
            "text/plain": [
              "count    1034.000000\n",
              "mean        5.068981\n",
              "std         3.144437\n",
              "min         0.000000\n",
              "25%         3.670000\n",
              "50%         4.690981\n",
              "75%         6.367225\n",
              "max        26.093023\n",
              "Name: 20949, dtype: float64"
            ]
          },
          "metadata": {
            "tags": []
          },
          "execution_count": 71
        }
      ]
    },
    {
      "cell_type": "markdown",
      "metadata": {
        "id": "jKVDe7cmG5wH"
      },
      "source": [
        "## Rolling window K-fold cross-validation"
      ]
    },
    {
      "cell_type": "code",
      "metadata": {
        "id": "K1PZjrYqLL3H",
        "colab": {
          "base_uri": "https://localhost:8080/"
        },
        "outputId": "495205e7-4c34-4aa9-97f5-9f4b4106bda1"
      },
      "source": [
        "salestrain_df_combined.columns"
      ],
      "execution_count": null,
      "outputs": [
        {
          "output_type": "execute_result",
          "data": {
            "text/plain": [
              "Index(['date', 'date_block_num', 'shop_id', 'item_id', 'item_price',\n",
              "       'item_cnt_day', 'item_name', 'item_category_id', 'item_category_name',\n",
              "       'shop_name', 'year', 'month', 'day', 'revenue'],\n",
              "      dtype='object')"
            ]
          },
          "metadata": {
            "tags": []
          },
          "execution_count": 72
        }
      ]
    },
    {
      "cell_type": "code",
      "metadata": {
        "id": "mI3YIdocOH1e"
      },
      "source": [
        "# setting X as date col and y as revenue col to be split\n",
        "X = salestrain_df_combined['date']\n",
        "y = salestrain_df_combined['revenue']"
      ],
      "execution_count": null,
      "outputs": []
    },
    {
      "cell_type": "code",
      "metadata": {
        "id": "_CiMrixpKjhM"
      },
      "source": [
        "# creating the time series split, one split for every month in the year\n",
        "tscv = TimeSeriesSplit(n_splits = 12)"
      ],
      "execution_count": null,
      "outputs": []
    },
    {
      "cell_type": "code",
      "metadata": {
        "id": "WXSW46VaL7g8",
        "colab": {
          "base_uri": "https://localhost:8080/"
        },
        "outputId": "e4b8cf71-1831-46de-c9ea-e6fe65025576"
      },
      "source": [
        "# looping through every time series split \n",
        "for train_index, test_index in tscv.split(X):\n",
        "  print(f'TRAIN SHAPE: {train_index.shape} TEST SHAPE: {test_index.shape}')\n",
        "    \n",
        "  #X_train, X_test = X[train_index], X[test_index]\n",
        "  #y_train, y_test = y[train_index], y[train_index]"
      ],
      "execution_count": null,
      "outputs": [
        {
          "output_type": "stream",
          "text": [
            "TRAIN SHAPE: (225838,) TEST SHAPE: (225834,)\n",
            "TRAIN SHAPE: (451672,) TEST SHAPE: (225834,)\n",
            "TRAIN SHAPE: (677506,) TEST SHAPE: (225834,)\n",
            "TRAIN SHAPE: (903340,) TEST SHAPE: (225834,)\n",
            "TRAIN SHAPE: (1129174,) TEST SHAPE: (225834,)\n",
            "TRAIN SHAPE: (1355008,) TEST SHAPE: (225834,)\n",
            "TRAIN SHAPE: (1580842,) TEST SHAPE: (225834,)\n",
            "TRAIN SHAPE: (1806676,) TEST SHAPE: (225834,)\n",
            "TRAIN SHAPE: (2032510,) TEST SHAPE: (225834,)\n",
            "TRAIN SHAPE: (2258344,) TEST SHAPE: (225834,)\n",
            "TRAIN SHAPE: (2484178,) TEST SHAPE: (225834,)\n",
            "TRAIN SHAPE: (2710012,) TEST SHAPE: (225834,)\n"
          ],
          "name": "stdout"
        }
      ]
    },
    {
      "cell_type": "markdown",
      "metadata": {
        "id": "O6TAj7fUryKg"
      },
      "source": [
        "## Removing features with low variance"
      ]
    },
    {
      "cell_type": "code",
      "metadata": {
        "id": "U4ivXmd-2x5T",
        "colab": {
          "base_uri": "https://localhost:8080/"
        },
        "outputId": "08cf654d-8104-4348-e546-3df648443b18"
      },
      "source": [
        "salestrain_df_combined.columns"
      ],
      "execution_count": null,
      "outputs": [
        {
          "output_type": "execute_result",
          "data": {
            "text/plain": [
              "Index(['date', 'date_block_num', 'shop_id', 'item_id', 'item_price',\n",
              "       'item_cnt_day', 'item_name', 'item_category_id', 'item_category_name',\n",
              "       'shop_name', 'year', 'month', 'day', 'revenue'],\n",
              "      dtype='object')"
            ]
          },
          "metadata": {
            "tags": []
          },
          "execution_count": 76
        }
      ]
    },
    {
      "cell_type": "code",
      "metadata": {
        "id": "AsjTfbrl2UIe"
      },
      "source": [
        "train_set = salestrain_df_combined.drop(columns = ['revenue'])"
      ],
      "execution_count": null,
      "outputs": []
    },
    {
      "cell_type": "code",
      "metadata": {
        "id": "D7tGpOca4V3a"
      },
      "source": [
        "# mapping date col to ordinal for use with VarianceThreshold\n",
        "train_set['date'] = train_set['date'].map(dt.datetime.toordinal)"
      ],
      "execution_count": null,
      "outputs": []
    },
    {
      "cell_type": "code",
      "metadata": {
        "id": "cmXty02xZTXk"
      },
      "source": [
        "for col in ['item_name', 'item_category_name', 'shop_name']:\n",
        "   train_set[col] = LabelEncoder().fit_transform(train_set[col])"
      ],
      "execution_count": null,
      "outputs": []
    },
    {
      "cell_type": "code",
      "metadata": {
        "id": "tCA_TBnX28L-"
      },
      "source": [
        "test_set = salestrain_df_combined['revenue']"
      ],
      "execution_count": null,
      "outputs": []
    },
    {
      "cell_type": "code",
      "metadata": {
        "id": "dnKtJvYF3Ick",
        "colab": {
          "base_uri": "https://localhost:8080/"
        },
        "outputId": "b3634b83-0fa1-4331-da8f-b61852f4d2ff"
      },
      "source": [
        "train_set.dtypes"
      ],
      "execution_count": null,
      "outputs": [
        {
          "output_type": "execute_result",
          "data": {
            "text/plain": [
              "date                    int64\n",
              "date_block_num          int64\n",
              "shop_id                 int64\n",
              "item_id                 int64\n",
              "item_price            float64\n",
              "item_cnt_day            int16\n",
              "item_name               int64\n",
              "item_category_id        int64\n",
              "item_category_name      int64\n",
              "shop_name               int64\n",
              "year                    int64\n",
              "month                   int64\n",
              "day                     int64\n",
              "dtype: object"
            ]
          },
          "metadata": {
            "tags": []
          },
          "execution_count": 81
        }
      ]
    },
    {
      "cell_type": "code",
      "metadata": {
        "id": "rcQ81fFb3IpB",
        "colab": {
          "base_uri": "https://localhost:8080/"
        },
        "outputId": "44797530-eaf0-4c46-c1d2-ca934e8a54d4"
      },
      "source": [
        "test_set.shape"
      ],
      "execution_count": null,
      "outputs": [
        {
          "output_type": "execute_result",
          "data": {
            "text/plain": [
              "(2935846,)"
            ]
          },
          "metadata": {
            "tags": []
          },
          "execution_count": 82
        }
      ]
    },
    {
      "cell_type": "code",
      "metadata": {
        "id": "4AzdTXaCsUVS"
      },
      "source": [
        "# creating the Variance Threshold and setting variance to 10 -> can mess around with this number\n",
        "threshold = VarianceThreshold(threshold = 10)"
      ],
      "execution_count": null,
      "outputs": []
    },
    {
      "cell_type": "code",
      "metadata": {
        "id": "PiSFnJqHsfKE"
      },
      "source": [
        "# fit transforming variance threshold to train set\n",
        "high_variance = threshold.fit(train_set)"
      ],
      "execution_count": null,
      "outputs": []
    },
    {
      "cell_type": "code",
      "metadata": {
        "id": "qrjzkTlTlJu8",
        "colab": {
          "base_uri": "https://localhost:8080/"
        },
        "outputId": "8f0f5082-07c0-45fb-ed6c-ade11e4da35f"
      },
      "source": [
        "# seeing which cols do not have high variance\n",
        "train_set.columns[high_variance.get_support()]"
      ],
      "execution_count": null,
      "outputs": [
        {
          "output_type": "execute_result",
          "data": {
            "text/plain": [
              "Index(['date', 'date_block_num', 'shop_id', 'item_id', 'item_price',\n",
              "       'item_name', 'item_category_id', 'item_category_name', 'shop_name',\n",
              "       'month', 'day'],\n",
              "      dtype='object')"
            ]
          },
          "metadata": {
            "tags": []
          },
          "execution_count": 85
        }
      ]
    },
    {
      "cell_type": "code",
      "metadata": {
        "id": "IXytUrgIlIbO",
        "colab": {
          "base_uri": "https://localhost:8080/"
        },
        "outputId": "7145a7d6-f093-48db-91e8-bd9208e3a42a"
      },
      "source": [
        "# seeing which cols have low variance\n",
        "constant_cols = [column for column in train_set.columns if column not in train_set.columns[high_variance.get_support()]]\n",
        "print(f'The columns with low(ish) variance is: {constant_cols}')"
      ],
      "execution_count": null,
      "outputs": [
        {
          "output_type": "stream",
          "text": [
            "The columns with low(ish) variance is: ['item_cnt_day', 'year']\n"
          ],
          "name": "stdout"
        }
      ]
    },
    {
      "cell_type": "markdown",
      "metadata": {
        "id": "MgETveekchhL"
      },
      "source": [
        "All of our features have high variance, therefore they don't have to be removed."
      ]
    },
    {
      "cell_type": "markdown",
      "metadata": {
        "id": "_by84Y8SBuKb"
      },
      "source": [
        "## K-Means clustering"
      ]
    },
    {
      "cell_type": "code",
      "metadata": {
        "id": "ARJFxi8_CWGO"
      },
      "source": [
        "#salestrain_df.head()\n",
        "salestrain_df = salestrain_df.drop('date', axis=1)"
      ],
      "execution_count": null,
      "outputs": []
    },
    {
      "cell_type": "code",
      "metadata": {
        "id": "awK01tfoCYJg",
        "colab": {
          "base_uri": "https://localhost:8080/",
          "height": 359
        },
        "outputId": "ef03ad4a-b089-4663-b8e6-33a92cd843c6"
      },
      "source": [
        "salestrain_df.head(10)"
      ],
      "execution_count": null,
      "outputs": [
        {
          "output_type": "execute_result",
          "data": {
            "text/html": [
              "<div>\n",
              "<style scoped>\n",
              "    .dataframe tbody tr th:only-of-type {\n",
              "        vertical-align: middle;\n",
              "    }\n",
              "\n",
              "    .dataframe tbody tr th {\n",
              "        vertical-align: top;\n",
              "    }\n",
              "\n",
              "    .dataframe thead th {\n",
              "        text-align: right;\n",
              "    }\n",
              "</style>\n",
              "<table border=\"1\" class=\"dataframe\">\n",
              "  <thead>\n",
              "    <tr style=\"text-align: right;\">\n",
              "      <th></th>\n",
              "      <th>date_block_num</th>\n",
              "      <th>shop_id</th>\n",
              "      <th>item_id</th>\n",
              "      <th>item_price</th>\n",
              "      <th>item_cnt_day</th>\n",
              "    </tr>\n",
              "  </thead>\n",
              "  <tbody>\n",
              "    <tr>\n",
              "      <th>0</th>\n",
              "      <td>0</td>\n",
              "      <td>59</td>\n",
              "      <td>22154</td>\n",
              "      <td>999.00</td>\n",
              "      <td>1</td>\n",
              "    </tr>\n",
              "    <tr>\n",
              "      <th>1</th>\n",
              "      <td>0</td>\n",
              "      <td>25</td>\n",
              "      <td>2552</td>\n",
              "      <td>899.00</td>\n",
              "      <td>1</td>\n",
              "    </tr>\n",
              "    <tr>\n",
              "      <th>2</th>\n",
              "      <td>0</td>\n",
              "      <td>25</td>\n",
              "      <td>2552</td>\n",
              "      <td>899.00</td>\n",
              "      <td>-1</td>\n",
              "    </tr>\n",
              "    <tr>\n",
              "      <th>3</th>\n",
              "      <td>0</td>\n",
              "      <td>25</td>\n",
              "      <td>2554</td>\n",
              "      <td>1709.05</td>\n",
              "      <td>1</td>\n",
              "    </tr>\n",
              "    <tr>\n",
              "      <th>4</th>\n",
              "      <td>0</td>\n",
              "      <td>25</td>\n",
              "      <td>2555</td>\n",
              "      <td>1099.00</td>\n",
              "      <td>1</td>\n",
              "    </tr>\n",
              "    <tr>\n",
              "      <th>5</th>\n",
              "      <td>0</td>\n",
              "      <td>25</td>\n",
              "      <td>2564</td>\n",
              "      <td>349.00</td>\n",
              "      <td>1</td>\n",
              "    </tr>\n",
              "    <tr>\n",
              "      <th>6</th>\n",
              "      <td>0</td>\n",
              "      <td>25</td>\n",
              "      <td>2565</td>\n",
              "      <td>549.00</td>\n",
              "      <td>1</td>\n",
              "    </tr>\n",
              "    <tr>\n",
              "      <th>7</th>\n",
              "      <td>0</td>\n",
              "      <td>25</td>\n",
              "      <td>2572</td>\n",
              "      <td>239.00</td>\n",
              "      <td>1</td>\n",
              "    </tr>\n",
              "    <tr>\n",
              "      <th>8</th>\n",
              "      <td>0</td>\n",
              "      <td>25</td>\n",
              "      <td>2572</td>\n",
              "      <td>299.00</td>\n",
              "      <td>1</td>\n",
              "    </tr>\n",
              "    <tr>\n",
              "      <th>9</th>\n",
              "      <td>0</td>\n",
              "      <td>25</td>\n",
              "      <td>2573</td>\n",
              "      <td>299.00</td>\n",
              "      <td>3</td>\n",
              "    </tr>\n",
              "  </tbody>\n",
              "</table>\n",
              "</div>"
            ],
            "text/plain": [
              "   date_block_num  shop_id  item_id  item_price  item_cnt_day\n",
              "0               0       59    22154      999.00             1\n",
              "1               0       25     2552      899.00             1\n",
              "2               0       25     2552      899.00            -1\n",
              "3               0       25     2554     1709.05             1\n",
              "4               0       25     2555     1099.00             1\n",
              "5               0       25     2564      349.00             1\n",
              "6               0       25     2565      549.00             1\n",
              "7               0       25     2572      239.00             1\n",
              "8               0       25     2572      299.00             1\n",
              "9               0       25     2573      299.00             3"
            ]
          },
          "metadata": {
            "tags": []
          },
          "execution_count": 88
        }
      ]
    },
    {
      "cell_type": "code",
      "metadata": {
        "id": "3u3UQVVZCbAP",
        "colab": {
          "base_uri": "https://localhost:8080/"
        },
        "outputId": "ce88f072-9135-47cd-a934-88ac037061ac"
      },
      "source": [
        "# Create scaler: scaler\n",
        "scaler = StandardScaler()\n",
        "\n",
        "# Create KMeans instance: kmeans\n",
        "kmeans = KMeans(n_clusters=4)\n",
        "\n",
        "# Create pipeline: pipeline\n",
        "pipeline = make_pipeline(scaler, kmeans)\n",
        "\n",
        "# Fit the pipeline to samples\n",
        "pipeline.fit(np.array(salestrain_df))\n",
        "\n",
        "# Calculate the cluster labels: labels\n",
        "labels = pipeline.predict(salestrain_df)\n",
        "\n",
        "# Create a DataFrame with labels and prices as columns: salestrain_df\n",
        "#salestrain_df = pd.DataFrame({'item_price': item_price, 'item_cnt_day': item_cnt_day})\n",
        "\n",
        "# Create crosstab: ct\n",
        "ct = pd.crosstab(salestrain_df['item_price'], salestrain_df['item_cnt_day'])\n",
        "\n",
        "# Display ct\n",
        "print(ct.sort_values('item_price'))"
      ],
      "execution_count": null,
      "outputs": [
        {
          "output_type": "stream",
          "text": [
            "item_cnt_day  -22    -16    -9     -6     ...   637    669    1000   2169\n",
            "item_price                                ...                            \n",
            "0.0700            0      0      0      0  ...      0      0      0      0\n",
            "0.0875            0      0      0      0  ...      0      0      0      0\n",
            "0.0900            0      0      0      0  ...      0      0      0      0\n",
            "0.1000            0      0      0      0  ...      0      0      0      0\n",
            "0.2000            0      0      0      0  ...      0      0      0      0\n",
            "...             ...    ...    ...    ...  ...    ...    ...    ...    ...\n",
            "42990.0000        0      0      0      0  ...      0      0      0      0\n",
            "49782.0000        0      0      0      0  ...      0      0      0      0\n",
            "50999.0000        0      0      0      0  ...      0      0      0      0\n",
            "59200.0000        0      0      0      0  ...      0      0      0      0\n",
            "307980.0000       0      0      0      0  ...      0      0      0      0\n",
            "\n",
            "[19992 rows x 198 columns]\n"
          ],
          "name": "stdout"
        }
      ]
    },
    {
      "cell_type": "code",
      "metadata": {
        "id": "zewAZXosCzvK",
        "colab": {
          "base_uri": "https://localhost:8080/",
          "height": 594
        },
        "outputId": "a6f4db7e-4e57-47a6-f1b3-e028a12e9a83"
      },
      "source": [
        "# plotting clusters\n",
        "plt.figure(figsize=(20, 10))\n",
        "plt.plot(ct)\n",
        "plt.show()"
      ],
      "execution_count": null,
      "outputs": [
        {
          "output_type": "display_data",
          "data": {
            "image/png": "[encoded data removed]",
            "text/plain": [
              "<Figure size 1440x720 with 1 Axes>"
            ]
          },
          "metadata": {
            "tags": []
          }
        }
      ]
    },
    {
      "cell_type": "code",
      "metadata": {
        "id": "icKqBH3IBzXZ"
      },
      "source": [
        "# reshaping values to workable vector\n",
        "dfx = salestrain_df.values.reshape(1, -1)\n",
        "dfy = salestrain_df.values.reshape(1, -1)"
      ],
      "execution_count": null,
      "outputs": []
    },
    {
      "cell_type": "code",
      "metadata": {
        "id": "GFHmuApiCDoK"
      },
      "source": [
        "# WHY DELETING?\n",
        "\n",
        "# delete part 1\n",
        "#dfx = np.delete(dfx, 0)\n",
        "#dfy = np.delete(dfy, 0)"
      ],
      "execution_count": null,
      "outputs": []
    },
    {
      "cell_type": "code",
      "metadata": {
        "id": "Xe_8QVcoCDvA"
      },
      "source": [
        "# WHY DELETING?\n",
        "\n",
        "# delete part 2\n",
        "#dfx = np.delete(dfx, 1)\n",
        "#dfy = np.delete(dfy, 1)"
      ],
      "execution_count": null,
      "outputs": []
    },
    {
      "cell_type": "code",
      "metadata": {
        "id": "E-h2T_fcC3h7",
        "colab": {
          "base_uri": "https://localhost:8080/"
        },
        "outputId": "a14cc196-ef2a-4c48-93ce-51f0c91d30a0"
      },
      "source": [
        "print(f'dfx shape: {dfx.shape}')\n",
        "print(f'dfy shape: {dfy.shape}')"
      ],
      "execution_count": null,
      "outputs": [
        {
          "output_type": "stream",
          "text": [
            "dfx shape: (1, 14679245)\n",
            "dfy shape: (1, 14679245)\n"
          ],
          "name": "stdout"
        }
      ]
    },
    {
      "cell_type": "code",
      "metadata": {
        "id": "x8ht_Z5PC7lL"
      },
      "source": [
        "# setting variables train test split\n",
        "X = dfx\n",
        "y = dfy\n",
        "\n",
        "# running logistic regression baseline\n",
        "#logreg =  LogisticRegression()\n",
        "#X_train, y_train, X_test, y_test = train_test_split(X, y, test_size=0.3, random_state=42)"
      ],
      "execution_count": null,
      "outputs": []
    },
    {
      "cell_type": "code",
      "metadata": {
        "id": "bLPLECshxVxN"
      },
      "source": [
        "# checking train, test shapes\n",
        "#print(f'X_train shape: {X_train.shape}')\n",
        "#print(f'y_train shape: {y_train.shape}')\n",
        "#print(f'X_test shape: {X_test.shape}')\n",
        "#print(f'y_test shape: {y_test.shape}')"
      ],
      "execution_count": null,
      "outputs": []
    },
    {
      "cell_type": "code",
      "metadata": {
        "id": "FKNqiZsDw9np"
      },
      "source": [
        "#\n",
        "#logreg.fit(X_train, y_train)\n",
        "#y_pred =logreg.predict(X_test)\n",
        "\n",
        "#print(confusion_matrix(y_test, y_pred))\n",
        "#print(classification_report(y_test, y_pred))"
      ],
      "execution_count": null,
      "outputs": []
    },
    {
      "cell_type": "code",
      "metadata": {
        "id": "9Yaxr4kiDGys"
      },
      "source": [
        "#clf = linear_model.Lasso(alpha=0.1)\n",
        "#clf.fit(X_train, y_train)\n",
        "#clf.predict(X_test)\n",
        "#print(confusion_matrix(y_test, y_pred))\n",
        "#print(classification_report(y_test, y_pred))"
      ],
      "execution_count": null,
      "outputs": []
    },
    {
      "cell_type": "markdown",
      "metadata": {
        "id": "LErutUyxRu51"
      },
      "source": [
        "## Categorical features\n",
        "Created different datasets with OHE encoding, mean/target encoding, frequency encoding and hash encoding\n",
        "\n",
        "#### OHE\n",
        "OHE does not work, memory issue due to the fact that there are 22150 unique item names."
      ]
    },
    {
      "cell_type": "code",
      "metadata": {
        "id": "3e7vSuc3R09Q",
        "colab": {
          "base_uri": "https://localhost:8080/",
          "height": 338
        },
        "outputId": "7d96f06d-1bb3-4de6-b5a5-96cb3a231847"
      },
      "source": [
        "# item_name unique 22150 values --> colossal number of columns, not the best option since shape will be (2935846, 21787)\n",
        "cols_to_encode = ['item_category_name', 'shop_name']\n",
        "salestrain_df_ohe = salestrain_df_combined.copy()\n",
        "\n",
        "# change float64 to float16 and int64 to int16 to reduce memory usage\n",
        "salestrain_df_ohe['item_price'] = salestrain_df_ohe['item_price'].astype(np.float16)\n",
        "cols_int = salestrain_df_ohe.select_dtypes('int64').columns\n",
        "for col in cols_int:\n",
        "    salestrain_df_ohe[col] = salestrain_df_ohe[col].astype(np.int16)\n",
        "\n",
        "# OHE\n",
        "salestrain_df_ohe = pd.get_dummies(salestrain_df_ohe, prefix=['item_category_name', 'shop_name'], columns=['item_category_name', 'shop_name'], dtype=np.int16)\n",
        "\n",
        "# renaming\n",
        "item_cat_iter = 0\n",
        "shop_iter = 0\n",
        "for col in salestrain_df_ohe.columns:\n",
        "    if col.startswith('item_category_name_'):\n",
        "        salestrain_df_ohe.rename(columns={col: \"item_category_name_\" + str(item_cat_iter)}, inplace=True)\n",
        "        item_cat_iter += 1\n",
        "    if col.startswith('shop_name_'):\n",
        "        salestrain_df_ohe.rename(columns={col: \"shop_name_\" + str(shop_iter)}, inplace=True)\n",
        "        shop_iter += 1\n",
        "\n",
        "# sounds good doesn't work: too many different categories for item_name\n",
        "# cols_to_encode = ['item_name', 'item_category_name', 'shop_name']\n",
        "# for col in cols_to_encode:\n",
        "#     salestrain_df_ohe = pd.get_dummies(salestrain_df_ohe, prefix=[col], columns=[col])\n",
        "#     ohe_enc = OneHotEncoder()\n",
        "#     ohe_enc = ohe_enc.fit_transform(salestrain_df_ohe[[col]]).astype(np.int16).toarray()\n",
        "#     encoded_cols = pd.DataFrame(ohe_enc)\n",
        "#     salestrain_df_ohe = pd.concat([salestrain_df_ohe, encoded_cols], axis = 1)\n",
        "    \n",
        "salestrain_df_ohe.head()"
      ],
      "execution_count": null,
      "outputs": [
        {
          "output_type": "execute_result",
          "data": {
            "text/html": [
              "<div>\n",
              "<style scoped>\n",
              "    .dataframe tbody tr th:only-of-type {\n",
              "        vertical-align: middle;\n",
              "    }\n",
              "\n",
              "    .dataframe tbody tr th {\n",
              "        vertical-align: top;\n",
              "    }\n",
              "\n",
              "    .dataframe thead th {\n",
              "        text-align: right;\n",
              "    }\n",
              "</style>\n",
              "<table border=\"1\" class=\"dataframe\">\n",
              "  <thead>\n",
              "    <tr style=\"text-align: right;\">\n",
              "      <th></th>\n",
              "      <th>date</th>\n",
              "      <th>date_block_num</th>\n",
              "      <th>shop_id</th>\n",
              "      <th>item_id</th>\n",
              "      <th>item_price</th>\n",
              "      <th>item_cnt_day</th>\n",
              "      <th>item_name</th>\n",
              "      <th>item_category_id</th>\n",
              "      <th>year</th>\n",
              "      <th>month</th>\n",
              "      <th>day</th>\n",
              "      <th>revenue</th>\n",
              "      <th>item_category_name_0</th>\n",
              "      <th>item_category_name_1</th>\n",
              "      <th>item_category_name_2</th>\n",
              "      <th>item_category_name_3</th>\n",
              "      <th>item_category_name_4</th>\n",
              "      <th>item_category_name_5</th>\n",
              "      <th>item_category_name_6</th>\n",
              "      <th>item_category_name_7</th>\n",
              "      <th>item_category_name_8</th>\n",
              "      <th>item_category_name_9</th>\n",
              "      <th>item_category_name_10</th>\n",
              "      <th>item_category_name_11</th>\n",
              "      <th>item_category_name_12</th>\n",
              "      <th>item_category_name_13</th>\n",
              "      <th>item_category_name_14</th>\n",
              "      <th>item_category_name_15</th>\n",
              "      <th>item_category_name_16</th>\n",
              "      <th>item_category_name_17</th>\n",
              "      <th>item_category_name_18</th>\n",
              "      <th>item_category_name_19</th>\n",
              "      <th>item_category_name_20</th>\n",
              "      <th>item_category_name_21</th>\n",
              "      <th>item_category_name_22</th>\n",
              "      <th>item_category_name_23</th>\n",
              "      <th>item_category_name_24</th>\n",
              "      <th>item_category_name_25</th>\n",
              "      <th>item_category_name_26</th>\n",
              "      <th>item_category_name_27</th>\n",
              "      <th>...</th>\n",
              "      <th>shop_name_20</th>\n",
              "      <th>shop_name_21</th>\n",
              "      <th>shop_name_22</th>\n",
              "      <th>shop_name_23</th>\n",
              "      <th>shop_name_24</th>\n",
              "      <th>shop_name_25</th>\n",
              "      <th>shop_name_26</th>\n",
              "      <th>shop_name_27</th>\n",
              "      <th>shop_name_28</th>\n",
              "      <th>shop_name_29</th>\n",
              "      <th>shop_name_30</th>\n",
              "      <th>shop_name_31</th>\n",
              "      <th>shop_name_32</th>\n",
              "      <th>shop_name_33</th>\n",
              "      <th>shop_name_34</th>\n",
              "      <th>shop_name_35</th>\n",
              "      <th>shop_name_36</th>\n",
              "      <th>shop_name_37</th>\n",
              "      <th>shop_name_38</th>\n",
              "      <th>shop_name_39</th>\n",
              "      <th>shop_name_40</th>\n",
              "      <th>shop_name_41</th>\n",
              "      <th>shop_name_42</th>\n",
              "      <th>shop_name_43</th>\n",
              "      <th>shop_name_44</th>\n",
              "      <th>shop_name_45</th>\n",
              "      <th>shop_name_46</th>\n",
              "      <th>shop_name_47</th>\n",
              "      <th>shop_name_48</th>\n",
              "      <th>shop_name_49</th>\n",
              "      <th>shop_name_50</th>\n",
              "      <th>shop_name_51</th>\n",
              "      <th>shop_name_52</th>\n",
              "      <th>shop_name_53</th>\n",
              "      <th>shop_name_54</th>\n",
              "      <th>shop_name_55</th>\n",
              "      <th>shop_name_56</th>\n",
              "      <th>shop_name_57</th>\n",
              "      <th>shop_name_58</th>\n",
              "      <th>shop_name_59</th>\n",
              "    </tr>\n",
              "  </thead>\n",
              "  <tbody>\n",
              "    <tr>\n",
              "      <th>0</th>\n",
              "      <td>2013-02-01</td>\n",
              "      <td>0</td>\n",
              "      <td>59</td>\n",
              "      <td>22154</td>\n",
              "      <td>999.0</td>\n",
              "      <td>1</td>\n",
              "      <td>Scene 2012 (BD)</td>\n",
              "      <td>37</td>\n",
              "      <td>2013</td>\n",
              "      <td>2</td>\n",
              "      <td>1</td>\n",
              "      <td>999.0</td>\n",
              "      <td>0</td>\n",
              "      <td>0</td>\n",
              "      <td>0</td>\n",
              "      <td>0</td>\n",
              "      <td>0</td>\n",
              "      <td>0</td>\n",
              "      <td>0</td>\n",
              "      <td>0</td>\n",
              "      <td>0</td>\n",
              "      <td>0</td>\n",
              "      <td>0</td>\n",
              "      <td>0</td>\n",
              "      <td>0</td>\n",
              "      <td>0</td>\n",
              "      <td>0</td>\n",
              "      <td>0</td>\n",
              "      <td>0</td>\n",
              "      <td>0</td>\n",
              "      <td>0</td>\n",
              "      <td>0</td>\n",
              "      <td>0</td>\n",
              "      <td>0</td>\n",
              "      <td>0</td>\n",
              "      <td>0</td>\n",
              "      <td>0</td>\n",
              "      <td>0</td>\n",
              "      <td>0</td>\n",
              "      <td>0</td>\n",
              "      <td>...</td>\n",
              "      <td>0</td>\n",
              "      <td>0</td>\n",
              "      <td>0</td>\n",
              "      <td>0</td>\n",
              "      <td>0</td>\n",
              "      <td>0</td>\n",
              "      <td>0</td>\n",
              "      <td>0</td>\n",
              "      <td>0</td>\n",
              "      <td>0</td>\n",
              "      <td>0</td>\n",
              "      <td>0</td>\n",
              "      <td>0</td>\n",
              "      <td>0</td>\n",
              "      <td>0</td>\n",
              "      <td>0</td>\n",
              "      <td>0</td>\n",
              "      <td>0</td>\n",
              "      <td>0</td>\n",
              "      <td>0</td>\n",
              "      <td>0</td>\n",
              "      <td>0</td>\n",
              "      <td>0</td>\n",
              "      <td>0</td>\n",
              "      <td>0</td>\n",
              "      <td>0</td>\n",
              "      <td>0</td>\n",
              "      <td>0</td>\n",
              "      <td>0</td>\n",
              "      <td>0</td>\n",
              "      <td>0</td>\n",
              "      <td>0</td>\n",
              "      <td>0</td>\n",
              "      <td>0</td>\n",
              "      <td>0</td>\n",
              "      <td>0</td>\n",
              "      <td>0</td>\n",
              "      <td>1</td>\n",
              "      <td>0</td>\n",
              "      <td>0</td>\n",
              "    </tr>\n",
              "    <tr>\n",
              "      <th>1</th>\n",
              "      <td>2013-04-26</td>\n",
              "      <td>3</td>\n",
              "      <td>59</td>\n",
              "      <td>944</td>\n",
              "      <td>150.0</td>\n",
              "      <td>1</td>\n",
              "      <td>2012 (BD)</td>\n",
              "      <td>37</td>\n",
              "      <td>2013</td>\n",
              "      <td>4</td>\n",
              "      <td>26</td>\n",
              "      <td>150.0</td>\n",
              "      <td>0</td>\n",
              "      <td>0</td>\n",
              "      <td>0</td>\n",
              "      <td>0</td>\n",
              "      <td>0</td>\n",
              "      <td>0</td>\n",
              "      <td>0</td>\n",
              "      <td>0</td>\n",
              "      <td>0</td>\n",
              "      <td>0</td>\n",
              "      <td>0</td>\n",
              "      <td>0</td>\n",
              "      <td>0</td>\n",
              "      <td>0</td>\n",
              "      <td>0</td>\n",
              "      <td>0</td>\n",
              "      <td>0</td>\n",
              "      <td>0</td>\n",
              "      <td>0</td>\n",
              "      <td>0</td>\n",
              "      <td>0</td>\n",
              "      <td>0</td>\n",
              "      <td>0</td>\n",
              "      <td>0</td>\n",
              "      <td>0</td>\n",
              "      <td>0</td>\n",
              "      <td>0</td>\n",
              "      <td>0</td>\n",
              "      <td>...</td>\n",
              "      <td>0</td>\n",
              "      <td>0</td>\n",
              "      <td>0</td>\n",
              "      <td>0</td>\n",
              "      <td>0</td>\n",
              "      <td>0</td>\n",
              "      <td>0</td>\n",
              "      <td>0</td>\n",
              "      <td>0</td>\n",
              "      <td>0</td>\n",
              "      <td>0</td>\n",
              "      <td>0</td>\n",
              "      <td>0</td>\n",
              "      <td>0</td>\n",
              "      <td>0</td>\n",
              "      <td>0</td>\n",
              "      <td>0</td>\n",
              "      <td>0</td>\n",
              "      <td>0</td>\n",
              "      <td>0</td>\n",
              "      <td>0</td>\n",
              "      <td>0</td>\n",
              "      <td>0</td>\n",
              "      <td>0</td>\n",
              "      <td>0</td>\n",
              "      <td>0</td>\n",
              "      <td>0</td>\n",
              "      <td>0</td>\n",
              "      <td>0</td>\n",
              "      <td>0</td>\n",
              "      <td>0</td>\n",
              "      <td>0</td>\n",
              "      <td>0</td>\n",
              "      <td>0</td>\n",
              "      <td>0</td>\n",
              "      <td>0</td>\n",
              "      <td>0</td>\n",
              "      <td>1</td>\n",
              "      <td>0</td>\n",
              "      <td>0</td>\n",
              "    </tr>\n",
              "    <tr>\n",
              "      <th>2</th>\n",
              "      <td>2013-06-26</td>\n",
              "      <td>5</td>\n",
              "      <td>59</td>\n",
              "      <td>944</td>\n",
              "      <td>199.5</td>\n",
              "      <td>1</td>\n",
              "      <td>2012 (BD)</td>\n",
              "      <td>37</td>\n",
              "      <td>2013</td>\n",
              "      <td>6</td>\n",
              "      <td>26</td>\n",
              "      <td>199.5</td>\n",
              "      <td>0</td>\n",
              "      <td>0</td>\n",
              "      <td>0</td>\n",
              "      <td>0</td>\n",
              "      <td>0</td>\n",
              "      <td>0</td>\n",
              "      <td>0</td>\n",
              "      <td>0</td>\n",
              "      <td>0</td>\n",
              "      <td>0</td>\n",
              "      <td>0</td>\n",
              "      <td>0</td>\n",
              "      <td>0</td>\n",
              "      <td>0</td>\n",
              "      <td>0</td>\n",
              "      <td>0</td>\n",
              "      <td>0</td>\n",
              "      <td>0</td>\n",
              "      <td>0</td>\n",
              "      <td>0</td>\n",
              "      <td>0</td>\n",
              "      <td>0</td>\n",
              "      <td>0</td>\n",
              "      <td>0</td>\n",
              "      <td>0</td>\n",
              "      <td>0</td>\n",
              "      <td>0</td>\n",
              "      <td>0</td>\n",
              "      <td>...</td>\n",
              "      <td>0</td>\n",
              "      <td>0</td>\n",
              "      <td>0</td>\n",
              "      <td>0</td>\n",
              "      <td>0</td>\n",
              "      <td>0</td>\n",
              "      <td>0</td>\n",
              "      <td>0</td>\n",
              "      <td>0</td>\n",
              "      <td>0</td>\n",
              "      <td>0</td>\n",
              "      <td>0</td>\n",
              "      <td>0</td>\n",
              "      <td>0</td>\n",
              "      <td>0</td>\n",
              "      <td>0</td>\n",
              "      <td>0</td>\n",
              "      <td>0</td>\n",
              "      <td>0</td>\n",
              "      <td>0</td>\n",
              "      <td>0</td>\n",
              "      <td>0</td>\n",
              "      <td>0</td>\n",
              "      <td>0</td>\n",
              "      <td>0</td>\n",
              "      <td>0</td>\n",
              "      <td>0</td>\n",
              "      <td>0</td>\n",
              "      <td>0</td>\n",
              "      <td>0</td>\n",
              "      <td>0</td>\n",
              "      <td>0</td>\n",
              "      <td>0</td>\n",
              "      <td>0</td>\n",
              "      <td>0</td>\n",
              "      <td>0</td>\n",
              "      <td>0</td>\n",
              "      <td>1</td>\n",
              "      <td>0</td>\n",
              "      <td>0</td>\n",
              "    </tr>\n",
              "    <tr>\n",
              "      <th>3</th>\n",
              "      <td>2013-07-20</td>\n",
              "      <td>6</td>\n",
              "      <td>59</td>\n",
              "      <td>944</td>\n",
              "      <td>199.5</td>\n",
              "      <td>1</td>\n",
              "      <td>2012 (BD)</td>\n",
              "      <td>37</td>\n",
              "      <td>2013</td>\n",
              "      <td>7</td>\n",
              "      <td>20</td>\n",
              "      <td>199.5</td>\n",
              "      <td>0</td>\n",
              "      <td>0</td>\n",
              "      <td>0</td>\n",
              "      <td>0</td>\n",
              "      <td>0</td>\n",
              "      <td>0</td>\n",
              "      <td>0</td>\n",
              "      <td>0</td>\n",
              "      <td>0</td>\n",
              "      <td>0</td>\n",
              "      <td>0</td>\n",
              "      <td>0</td>\n",
              "      <td>0</td>\n",
              "      <td>0</td>\n",
              "      <td>0</td>\n",
              "      <td>0</td>\n",
              "      <td>0</td>\n",
              "      <td>0</td>\n",
              "      <td>0</td>\n",
              "      <td>0</td>\n",
              "      <td>0</td>\n",
              "      <td>0</td>\n",
              "      <td>0</td>\n",
              "      <td>0</td>\n",
              "      <td>0</td>\n",
              "      <td>0</td>\n",
              "      <td>0</td>\n",
              "      <td>0</td>\n",
              "      <td>...</td>\n",
              "      <td>0</td>\n",
              "      <td>0</td>\n",
              "      <td>0</td>\n",
              "      <td>0</td>\n",
              "      <td>0</td>\n",
              "      <td>0</td>\n",
              "      <td>0</td>\n",
              "      <td>0</td>\n",
              "      <td>0</td>\n",
              "      <td>0</td>\n",
              "      <td>0</td>\n",
              "      <td>0</td>\n",
              "      <td>0</td>\n",
              "      <td>0</td>\n",
              "      <td>0</td>\n",
              "      <td>0</td>\n",
              "      <td>0</td>\n",
              "      <td>0</td>\n",
              "      <td>0</td>\n",
              "      <td>0</td>\n",
              "      <td>0</td>\n",
              "      <td>0</td>\n",
              "      <td>0</td>\n",
              "      <td>0</td>\n",
              "      <td>0</td>\n",
              "      <td>0</td>\n",
              "      <td>0</td>\n",
              "      <td>0</td>\n",
              "      <td>0</td>\n",
              "      <td>0</td>\n",
              "      <td>0</td>\n",
              "      <td>0</td>\n",
              "      <td>0</td>\n",
              "      <td>0</td>\n",
              "      <td>0</td>\n",
              "      <td>0</td>\n",
              "      <td>0</td>\n",
              "      <td>1</td>\n",
              "      <td>0</td>\n",
              "      <td>0</td>\n",
              "    </tr>\n",
              "    <tr>\n",
              "      <th>4</th>\n",
              "      <td>2013-09-14</td>\n",
              "      <td>8</td>\n",
              "      <td>59</td>\n",
              "      <td>944</td>\n",
              "      <td>299.0</td>\n",
              "      <td>2</td>\n",
              "      <td>2012 (BD)</td>\n",
              "      <td>37</td>\n",
              "      <td>2013</td>\n",
              "      <td>9</td>\n",
              "      <td>14</td>\n",
              "      <td>598.0</td>\n",
              "      <td>0</td>\n",
              "      <td>0</td>\n",
              "      <td>0</td>\n",
              "      <td>0</td>\n",
              "      <td>0</td>\n",
              "      <td>0</td>\n",
              "      <td>0</td>\n",
              "      <td>0</td>\n",
              "      <td>0</td>\n",
              "      <td>0</td>\n",
              "      <td>0</td>\n",
              "      <td>0</td>\n",
              "      <td>0</td>\n",
              "      <td>0</td>\n",
              "      <td>0</td>\n",
              "      <td>0</td>\n",
              "      <td>0</td>\n",
              "      <td>0</td>\n",
              "      <td>0</td>\n",
              "      <td>0</td>\n",
              "      <td>0</td>\n",
              "      <td>0</td>\n",
              "      <td>0</td>\n",
              "      <td>0</td>\n",
              "      <td>0</td>\n",
              "      <td>0</td>\n",
              "      <td>0</td>\n",
              "      <td>0</td>\n",
              "      <td>...</td>\n",
              "      <td>0</td>\n",
              "      <td>0</td>\n",
              "      <td>0</td>\n",
              "      <td>0</td>\n",
              "      <td>0</td>\n",
              "      <td>0</td>\n",
              "      <td>0</td>\n",
              "      <td>0</td>\n",
              "      <td>0</td>\n",
              "      <td>0</td>\n",
              "      <td>0</td>\n",
              "      <td>0</td>\n",
              "      <td>0</td>\n",
              "      <td>0</td>\n",
              "      <td>0</td>\n",
              "      <td>0</td>\n",
              "      <td>0</td>\n",
              "      <td>0</td>\n",
              "      <td>0</td>\n",
              "      <td>0</td>\n",
              "      <td>0</td>\n",
              "      <td>0</td>\n",
              "      <td>0</td>\n",
              "      <td>0</td>\n",
              "      <td>0</td>\n",
              "      <td>0</td>\n",
              "      <td>0</td>\n",
              "      <td>0</td>\n",
              "      <td>0</td>\n",
              "      <td>0</td>\n",
              "      <td>0</td>\n",
              "      <td>0</td>\n",
              "      <td>0</td>\n",
              "      <td>0</td>\n",
              "      <td>0</td>\n",
              "      <td>0</td>\n",
              "      <td>0</td>\n",
              "      <td>1</td>\n",
              "      <td>0</td>\n",
              "      <td>0</td>\n",
              "    </tr>\n",
              "  </tbody>\n",
              "</table>\n",
              "<p>5 rows × 156 columns</p>\n",
              "</div>"
            ],
            "text/plain": [
              "        date  date_block_num  shop_id  ...  shop_name_57  shop_name_58  shop_name_59\n",
              "0 2013-02-01               0       59  ...             1             0             0\n",
              "1 2013-04-26               3       59  ...             1             0             0\n",
              "2 2013-06-26               5       59  ...             1             0             0\n",
              "3 2013-07-20               6       59  ...             1             0             0\n",
              "4 2013-09-14               8       59  ...             1             0             0\n",
              "\n",
              "[5 rows x 156 columns]"
            ]
          },
          "metadata": {
            "tags": []
          },
          "execution_count": 99
        }
      ]
    },
    {
      "cell_type": "markdown",
      "metadata": {
        "id": "mrFvvGgZZsYs"
      },
      "source": [
        "#### Frequency encoder\n",
        "Set categorical features to frequency they occur in the dataset"
      ]
    },
    {
      "cell_type": "code",
      "metadata": {
        "id": "mrxlA_oNZsYs",
        "colab": {
          "base_uri": "https://localhost:8080/",
          "height": 204
        },
        "outputId": "a0df9269-11a3-4513-889f-996868635686"
      },
      "source": [
        "cols_to_encode = ['item_name', 'item_category_name', 'shop_name']\n",
        "salestrain_df_freq = salestrain_df_combined.copy()\n",
        "\n",
        "# grouping by frequency\n",
        "for col in cols_to_encode:\n",
        "    freq = salestrain_df_freq.groupby(col).size()/len(salestrain_df_freq)\n",
        "    salestrain_df_freq.loc[:, \"{}_freq_encode\".format(col)] = salestrain_df_freq[col].map(freq)\n",
        "    \n",
        "salestrain_df_freq.drop(columns=cols_to_encode, inplace=True)\n",
        "salestrain_df_freq.head()"
      ],
      "execution_count": null,
      "outputs": [
        {
          "output_type": "execute_result",
          "data": {
            "text/html": [
              "<div>\n",
              "<style scoped>\n",
              "    .dataframe tbody tr th:only-of-type {\n",
              "        vertical-align: middle;\n",
              "    }\n",
              "\n",
              "    .dataframe tbody tr th {\n",
              "        vertical-align: top;\n",
              "    }\n",
              "\n",
              "    .dataframe thead th {\n",
              "        text-align: right;\n",
              "    }\n",
              "</style>\n",
              "<table border=\"1\" class=\"dataframe\">\n",
              "  <thead>\n",
              "    <tr style=\"text-align: right;\">\n",
              "      <th></th>\n",
              "      <th>date</th>\n",
              "      <th>date_block_num</th>\n",
              "      <th>shop_id</th>\n",
              "      <th>item_id</th>\n",
              "      <th>item_price</th>\n",
              "      <th>item_cnt_day</th>\n",
              "      <th>item_category_id</th>\n",
              "      <th>year</th>\n",
              "      <th>month</th>\n",
              "      <th>day</th>\n",
              "      <th>revenue</th>\n",
              "      <th>item_name_freq_encode</th>\n",
              "      <th>item_category_name_freq_encode</th>\n",
              "      <th>shop_name_freq_encode</th>\n",
              "    </tr>\n",
              "  </thead>\n",
              "  <tbody>\n",
              "    <tr>\n",
              "      <th>0</th>\n",
              "      <td>2013-02-01</td>\n",
              "      <td>0</td>\n",
              "      <td>59</td>\n",
              "      <td>22154</td>\n",
              "      <td>999.0</td>\n",
              "      <td>1</td>\n",
              "      <td>37</td>\n",
              "      <td>2013</td>\n",
              "      <td>2</td>\n",
              "      <td>1</td>\n",
              "      <td>999.0</td>\n",
              "      <td>0.000020</td>\n",
              "      <td>0.065628</td>\n",
              "      <td>0.014343</td>\n",
              "    </tr>\n",
              "    <tr>\n",
              "      <th>1</th>\n",
              "      <td>2013-04-26</td>\n",
              "      <td>3</td>\n",
              "      <td>59</td>\n",
              "      <td>944</td>\n",
              "      <td>150.0</td>\n",
              "      <td>1</td>\n",
              "      <td>37</td>\n",
              "      <td>2013</td>\n",
              "      <td>4</td>\n",
              "      <td>26</td>\n",
              "      <td>150.0</td>\n",
              "      <td>0.000176</td>\n",
              "      <td>0.065628</td>\n",
              "      <td>0.014343</td>\n",
              "    </tr>\n",
              "    <tr>\n",
              "      <th>2</th>\n",
              "      <td>2013-06-26</td>\n",
              "      <td>5</td>\n",
              "      <td>59</td>\n",
              "      <td>944</td>\n",
              "      <td>199.5</td>\n",
              "      <td>1</td>\n",
              "      <td>37</td>\n",
              "      <td>2013</td>\n",
              "      <td>6</td>\n",
              "      <td>26</td>\n",
              "      <td>199.5</td>\n",
              "      <td>0.000176</td>\n",
              "      <td>0.065628</td>\n",
              "      <td>0.014343</td>\n",
              "    </tr>\n",
              "    <tr>\n",
              "      <th>3</th>\n",
              "      <td>2013-07-20</td>\n",
              "      <td>6</td>\n",
              "      <td>59</td>\n",
              "      <td>944</td>\n",
              "      <td>199.5</td>\n",
              "      <td>1</td>\n",
              "      <td>37</td>\n",
              "      <td>2013</td>\n",
              "      <td>7</td>\n",
              "      <td>20</td>\n",
              "      <td>199.5</td>\n",
              "      <td>0.000176</td>\n",
              "      <td>0.065628</td>\n",
              "      <td>0.014343</td>\n",
              "    </tr>\n",
              "    <tr>\n",
              "      <th>4</th>\n",
              "      <td>2013-09-14</td>\n",
              "      <td>8</td>\n",
              "      <td>59</td>\n",
              "      <td>944</td>\n",
              "      <td>299.0</td>\n",
              "      <td>2</td>\n",
              "      <td>37</td>\n",
              "      <td>2013</td>\n",
              "      <td>9</td>\n",
              "      <td>14</td>\n",
              "      <td>598.0</td>\n",
              "      <td>0.000176</td>\n",
              "      <td>0.065628</td>\n",
              "      <td>0.014343</td>\n",
              "    </tr>\n",
              "  </tbody>\n",
              "</table>\n",
              "</div>"
            ],
            "text/plain": [
              "        date  ...  shop_name_freq_encode\n",
              "0 2013-02-01  ...               0.014343\n",
              "1 2013-04-26  ...               0.014343\n",
              "2 2013-06-26  ...               0.014343\n",
              "3 2013-07-20  ...               0.014343\n",
              "4 2013-09-14  ...               0.014343\n",
              "\n",
              "[5 rows x 14 columns]"
            ]
          },
          "metadata": {
            "tags": []
          },
          "execution_count": 100
        }
      ]
    },
    {
      "cell_type": "markdown",
      "metadata": {
        "id": "lT_jhIh7ZsYs"
      },
      "source": [
        "#### Hashing\n",
        "Use hash functions to translate categorical feature to numeric features\n",
        "\n"
      ]
    },
    {
      "cell_type": "markdown",
      "metadata": {
        "id": "Mx9w6TkqdPd8"
      },
      "source": [
        "The values itself don't really say anything tbh, but the combination of the columns are mapped to one value within the original categorical feature\n",
        "So for example, if you would have a categorical feature, the hash function maps this string to an X number of integers"
      ]
    },
    {
      "cell_type": "code",
      "metadata": {
        "id": "iV8yr2fAZsYs",
        "colab": {
          "base_uri": "https://localhost:8080/",
          "height": 587
        },
        "outputId": "c80ed068-7168-440a-d0e1-a98d5f1315db"
      },
      "source": [
        "# currently, number of bits used to represent features is a bit random (2^x where the result is bigger than number of unique values)\n",
        "# this takes quite a bit of time to run\n",
        "cols_to_encode = ['item_name', 'item_category_name', 'shop_name']\n",
        "nr_bits = [6, 7, 15]\n",
        "salestrain_df_hash = salestrain_df_combined.copy()\n",
        "\n",
        "for bits, col in zip(nr_bits, cols_to_encode):\n",
        "    print(bits, col)\n",
        "    h = FeatureHasher(n_features=bits, input_type='string') \n",
        "    hashed_col = h.fit_transform(salestrain_df_hash[col].astype(str)).toarray()\n",
        "    salestrain_df_hash = pd.concat([salestrain_df_hash, pd.DataFrame(hashed_col)], axis = 1)\n",
        "    for i in range(bits):\n",
        "        salestrain_df_hash.rename(columns={i: col + \"_\" + str(i)}, inplace=True)\n",
        "    print(col + \" done\")\n",
        "        \n",
        "salestrain_df_hash.head()"
      ],
      "execution_count": null,
      "outputs": [
        {
          "output_type": "stream",
          "text": [
            "6 item_name\n",
            "item_name done\n",
            "7 item_category_name\n",
            "item_category_name done\n",
            "15 shop_name\n",
            "shop_name done\n"
          ],
          "name": "stdout"
        },
        {
          "output_type": "execute_result",
          "data": {
            "text/html": [
              "<div>\n",
              "<style scoped>\n",
              "    .dataframe tbody tr th:only-of-type {\n",
              "        vertical-align: middle;\n",
              "    }\n",
              "\n",
              "    .dataframe tbody tr th {\n",
              "        vertical-align: top;\n",
              "    }\n",
              "\n",
              "    .dataframe thead th {\n",
              "        text-align: right;\n",
              "    }\n",
              "</style>\n",
              "<table border=\"1\" class=\"dataframe\">\n",
              "  <thead>\n",
              "    <tr style=\"text-align: right;\">\n",
              "      <th></th>\n",
              "      <th>date</th>\n",
              "      <th>date_block_num</th>\n",
              "      <th>shop_id</th>\n",
              "      <th>item_id</th>\n",
              "      <th>item_price</th>\n",
              "      <th>item_cnt_day</th>\n",
              "      <th>item_name</th>\n",
              "      <th>item_category_id</th>\n",
              "      <th>item_category_name</th>\n",
              "      <th>shop_name</th>\n",
              "      <th>year</th>\n",
              "      <th>month</th>\n",
              "      <th>day</th>\n",
              "      <th>revenue</th>\n",
              "      <th>item_name_0</th>\n",
              "      <th>item_name_1</th>\n",
              "      <th>item_name_2</th>\n",
              "      <th>item_name_3</th>\n",
              "      <th>item_name_4</th>\n",
              "      <th>item_name_5</th>\n",
              "      <th>item_category_name_0</th>\n",
              "      <th>item_category_name_1</th>\n",
              "      <th>item_category_name_2</th>\n",
              "      <th>item_category_name_3</th>\n",
              "      <th>item_category_name_4</th>\n",
              "      <th>item_category_name_5</th>\n",
              "      <th>item_category_name_6</th>\n",
              "      <th>shop_name_0</th>\n",
              "      <th>shop_name_1</th>\n",
              "      <th>shop_name_2</th>\n",
              "      <th>shop_name_3</th>\n",
              "      <th>shop_name_4</th>\n",
              "      <th>shop_name_5</th>\n",
              "      <th>shop_name_6</th>\n",
              "      <th>shop_name_7</th>\n",
              "      <th>shop_name_8</th>\n",
              "      <th>shop_name_9</th>\n",
              "      <th>shop_name_10</th>\n",
              "      <th>shop_name_11</th>\n",
              "      <th>shop_name_12</th>\n",
              "      <th>shop_name_13</th>\n",
              "      <th>shop_name_14</th>\n",
              "    </tr>\n",
              "  </thead>\n",
              "  <tbody>\n",
              "    <tr>\n",
              "      <th>0</th>\n",
              "      <td>2013-02-01</td>\n",
              "      <td>0.0</td>\n",
              "      <td>59.0</td>\n",
              "      <td>22154.0</td>\n",
              "      <td>999.0</td>\n",
              "      <td>1.0</td>\n",
              "      <td>Scene 2012 (BD)</td>\n",
              "      <td>37.0</td>\n",
              "      <td>Movie - Blu-Ray</td>\n",
              "      <td>Yaroslavl shopping center \"Altair\"</td>\n",
              "      <td>2013.0</td>\n",
              "      <td>2.0</td>\n",
              "      <td>1.0</td>\n",
              "      <td>999.0</td>\n",
              "      <td>-2.0</td>\n",
              "      <td>-1.0</td>\n",
              "      <td>2.0</td>\n",
              "      <td>2.0</td>\n",
              "      <td>0.0</td>\n",
              "      <td>0.0</td>\n",
              "      <td>2.0</td>\n",
              "      <td>0.0</td>\n",
              "      <td>3.0</td>\n",
              "      <td>-1.0</td>\n",
              "      <td>2.0</td>\n",
              "      <td>0.0</td>\n",
              "      <td>-1.0</td>\n",
              "      <td>0.0</td>\n",
              "      <td>0.0</td>\n",
              "      <td>4.0</td>\n",
              "      <td>0.0</td>\n",
              "      <td>2.0</td>\n",
              "      <td>2.0</td>\n",
              "      <td>-4.0</td>\n",
              "      <td>1.0</td>\n",
              "      <td>-1.0</td>\n",
              "      <td>-6.0</td>\n",
              "      <td>3.0</td>\n",
              "      <td>0.0</td>\n",
              "      <td>-1.0</td>\n",
              "      <td>2.0</td>\n",
              "      <td>-2.0</td>\n",
              "    </tr>\n",
              "    <tr>\n",
              "      <th>1</th>\n",
              "      <td>2013-04-26</td>\n",
              "      <td>3.0</td>\n",
              "      <td>59.0</td>\n",
              "      <td>944.0</td>\n",
              "      <td>150.0</td>\n",
              "      <td>1.0</td>\n",
              "      <td>2012 (BD)</td>\n",
              "      <td>37.0</td>\n",
              "      <td>Movie - Blu-Ray</td>\n",
              "      <td>Yaroslavl shopping center \"Altair\"</td>\n",
              "      <td>2013.0</td>\n",
              "      <td>4.0</td>\n",
              "      <td>26.0</td>\n",
              "      <td>150.0</td>\n",
              "      <td>0.0</td>\n",
              "      <td>-3.0</td>\n",
              "      <td>1.0</td>\n",
              "      <td>2.0</td>\n",
              "      <td>0.0</td>\n",
              "      <td>1.0</td>\n",
              "      <td>2.0</td>\n",
              "      <td>0.0</td>\n",
              "      <td>3.0</td>\n",
              "      <td>-1.0</td>\n",
              "      <td>2.0</td>\n",
              "      <td>0.0</td>\n",
              "      <td>-1.0</td>\n",
              "      <td>0.0</td>\n",
              "      <td>0.0</td>\n",
              "      <td>4.0</td>\n",
              "      <td>0.0</td>\n",
              "      <td>2.0</td>\n",
              "      <td>2.0</td>\n",
              "      <td>-4.0</td>\n",
              "      <td>1.0</td>\n",
              "      <td>-1.0</td>\n",
              "      <td>-6.0</td>\n",
              "      <td>3.0</td>\n",
              "      <td>0.0</td>\n",
              "      <td>-1.0</td>\n",
              "      <td>2.0</td>\n",
              "      <td>-2.0</td>\n",
              "    </tr>\n",
              "    <tr>\n",
              "      <th>2</th>\n",
              "      <td>2013-06-26</td>\n",
              "      <td>5.0</td>\n",
              "      <td>59.0</td>\n",
              "      <td>944.0</td>\n",
              "      <td>199.5</td>\n",
              "      <td>1.0</td>\n",
              "      <td>2012 (BD)</td>\n",
              "      <td>37.0</td>\n",
              "      <td>Movie - Blu-Ray</td>\n",
              "      <td>Yaroslavl shopping center \"Altair\"</td>\n",
              "      <td>2013.0</td>\n",
              "      <td>6.0</td>\n",
              "      <td>26.0</td>\n",
              "      <td>199.5</td>\n",
              "      <td>0.0</td>\n",
              "      <td>-3.0</td>\n",
              "      <td>1.0</td>\n",
              "      <td>2.0</td>\n",
              "      <td>0.0</td>\n",
              "      <td>1.0</td>\n",
              "      <td>2.0</td>\n",
              "      <td>0.0</td>\n",
              "      <td>3.0</td>\n",
              "      <td>-1.0</td>\n",
              "      <td>2.0</td>\n",
              "      <td>0.0</td>\n",
              "      <td>-1.0</td>\n",
              "      <td>0.0</td>\n",
              "      <td>0.0</td>\n",
              "      <td>4.0</td>\n",
              "      <td>0.0</td>\n",
              "      <td>2.0</td>\n",
              "      <td>2.0</td>\n",
              "      <td>-4.0</td>\n",
              "      <td>1.0</td>\n",
              "      <td>-1.0</td>\n",
              "      <td>-6.0</td>\n",
              "      <td>3.0</td>\n",
              "      <td>0.0</td>\n",
              "      <td>-1.0</td>\n",
              "      <td>2.0</td>\n",
              "      <td>-2.0</td>\n",
              "    </tr>\n",
              "    <tr>\n",
              "      <th>3</th>\n",
              "      <td>2013-07-20</td>\n",
              "      <td>6.0</td>\n",
              "      <td>59.0</td>\n",
              "      <td>944.0</td>\n",
              "      <td>199.5</td>\n",
              "      <td>1.0</td>\n",
              "      <td>2012 (BD)</td>\n",
              "      <td>37.0</td>\n",
              "      <td>Movie - Blu-Ray</td>\n",
              "      <td>Yaroslavl shopping center \"Altair\"</td>\n",
              "      <td>2013.0</td>\n",
              "      <td>7.0</td>\n",
              "      <td>20.0</td>\n",
              "      <td>199.5</td>\n",
              "      <td>0.0</td>\n",
              "      <td>-3.0</td>\n",
              "      <td>1.0</td>\n",
              "      <td>2.0</td>\n",
              "      <td>0.0</td>\n",
              "      <td>1.0</td>\n",
              "      <td>2.0</td>\n",
              "      <td>0.0</td>\n",
              "      <td>3.0</td>\n",
              "      <td>-1.0</td>\n",
              "      <td>2.0</td>\n",
              "      <td>0.0</td>\n",
              "      <td>-1.0</td>\n",
              "      <td>0.0</td>\n",
              "      <td>0.0</td>\n",
              "      <td>4.0</td>\n",
              "      <td>0.0</td>\n",
              "      <td>2.0</td>\n",
              "      <td>2.0</td>\n",
              "      <td>-4.0</td>\n",
              "      <td>1.0</td>\n",
              "      <td>-1.0</td>\n",
              "      <td>-6.0</td>\n",
              "      <td>3.0</td>\n",
              "      <td>0.0</td>\n",
              "      <td>-1.0</td>\n",
              "      <td>2.0</td>\n",
              "      <td>-2.0</td>\n",
              "    </tr>\n",
              "    <tr>\n",
              "      <th>4</th>\n",
              "      <td>2013-09-14</td>\n",
              "      <td>8.0</td>\n",
              "      <td>59.0</td>\n",
              "      <td>944.0</td>\n",
              "      <td>299.0</td>\n",
              "      <td>2.0</td>\n",
              "      <td>2012 (BD)</td>\n",
              "      <td>37.0</td>\n",
              "      <td>Movie - Blu-Ray</td>\n",
              "      <td>Yaroslavl shopping center \"Altair\"</td>\n",
              "      <td>2013.0</td>\n",
              "      <td>9.0</td>\n",
              "      <td>14.0</td>\n",
              "      <td>598.0</td>\n",
              "      <td>0.0</td>\n",
              "      <td>-3.0</td>\n",
              "      <td>1.0</td>\n",
              "      <td>2.0</td>\n",
              "      <td>0.0</td>\n",
              "      <td>1.0</td>\n",
              "      <td>2.0</td>\n",
              "      <td>0.0</td>\n",
              "      <td>3.0</td>\n",
              "      <td>-1.0</td>\n",
              "      <td>2.0</td>\n",
              "      <td>0.0</td>\n",
              "      <td>-1.0</td>\n",
              "      <td>0.0</td>\n",
              "      <td>0.0</td>\n",
              "      <td>4.0</td>\n",
              "      <td>0.0</td>\n",
              "      <td>2.0</td>\n",
              "      <td>2.0</td>\n",
              "      <td>-4.0</td>\n",
              "      <td>1.0</td>\n",
              "      <td>-1.0</td>\n",
              "      <td>-6.0</td>\n",
              "      <td>3.0</td>\n",
              "      <td>0.0</td>\n",
              "      <td>-1.0</td>\n",
              "      <td>2.0</td>\n",
              "      <td>-2.0</td>\n",
              "    </tr>\n",
              "  </tbody>\n",
              "</table>\n",
              "</div>"
            ],
            "text/plain": [
              "        date  date_block_num  shop_id  ...  shop_name_12  shop_name_13  shop_name_14\n",
              "0 2013-02-01             0.0     59.0  ...          -1.0           2.0          -2.0\n",
              "1 2013-04-26             3.0     59.0  ...          -1.0           2.0          -2.0\n",
              "2 2013-06-26             5.0     59.0  ...          -1.0           2.0          -2.0\n",
              "3 2013-07-20             6.0     59.0  ...          -1.0           2.0          -2.0\n",
              "4 2013-09-14             8.0     59.0  ...          -1.0           2.0          -2.0\n",
              "\n",
              "[5 rows x 42 columns]"
            ]
          },
          "metadata": {
            "tags": []
          },
          "execution_count": 101
        }
      ]
    },
    {
      "cell_type": "markdown",
      "metadata": {
        "id": "vCFgEZtmZsYt"
      },
      "source": [
        "#### Target/mean encoding\n",
        "Seems to work very well in lots of applications, but can cause overfitting. Maybe use (stratified) KFold?"
      ]
    },
    {
      "cell_type": "code",
      "metadata": {
        "id": "w728H2DkZsYt",
        "colab": {
          "base_uri": "https://localhost:8080/",
          "height": 479
        },
        "outputId": "bd079f3f-f1c8-4d01-8291-4bb7f386fd73"
      },
      "source": [
        "cols_to_encode = ['item_name', 'item_category_name', 'shop_name']\n",
        "salestrain_df_mean = salestrain_df_combined.copy()\n",
        "\n",
        "# simple method, probably should do this with item_cnt_month though, should create that feature\n",
        "for col in cols_to_encode:\n",
        "    mean_enc = salestrain_df_mean.groupby(col)['item_cnt_day'].mean()\n",
        "    salestrain_df_mean.loc[:, str(col + \"_mean_encoded\")] = salestrain_df_mean[col].map(mean_enc)\n",
        "    \n",
        "salestrain_df_mean.head()"
      ],
      "execution_count": null,
      "outputs": [
        {
          "output_type": "execute_result",
          "data": {
            "text/html": [
              "<div>\n",
              "<style scoped>\n",
              "    .dataframe tbody tr th:only-of-type {\n",
              "        vertical-align: middle;\n",
              "    }\n",
              "\n",
              "    .dataframe tbody tr th {\n",
              "        vertical-align: top;\n",
              "    }\n",
              "\n",
              "    .dataframe thead th {\n",
              "        text-align: right;\n",
              "    }\n",
              "</style>\n",
              "<table border=\"1\" class=\"dataframe\">\n",
              "  <thead>\n",
              "    <tr style=\"text-align: right;\">\n",
              "      <th></th>\n",
              "      <th>date</th>\n",
              "      <th>date_block_num</th>\n",
              "      <th>shop_id</th>\n",
              "      <th>item_id</th>\n",
              "      <th>item_price</th>\n",
              "      <th>item_cnt_day</th>\n",
              "      <th>item_name</th>\n",
              "      <th>item_category_id</th>\n",
              "      <th>item_category_name</th>\n",
              "      <th>shop_name</th>\n",
              "      <th>year</th>\n",
              "      <th>month</th>\n",
              "      <th>day</th>\n",
              "      <th>revenue</th>\n",
              "      <th>item_name_mean_encoded</th>\n",
              "      <th>item_category_name_mean_encoded</th>\n",
              "      <th>shop_name_mean_encoded</th>\n",
              "    </tr>\n",
              "  </thead>\n",
              "  <tbody>\n",
              "    <tr>\n",
              "      <th>0</th>\n",
              "      <td>2013-02-01</td>\n",
              "      <td>0</td>\n",
              "      <td>59</td>\n",
              "      <td>22154</td>\n",
              "      <td>999.0</td>\n",
              "      <td>1</td>\n",
              "      <td>Scene 2012 (BD)</td>\n",
              "      <td>37</td>\n",
              "      <td>Movie - Blu-Ray</td>\n",
              "      <td>Yaroslavl shopping center \"Altair\"</td>\n",
              "      <td>2013</td>\n",
              "      <td>2</td>\n",
              "      <td>1</td>\n",
              "      <td>999.0</td>\n",
              "      <td>1.000000</td>\n",
              "      <td>1.055067</td>\n",
              "      <td>1.163508</td>\n",
              "    </tr>\n",
              "    <tr>\n",
              "      <th>1</th>\n",
              "      <td>2013-04-26</td>\n",
              "      <td>3</td>\n",
              "      <td>59</td>\n",
              "      <td>944</td>\n",
              "      <td>150.0</td>\n",
              "      <td>1</td>\n",
              "      <td>2012 (BD)</td>\n",
              "      <td>37</td>\n",
              "      <td>Movie - Blu-Ray</td>\n",
              "      <td>Yaroslavl shopping center \"Altair\"</td>\n",
              "      <td>2013</td>\n",
              "      <td>4</td>\n",
              "      <td>26</td>\n",
              "      <td>150.0</td>\n",
              "      <td>1.005803</td>\n",
              "      <td>1.055067</td>\n",
              "      <td>1.163508</td>\n",
              "    </tr>\n",
              "    <tr>\n",
              "      <th>2</th>\n",
              "      <td>2013-06-26</td>\n",
              "      <td>5</td>\n",
              "      <td>59</td>\n",
              "      <td>944</td>\n",
              "      <td>199.5</td>\n",
              "      <td>1</td>\n",
              "      <td>2012 (BD)</td>\n",
              "      <td>37</td>\n",
              "      <td>Movie - Blu-Ray</td>\n",
              "      <td>Yaroslavl shopping center \"Altair\"</td>\n",
              "      <td>2013</td>\n",
              "      <td>6</td>\n",
              "      <td>26</td>\n",
              "      <td>199.5</td>\n",
              "      <td>1.005803</td>\n",
              "      <td>1.055067</td>\n",
              "      <td>1.163508</td>\n",
              "    </tr>\n",
              "    <tr>\n",
              "      <th>3</th>\n",
              "      <td>2013-07-20</td>\n",
              "      <td>6</td>\n",
              "      <td>59</td>\n",
              "      <td>944</td>\n",
              "      <td>199.5</td>\n",
              "      <td>1</td>\n",
              "      <td>2012 (BD)</td>\n",
              "      <td>37</td>\n",
              "      <td>Movie - Blu-Ray</td>\n",
              "      <td>Yaroslavl shopping center \"Altair\"</td>\n",
              "      <td>2013</td>\n",
              "      <td>7</td>\n",
              "      <td>20</td>\n",
              "      <td>199.5</td>\n",
              "      <td>1.005803</td>\n",
              "      <td>1.055067</td>\n",
              "      <td>1.163508</td>\n",
              "    </tr>\n",
              "    <tr>\n",
              "      <th>4</th>\n",
              "      <td>2013-09-14</td>\n",
              "      <td>8</td>\n",
              "      <td>59</td>\n",
              "      <td>944</td>\n",
              "      <td>299.0</td>\n",
              "      <td>2</td>\n",
              "      <td>2012 (BD)</td>\n",
              "      <td>37</td>\n",
              "      <td>Movie - Blu-Ray</td>\n",
              "      <td>Yaroslavl shopping center \"Altair\"</td>\n",
              "      <td>2013</td>\n",
              "      <td>9</td>\n",
              "      <td>14</td>\n",
              "      <td>598.0</td>\n",
              "      <td>1.005803</td>\n",
              "      <td>1.055067</td>\n",
              "      <td>1.163508</td>\n",
              "    </tr>\n",
              "  </tbody>\n",
              "</table>\n",
              "</div>"
            ],
            "text/plain": [
              "        date  ...  shop_name_mean_encoded\n",
              "0 2013-02-01  ...                1.163508\n",
              "1 2013-04-26  ...                1.163508\n",
              "2 2013-06-26  ...                1.163508\n",
              "3 2013-07-20  ...                1.163508\n",
              "4 2013-09-14  ...                1.163508\n",
              "\n",
              "[5 rows x 17 columns]"
            ]
          },
          "metadata": {
            "tags": []
          },
          "execution_count": 102
        }
      ]
    },
    {
      "cell_type": "markdown",
      "metadata": {
        "id": "kQrjlcP4o3xl"
      },
      "source": [
        "# DBSCAN (and other clustering)\n"
      ]
    },
    {
      "cell_type": "code",
      "metadata": {
        "id": "3Gn9cSWMr2sG"
      },
      "source": [
        "from sklearn.cluster import DBSCAN"
      ],
      "execution_count": null,
      "outputs": []
    },
    {
      "cell_type": "code",
      "metadata": {
        "id": "JHA1jYSYm7Il"
      },
      "source": [
        "# creating DBSCAN data copy\n",
        "salestrain_DBSCAN = salestrain_df_combined.copy()\n",
        "X = salestrain_DBSCAN['date']\n",
        "y = salestrain_DBSCAN['revenue']\n",
        "\n",
        "\n",
        "salestrain_DBSCAN = salestrain_DBSCAN.drop(columns=['date'])"
      ],
      "execution_count": null,
      "outputs": []
    },
    {
      "cell_type": "code",
      "metadata": {
        "colab": {
          "base_uri": "https://localhost:8080/",
          "height": 605
        },
        "id": "VioAuD1fpiTM",
        "outputId": "a426b0b3-8a97-4843-cfd8-db46f0e049e5"
      },
      "source": [
        "# showing sales pre clustering\n",
        "plt.figure(figsize=(20,10))\n",
        "plt.scatter(X, y, s=15, color='grey')\n",
        "plt.show()"
      ],
      "execution_count": null,
      "outputs": [
        {
          "output_type": "display_data",
          "data": {
            "image/png": "[encoded data removed]",
            "text/plain": [
              "<Figure size 1440x720 with 1 Axes>"
            ]
          },
          "metadata": {
            "tags": []
          }
        }
      ]
    },
    {
      "cell_type": "markdown",
      "metadata": {
        "id": "_OSj1nwo5-R3"
      },
      "source": [
        "TRY CLUSTERING PART 2 WITH MITCHELLS CATEGORICAL HASHING "
      ]
    },
    {
      "cell_type": "code",
      "metadata": {
        "colab": {
          "base_uri": "https://localhost:8080/",
          "height": 204
        },
        "id": "UIvSVrXd59Wj",
        "outputId": "008bdada-75aa-451a-9553-1bd9bcc19bf1"
      },
      "source": [
        "#salestrain_df_hash.head()\n",
        "salestrin_DBSCAN = salestrain_df_hash.drop(columns=['date', 'item_name', 'item_category_name','shop_name'], axis=1)\n",
        "salestrain_DBSCAN.head()"
      ],
      "execution_count": null,
      "outputs": [
        {
          "output_type": "execute_result",
          "data": {
            "text/html": [
              "<div>\n",
              "<style scoped>\n",
              "    .dataframe tbody tr th:only-of-type {\n",
              "        vertical-align: middle;\n",
              "    }\n",
              "\n",
              "    .dataframe tbody tr th {\n",
              "        vertical-align: top;\n",
              "    }\n",
              "\n",
              "    .dataframe thead th {\n",
              "        text-align: right;\n",
              "    }\n",
              "</style>\n",
              "<table border=\"1\" class=\"dataframe\">\n",
              "  <thead>\n",
              "    <tr style=\"text-align: right;\">\n",
              "      <th></th>\n",
              "      <th>date_block_num</th>\n",
              "      <th>shop_id</th>\n",
              "      <th>item_id</th>\n",
              "      <th>item_price</th>\n",
              "      <th>item_cnt_day</th>\n",
              "      <th>item_name</th>\n",
              "      <th>item_category_id</th>\n",
              "      <th>item_category_name</th>\n",
              "      <th>shop_name</th>\n",
              "      <th>year</th>\n",
              "      <th>month</th>\n",
              "      <th>day</th>\n",
              "      <th>revenue</th>\n",
              "    </tr>\n",
              "  </thead>\n",
              "  <tbody>\n",
              "    <tr>\n",
              "      <th>0</th>\n",
              "      <td>0</td>\n",
              "      <td>59</td>\n",
              "      <td>22154</td>\n",
              "      <td>999.0</td>\n",
              "      <td>1</td>\n",
              "      <td>Scene 2012 (BD)</td>\n",
              "      <td>37</td>\n",
              "      <td>Movie - Blu-Ray</td>\n",
              "      <td>Yaroslavl shopping center \"Altair\"</td>\n",
              "      <td>2013</td>\n",
              "      <td>2</td>\n",
              "      <td>1</td>\n",
              "      <td>999.0</td>\n",
              "    </tr>\n",
              "    <tr>\n",
              "      <th>1</th>\n",
              "      <td>3</td>\n",
              "      <td>59</td>\n",
              "      <td>944</td>\n",
              "      <td>150.0</td>\n",
              "      <td>1</td>\n",
              "      <td>2012 (BD)</td>\n",
              "      <td>37</td>\n",
              "      <td>Movie - Blu-Ray</td>\n",
              "      <td>Yaroslavl shopping center \"Altair\"</td>\n",
              "      <td>2013</td>\n",
              "      <td>4</td>\n",
              "      <td>26</td>\n",
              "      <td>150.0</td>\n",
              "    </tr>\n",
              "    <tr>\n",
              "      <th>2</th>\n",
              "      <td>5</td>\n",
              "      <td>59</td>\n",
              "      <td>944</td>\n",
              "      <td>199.5</td>\n",
              "      <td>1</td>\n",
              "      <td>2012 (BD)</td>\n",
              "      <td>37</td>\n",
              "      <td>Movie - Blu-Ray</td>\n",
              "      <td>Yaroslavl shopping center \"Altair\"</td>\n",
              "      <td>2013</td>\n",
              "      <td>6</td>\n",
              "      <td>26</td>\n",
              "      <td>199.5</td>\n",
              "    </tr>\n",
              "    <tr>\n",
              "      <th>3</th>\n",
              "      <td>6</td>\n",
              "      <td>59</td>\n",
              "      <td>944</td>\n",
              "      <td>199.5</td>\n",
              "      <td>1</td>\n",
              "      <td>2012 (BD)</td>\n",
              "      <td>37</td>\n",
              "      <td>Movie - Blu-Ray</td>\n",
              "      <td>Yaroslavl shopping center \"Altair\"</td>\n",
              "      <td>2013</td>\n",
              "      <td>7</td>\n",
              "      <td>20</td>\n",
              "      <td>199.5</td>\n",
              "    </tr>\n",
              "    <tr>\n",
              "      <th>4</th>\n",
              "      <td>8</td>\n",
              "      <td>59</td>\n",
              "      <td>944</td>\n",
              "      <td>299.0</td>\n",
              "      <td>2</td>\n",
              "      <td>2012 (BD)</td>\n",
              "      <td>37</td>\n",
              "      <td>Movie - Blu-Ray</td>\n",
              "      <td>Yaroslavl shopping center \"Altair\"</td>\n",
              "      <td>2013</td>\n",
              "      <td>9</td>\n",
              "      <td>14</td>\n",
              "      <td>598.0</td>\n",
              "    </tr>\n",
              "  </tbody>\n",
              "</table>\n",
              "</div>"
            ],
            "text/plain": [
              "   date_block_num  shop_id  item_id  item_price  ...  year month  day revenue\n",
              "0               0       59    22154       999.0  ...  2013     2    1   999.0\n",
              "1               3       59      944       150.0  ...  2013     4   26   150.0\n",
              "2               5       59      944       199.5  ...  2013     6   26   199.5\n",
              "3               6       59      944       199.5  ...  2013     7   20   199.5\n",
              "4               8       59      944       299.0  ...  2013     9   14   598.0\n",
              "\n",
              "[5 rows x 13 columns]"
            ]
          },
          "metadata": {
            "tags": []
          },
          "execution_count": 106
        }
      ]
    },
    {
      "cell_type": "code",
      "metadata": {
        "id": "su-MVYGDqoVw"
      },
      "source": [
        "from sklearn.cluster import KMeans"
      ],
      "execution_count": null,
      "outputs": []
    },
    {
      "cell_type": "code",
      "metadata": {
        "colab": {
          "base_uri": "https://localhost:8080/",
          "height": 338
        },
        "id": "rKwhIlMUqt02",
        "outputId": "d7e4bf9d-7415-4762-94b2-25462f6a23b2"
      },
      "source": [
        "scaler = StandardScaler()\n",
        "data_scaled = scaler.fit_transform(salestrain_DBSCAN)"
      ],
      "execution_count": null,
      "outputs": [
        {
          "output_type": "error",
          "ename": "ValueError",
          "evalue": "ignored",
          "traceback": [
            "\u001b[0;31m---------------------------------------------------------------------------\u001b[0m",
            "\u001b[0;31mValueError\u001b[0m                                Traceback (most recent call last)",
            "\u001b[0;32m<ipython-input-108-d6d8d8c80bd6>\u001b[0m in \u001b[0;36m<module>\u001b[0;34m()\u001b[0m\n\u001b[1;32m      1\u001b[0m \u001b[0mscaler\u001b[0m \u001b[0;34m=\u001b[0m \u001b[0mStandardScaler\u001b[0m\u001b[0;34m(\u001b[0m\u001b[0;34m)\u001b[0m\u001b[0;34m\u001b[0m\u001b[0;34m\u001b[0m\u001b[0m\n\u001b[0;32m----> 2\u001b[0;31m \u001b[0mdata_scaled\u001b[0m \u001b[0;34m=\u001b[0m \u001b[0mscaler\u001b[0m\u001b[0;34m.\u001b[0m\u001b[0mfit_transform\u001b[0m\u001b[0;34m(\u001b[0m\u001b[0msalestrain_DBSCAN\u001b[0m\u001b[0;34m)\u001b[0m\u001b[0;34m\u001b[0m\u001b[0;34m\u001b[0m\u001b[0m\n\u001b[0m",
            "\u001b[0;32m/usr/local/lib/python3.7/dist-packages/sklearn/base.py\u001b[0m in \u001b[0;36mfit_transform\u001b[0;34m(self, X, y, **fit_params)\u001b[0m\n\u001b[1;32m    569\u001b[0m         \u001b[0;32mif\u001b[0m \u001b[0my\u001b[0m \u001b[0;32mis\u001b[0m \u001b[0;32mNone\u001b[0m\u001b[0;34m:\u001b[0m\u001b[0;34m\u001b[0m\u001b[0;34m\u001b[0m\u001b[0m\n\u001b[1;32m    570\u001b[0m             \u001b[0;31m# fit method of arity 1 (unsupervised transformation)\u001b[0m\u001b[0;34m\u001b[0m\u001b[0;34m\u001b[0m\u001b[0;34m\u001b[0m\u001b[0m\n\u001b[0;32m--> 571\u001b[0;31m             \u001b[0;32mreturn\u001b[0m \u001b[0mself\u001b[0m\u001b[0;34m.\u001b[0m\u001b[0mfit\u001b[0m\u001b[0;34m(\u001b[0m\u001b[0mX\u001b[0m\u001b[0;34m,\u001b[0m \u001b[0;34m**\u001b[0m\u001b[0mfit_params\u001b[0m\u001b[0;34m)\u001b[0m\u001b[0;34m.\u001b[0m\u001b[0mtransform\u001b[0m\u001b[0;34m(\u001b[0m\u001b[0mX\u001b[0m\u001b[0;34m)\u001b[0m\u001b[0;34m\u001b[0m\u001b[0;34m\u001b[0m\u001b[0m\n\u001b[0m\u001b[1;32m    572\u001b[0m         \u001b[0;32melse\u001b[0m\u001b[0;34m:\u001b[0m\u001b[0;34m\u001b[0m\u001b[0;34m\u001b[0m\u001b[0m\n\u001b[1;32m    573\u001b[0m             \u001b[0;31m# fit method of arity 2 (supervised transformation)\u001b[0m\u001b[0;34m\u001b[0m\u001b[0;34m\u001b[0m\u001b[0;34m\u001b[0m\u001b[0m\n",
            "\u001b[0;32m/usr/local/lib/python3.7/dist-packages/sklearn/preprocessing/_data.py\u001b[0m in \u001b[0;36mfit\u001b[0;34m(self, X, y)\u001b[0m\n\u001b[1;32m    667\u001b[0m         \u001b[0;31m# Reset internal state before fitting\u001b[0m\u001b[0;34m\u001b[0m\u001b[0;34m\u001b[0m\u001b[0;34m\u001b[0m\u001b[0m\n\u001b[1;32m    668\u001b[0m         \u001b[0mself\u001b[0m\u001b[0;34m.\u001b[0m\u001b[0m_reset\u001b[0m\u001b[0;34m(\u001b[0m\u001b[0;34m)\u001b[0m\u001b[0;34m\u001b[0m\u001b[0;34m\u001b[0m\u001b[0m\n\u001b[0;32m--> 669\u001b[0;31m         \u001b[0;32mreturn\u001b[0m \u001b[0mself\u001b[0m\u001b[0;34m.\u001b[0m\u001b[0mpartial_fit\u001b[0m\u001b[0;34m(\u001b[0m\u001b[0mX\u001b[0m\u001b[0;34m,\u001b[0m \u001b[0my\u001b[0m\u001b[0;34m)\u001b[0m\u001b[0;34m\u001b[0m\u001b[0;34m\u001b[0m\u001b[0m\n\u001b[0m\u001b[1;32m    670\u001b[0m \u001b[0;34m\u001b[0m\u001b[0m\n\u001b[1;32m    671\u001b[0m     \u001b[0;32mdef\u001b[0m \u001b[0mpartial_fit\u001b[0m\u001b[0;34m(\u001b[0m\u001b[0mself\u001b[0m\u001b[0;34m,\u001b[0m \u001b[0mX\u001b[0m\u001b[0;34m,\u001b[0m \u001b[0my\u001b[0m\u001b[0;34m=\u001b[0m\u001b[0;32mNone\u001b[0m\u001b[0;34m)\u001b[0m\u001b[0;34m:\u001b[0m\u001b[0;34m\u001b[0m\u001b[0;34m\u001b[0m\u001b[0m\n",
            "\u001b[0;32m/usr/local/lib/python3.7/dist-packages/sklearn/preprocessing/_data.py\u001b[0m in \u001b[0;36mpartial_fit\u001b[0;34m(self, X, y)\u001b[0m\n\u001b[1;32m    698\u001b[0m         X = check_array(X, accept_sparse=('csr', 'csc'),\n\u001b[1;32m    699\u001b[0m                         \u001b[0mestimator\u001b[0m\u001b[0;34m=\u001b[0m\u001b[0mself\u001b[0m\u001b[0;34m,\u001b[0m \u001b[0mdtype\u001b[0m\u001b[0;34m=\u001b[0m\u001b[0mFLOAT_DTYPES\u001b[0m\u001b[0;34m,\u001b[0m\u001b[0;34m\u001b[0m\u001b[0;34m\u001b[0m\u001b[0m\n\u001b[0;32m--> 700\u001b[0;31m                         force_all_finite='allow-nan')\n\u001b[0m\u001b[1;32m    701\u001b[0m \u001b[0;34m\u001b[0m\u001b[0m\n\u001b[1;32m    702\u001b[0m         \u001b[0;31m# Even in the case of `with_mean=False`, we update the mean anyway\u001b[0m\u001b[0;34m\u001b[0m\u001b[0;34m\u001b[0m\u001b[0;34m\u001b[0m\u001b[0m\n",
            "\u001b[0;32m/usr/local/lib/python3.7/dist-packages/sklearn/utils/validation.py\u001b[0m in \u001b[0;36mcheck_array\u001b[0;34m(array, accept_sparse, accept_large_sparse, dtype, order, copy, force_all_finite, ensure_2d, allow_nd, ensure_min_samples, ensure_min_features, warn_on_dtype, estimator)\u001b[0m\n\u001b[1;32m    529\u001b[0m                     \u001b[0marray\u001b[0m \u001b[0;34m=\u001b[0m \u001b[0marray\u001b[0m\u001b[0;34m.\u001b[0m\u001b[0mastype\u001b[0m\u001b[0;34m(\u001b[0m\u001b[0mdtype\u001b[0m\u001b[0;34m,\u001b[0m \u001b[0mcasting\u001b[0m\u001b[0;34m=\u001b[0m\u001b[0;34m\"unsafe\"\u001b[0m\u001b[0;34m,\u001b[0m \u001b[0mcopy\u001b[0m\u001b[0;34m=\u001b[0m\u001b[0;32mFalse\u001b[0m\u001b[0;34m)\u001b[0m\u001b[0;34m\u001b[0m\u001b[0;34m\u001b[0m\u001b[0m\n\u001b[1;32m    530\u001b[0m                 \u001b[0;32melse\u001b[0m\u001b[0;34m:\u001b[0m\u001b[0;34m\u001b[0m\u001b[0;34m\u001b[0m\u001b[0m\n\u001b[0;32m--> 531\u001b[0;31m                     \u001b[0marray\u001b[0m \u001b[0;34m=\u001b[0m \u001b[0mnp\u001b[0m\u001b[0;34m.\u001b[0m\u001b[0masarray\u001b[0m\u001b[0;34m(\u001b[0m\u001b[0marray\u001b[0m\u001b[0;34m,\u001b[0m \u001b[0morder\u001b[0m\u001b[0;34m=\u001b[0m\u001b[0morder\u001b[0m\u001b[0;34m,\u001b[0m \u001b[0mdtype\u001b[0m\u001b[0;34m=\u001b[0m\u001b[0mdtype\u001b[0m\u001b[0;34m)\u001b[0m\u001b[0;34m\u001b[0m\u001b[0;34m\u001b[0m\u001b[0m\n\u001b[0m\u001b[1;32m    532\u001b[0m             \u001b[0;32mexcept\u001b[0m \u001b[0mComplexWarning\u001b[0m\u001b[0;34m:\u001b[0m\u001b[0;34m\u001b[0m\u001b[0;34m\u001b[0m\u001b[0m\n\u001b[1;32m    533\u001b[0m                 raise ValueError(\"Complex data not supported\\n\"\n",
            "\u001b[0;32m/usr/local/lib/python3.7/dist-packages/numpy/core/_asarray.py\u001b[0m in \u001b[0;36masarray\u001b[0;34m(a, dtype, order)\u001b[0m\n\u001b[1;32m     81\u001b[0m \u001b[0;34m\u001b[0m\u001b[0m\n\u001b[1;32m     82\u001b[0m     \"\"\"\n\u001b[0;32m---> 83\u001b[0;31m     \u001b[0;32mreturn\u001b[0m \u001b[0marray\u001b[0m\u001b[0;34m(\u001b[0m\u001b[0ma\u001b[0m\u001b[0;34m,\u001b[0m \u001b[0mdtype\u001b[0m\u001b[0;34m,\u001b[0m \u001b[0mcopy\u001b[0m\u001b[0;34m=\u001b[0m\u001b[0;32mFalse\u001b[0m\u001b[0;34m,\u001b[0m \u001b[0morder\u001b[0m\u001b[0;34m=\u001b[0m\u001b[0morder\u001b[0m\u001b[0;34m)\u001b[0m\u001b[0;34m\u001b[0m\u001b[0;34m\u001b[0m\u001b[0m\n\u001b[0m\u001b[1;32m     84\u001b[0m \u001b[0;34m\u001b[0m\u001b[0m\n\u001b[1;32m     85\u001b[0m \u001b[0;34m\u001b[0m\u001b[0m\n",
            "\u001b[0;32m/usr/local/lib/python3.7/dist-packages/pandas/core/generic.py\u001b[0m in \u001b[0;36m__array__\u001b[0;34m(self, dtype)\u001b[0m\n\u001b[1;32m   1779\u001b[0m \u001b[0;34m\u001b[0m\u001b[0m\n\u001b[1;32m   1780\u001b[0m     \u001b[0;32mdef\u001b[0m \u001b[0m__array__\u001b[0m\u001b[0;34m(\u001b[0m\u001b[0mself\u001b[0m\u001b[0;34m,\u001b[0m \u001b[0mdtype\u001b[0m\u001b[0;34m=\u001b[0m\u001b[0;32mNone\u001b[0m\u001b[0;34m)\u001b[0m \u001b[0;34m->\u001b[0m \u001b[0mnp\u001b[0m\u001b[0;34m.\u001b[0m\u001b[0mndarray\u001b[0m\u001b[0;34m:\u001b[0m\u001b[0;34m\u001b[0m\u001b[0;34m\u001b[0m\u001b[0m\n\u001b[0;32m-> 1781\u001b[0;31m         \u001b[0;32mreturn\u001b[0m \u001b[0mnp\u001b[0m\u001b[0;34m.\u001b[0m\u001b[0masarray\u001b[0m\u001b[0;34m(\u001b[0m\u001b[0mself\u001b[0m\u001b[0;34m.\u001b[0m\u001b[0m_values\u001b[0m\u001b[0;34m,\u001b[0m \u001b[0mdtype\u001b[0m\u001b[0;34m=\u001b[0m\u001b[0mdtype\u001b[0m\u001b[0;34m)\u001b[0m\u001b[0;34m\u001b[0m\u001b[0;34m\u001b[0m\u001b[0m\n\u001b[0m\u001b[1;32m   1782\u001b[0m \u001b[0;34m\u001b[0m\u001b[0m\n\u001b[1;32m   1783\u001b[0m     \u001b[0;32mdef\u001b[0m \u001b[0m__array_wrap__\u001b[0m\u001b[0;34m(\u001b[0m\u001b[0mself\u001b[0m\u001b[0;34m,\u001b[0m \u001b[0mresult\u001b[0m\u001b[0;34m,\u001b[0m \u001b[0mcontext\u001b[0m\u001b[0;34m=\u001b[0m\u001b[0;32mNone\u001b[0m\u001b[0;34m)\u001b[0m\u001b[0;34m:\u001b[0m\u001b[0;34m\u001b[0m\u001b[0;34m\u001b[0m\u001b[0m\n",
            "\u001b[0;32m/usr/local/lib/python3.7/dist-packages/numpy/core/_asarray.py\u001b[0m in \u001b[0;36masarray\u001b[0;34m(a, dtype, order)\u001b[0m\n\u001b[1;32m     81\u001b[0m \u001b[0;34m\u001b[0m\u001b[0m\n\u001b[1;32m     82\u001b[0m     \"\"\"\n\u001b[0;32m---> 83\u001b[0;31m     \u001b[0;32mreturn\u001b[0m \u001b[0marray\u001b[0m\u001b[0;34m(\u001b[0m\u001b[0ma\u001b[0m\u001b[0;34m,\u001b[0m \u001b[0mdtype\u001b[0m\u001b[0;34m,\u001b[0m \u001b[0mcopy\u001b[0m\u001b[0;34m=\u001b[0m\u001b[0;32mFalse\u001b[0m\u001b[0;34m,\u001b[0m \u001b[0morder\u001b[0m\u001b[0;34m=\u001b[0m\u001b[0morder\u001b[0m\u001b[0;34m)\u001b[0m\u001b[0;34m\u001b[0m\u001b[0;34m\u001b[0m\u001b[0m\n\u001b[0m\u001b[1;32m     84\u001b[0m \u001b[0;34m\u001b[0m\u001b[0m\n\u001b[1;32m     85\u001b[0m \u001b[0;34m\u001b[0m\u001b[0m\n",
            "\u001b[0;31mValueError\u001b[0m: could not convert string to float: 'Scene 2012 (BD)'"
          ]
        }
      ]
    },
    {
      "cell_type": "code",
      "metadata": {
        "id": "UaLfPZmz5D3U"
      },
      "source": [
        "k_means = KMeans(n_clusters=4, random_state=42)\n",
        "k_means.fit(salestrain_DBSCAN[0,1])"
      ],
      "execution_count": null,
      "outputs": []
    },
    {
      "cell_type": "markdown",
      "metadata": {
        "id": "BZDYUjm-npLP"
      },
      "source": [
        "need to determine 2 things with DBSCAN, epsilon and minPoints"
      ]
    },
    {
      "cell_type": "markdown",
      "metadata": {
        "id": "DfTzu7o8S7t1"
      },
      "source": [
        "\n",
        "# good resources"
      ]
    },
    {
      "cell_type": "markdown",
      "metadata": {
        "id": "i-2TE4txy9Th"
      },
      "source": [
        "dbscan!"
      ]
    },
    {
      "cell_type": "markdown",
      "metadata": {
        "id": "1Q1LK9UwxDeQ"
      },
      "source": [
        "https://www.google.com/search?q=dbscan+python&sxsrf=ALeKk01MOpqS6o2Y-gJotJVswEPIS6thPA%3A1616814191706&ei=b6BeYL68KsKHggfYxrfgDw&oq=dbscan&gs_lcp=Cgdnd3Mtd2l6EAMYAjIECCMQJzIECAAQQzIECAAQQzIECAAQQzIECAAQQzIECAAQQzIHCAAQsQMQQzICCAAyBAgAEEMyAggAOgoILhDHARCvARBDOgoILhDHARCjAhBDOggILhCxAxCDAToNCC4QsQMQxwEQowIQQzoKCAAQsQMQgwEQQ1DFalilcmDHiwFoAHACeACAAdYLiAHZFZIBDTAuNC4xLjUtMS4wLjGYAQCgAQGqAQdnd3Mtd2l6wAEB&sclient=gws-wiz"
      ]
    },
    {
      "cell_type": "markdown",
      "metadata": {
        "id": "MsLGfrT8w5V5"
      },
      "source": [
        "https://www.kdnuggets.com/2020/04/dbscan-clustering-algorithm-machine-learning.html"
      ]
    },
    {
      "cell_type": "markdown",
      "metadata": {
        "id": "FNiS2BEHwyNx"
      },
      "source": [
        "https://www.geeksforgeeks.org/implementing-dbscan-algorithm-using-sklearn/"
      ]
    },
    {
      "cell_type": "markdown",
      "metadata": {
        "id": "gLsvtE2dwoKw"
      },
      "source": [
        "https://www.analyticsvidhya.com/blog/2020/09/how-dbscan-clustering-works/"
      ]
    },
    {
      "cell_type": "markdown",
      "metadata": {
        "id": "kV31OltAy2lu"
      },
      "source": [
        "aws colab integration"
      ]
    },
    {
      "cell_type": "markdown",
      "metadata": {
        "id": "i7kYgOBdy716"
      },
      "source": [
        "https://medium.com/@lily_su/accessing-s3-bucket-from-google-colab-16f7ee6c5b51"
      ]
    },
    {
      "cell_type": "markdown",
      "metadata": {
        "id": "kwbyMCwCzIRu"
      },
      "source": [
        "https://python.plainenglish.io/how-to-load-data-from-aws-s3-into-google-colab-7e76fbf534d2"
      ]
    },
    {
      "cell_type": "markdown",
      "metadata": {
        "id": "d_rmetK6znQ2"
      },
      "source": [
        "https://stackoverflow.com/questions/50978361/how-to-load-s3-open-dataset-in-google-colaboratory"
      ]
    },
    {
      "cell_type": "code",
      "metadata": {
        "id": "MXN8lIIPL4x3"
      },
      "source": [
        ""
      ],
      "execution_count": null,
      "outputs": []
    }
  ]
}